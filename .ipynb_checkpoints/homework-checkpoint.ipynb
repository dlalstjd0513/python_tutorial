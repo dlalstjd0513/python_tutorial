{
 "cells": [
  {
   "cell_type": "markdown",
   "id": "f7405d38-9952-4bd6-9798-cd6d6dbac4c1",
   "metadata": {
    "jp-MarkdownHeadingCollapsed": true
   },
   "source": [
    "## 4장-기타 제어 흐름 도구"
   ]
  },
  {
   "cell_type": "code",
   "execution_count": null,
   "id": "3501eac2-55aa-4c25-96a1-a3703739a631",
   "metadata": {},
   "outputs": [],
   "source": [
    "#if문\n",
    "x=int(input())\n",
    "if x <0:\n",
    "    x = 0\n",
    "    print('Negative changed to zero')\n",
    "elif x == 0:\n",
    "    print('Zero')\n",
    "elif x ==1:\n",
    "    print('one')\n",
    "else:\n",
    "    print('more')"
   ]
  },
  {
   "cell_type": "code",
   "execution_count": 29,
   "id": "2acdc775-7aa2-4434-9d36-cd5c5a1e0c03",
   "metadata": {},
   "outputs": [
    {
     "name": "stdout",
     "output_type": "stream",
     "text": [
      "cat 3\n",
      "window 6\n",
      "defen 5\n"
     ]
    }
   ],
   "source": [
    "#for문\n",
    "word=['cat','window','defen']\n",
    "for w in word:\n",
    "    print(w,len(w))"
   ]
  },
  {
   "cell_type": "code",
   "execution_count": 33,
   "id": "eafb29fd-7ca5-4f12-bbea-43377299d4f5",
   "metadata": {},
   "outputs": [],
   "source": [
    "users = {'Hans': 'active', 'Éléonore': 'inactive', '景太郎': 'active'}\n",
    "\n",
    "for user, status in users.copy().items():\n",
    "    if status == 'inactive':\n",
    "        del users[user]\n",
    "        \n",
    "activate_users={}\n",
    "for user, status in users.items():\n",
    "    if status == 'active':\n",
    "        activate_users[user] = status"
   ]
  },
  {
   "cell_type": "code",
   "execution_count": 34,
   "id": "1a73fd13-c246-4278-9731-bb00763718b1",
   "metadata": {},
   "outputs": [
    {
     "data": {
      "text/plain": [
       "{'Hans': 'active', '景太郎': 'active'}"
      ]
     },
     "execution_count": 34,
     "metadata": {},
     "output_type": "execute_result"
    }
   ],
   "source": [
    "activate_users"
   ]
  },
  {
   "cell_type": "code",
   "execution_count": 35,
   "id": "aa9ea207-147e-4744-8de3-2f28828e9b8a",
   "metadata": {},
   "outputs": [],
   "source": [
    "#range함수"
   ]
  },
  {
   "cell_type": "code",
   "execution_count": 36,
   "id": "490c66e1-639d-461e-87c2-52c812454618",
   "metadata": {},
   "outputs": [
    {
     "name": "stdout",
     "output_type": "stream",
     "text": [
      "1\n",
      "1\n",
      "1\n",
      "1\n",
      "1\n"
     ]
    }
   ],
   "source": [
    "for i in range(5):\n",
    "    print(1)"
   ]
  },
  {
   "cell_type": "code",
   "execution_count": 37,
   "id": "e21d3947-52b0-4e2f-b339-60e71f435123",
   "metadata": {},
   "outputs": [
    {
     "data": {
      "text/plain": [
       "[5, 6, 7, 8, 9]"
      ]
     },
     "execution_count": 37,
     "metadata": {},
     "output_type": "execute_result"
    }
   ],
   "source": [
    "list(range(5,10))"
   ]
  },
  {
   "cell_type": "code",
   "execution_count": 39,
   "id": "78c34bb0-137e-4369-8a0e-19f6c4d1b340",
   "metadata": {},
   "outputs": [
    {
     "data": {
      "text/plain": [
       "[0, 3, 6, 9]"
      ]
     },
     "execution_count": 39,
     "metadata": {},
     "output_type": "execute_result"
    }
   ],
   "source": [
    "list(range(0,10,3))"
   ]
  },
  {
   "cell_type": "code",
   "execution_count": 40,
   "id": "88472a8d-b682-4d52-92c4-f4605bb8e360",
   "metadata": {},
   "outputs": [
    {
     "data": {
      "text/plain": [
       "[-10, -40, -70]"
      ]
     },
     "execution_count": 40,
     "metadata": {},
     "output_type": "execute_result"
    }
   ],
   "source": [
    "list(range(-10,-100,-30))"
   ]
  },
  {
   "cell_type": "code",
   "execution_count": 43,
   "id": "5aa70a71-7bf8-4c83-8380-3dade8ee4571",
   "metadata": {},
   "outputs": [
    {
     "name": "stdout",
     "output_type": "stream",
     "text": [
      "0 Mary\n",
      "1 had\n",
      "2 a\n",
      "3 little\n",
      "4 lamb\n"
     ]
    }
   ],
   "source": [
    "a = ['Mary','had','a','little','lamb']\n",
    "for i in range(len(a)):\n",
    "    print(i,a[i])"
   ]
  },
  {
   "cell_type": "code",
   "execution_count": 44,
   "id": "1ef02f23-4358-4019-9537-6c2881c5c462",
   "metadata": {},
   "outputs": [
    {
     "data": {
      "text/plain": [
       "range(0, 10)"
      ]
     },
     "execution_count": 44,
     "metadata": {},
     "output_type": "execute_result"
    }
   ],
   "source": [
    "range(10)"
   ]
  },
  {
   "cell_type": "code",
   "execution_count": 45,
   "id": "7b0ef807-5973-4aa7-b181-4a6941948ef0",
   "metadata": {},
   "outputs": [
    {
     "data": {
      "text/plain": [
       "6"
      ]
     },
     "execution_count": 45,
     "metadata": {},
     "output_type": "execute_result"
    }
   ],
   "source": [
    "sum(range(4))"
   ]
  },
  {
   "cell_type": "code",
   "execution_count": 47,
   "id": "bba0a772-9d00-4f69-8e73-f01d8a212fac",
   "metadata": {},
   "outputs": [],
   "source": [
    "#break and continue"
   ]
  },
  {
   "cell_type": "code",
   "execution_count": 48,
   "id": "e3d152bc-02f5-4bdc-859d-e745c805f8b1",
   "metadata": {},
   "outputs": [
    {
     "name": "stdout",
     "output_type": "stream",
     "text": [
      "4 equals 2 * 2\n",
      "6 equals 2 * 3\n",
      "8 equals 2 * 4\n",
      "9 equals 3 * 3\n"
     ]
    }
   ],
   "source": [
    "for n in range(2,10):\n",
    "    for x in range(2,n):\n",
    "        if n % x == 0:\n",
    "            print(f\"{n} equals {x} * {n//x}\")\n",
    "            break"
   ]
  },
  {
   "cell_type": "code",
   "execution_count": 49,
   "id": "58535ed8-80bc-4714-9824-23c81cb30d65",
   "metadata": {},
   "outputs": [
    {
     "name": "stdout",
     "output_type": "stream",
     "text": [
      "Found an even number 2\n",
      "Found an odd number 3\n",
      "Found an even number 4\n",
      "Found an odd number 5\n",
      "Found an even number 6\n",
      "Found an odd number 7\n",
      "Found an even number 8\n",
      "Found an odd number 9\n"
     ]
    }
   ],
   "source": [
    "for num in range(2, 10):\n",
    "    if num % 2 == 0:\n",
    "        print(f\"Found an even number {num}\")\n",
    "        continue\n",
    "    print(f\"Found an odd number {num}\")"
   ]
  },
  {
   "cell_type": "code",
   "execution_count": 56,
   "id": "5f778951-db82-499e-8e61-5d31ad58e51a",
   "metadata": {},
   "outputs": [
    {
     "name": "stdout",
     "output_type": "stream",
     "text": [
      "2 is a prime number\n",
      "3 is a prime number\n",
      "4 equal 2 * 2\n",
      "5 is a prime number\n",
      "6 equal 2 * 3\n",
      "7 is a prime number\n",
      "8 equal 2 * 4\n",
      "9 equal 3 * 3\n"
     ]
    }
   ],
   "source": [
    "for n in range(2,10):\n",
    "    for x in range(2,n):\n",
    "        if n % x == 0:\n",
    "            print(n,'equal', x, '*', n//x)\n",
    "            break\n",
    "    else:\n",
    "        print(n,'is a prime number')"
   ]
  },
  {
   "cell_type": "code",
   "execution_count": 57,
   "id": "9564fd8c-67c5-4088-aa56-3e70986a45cd",
   "metadata": {},
   "outputs": [],
   "source": [
    "#pass문"
   ]
  },
  {
   "cell_type": "code",
   "execution_count": null,
   "id": "5f19738b-d1bb-4cc3-ad28-2771e19821b4",
   "metadata": {},
   "outputs": [],
   "source": [
    "while True:\n",
    "    pass"
   ]
  },
  {
   "cell_type": "code",
   "execution_count": 4,
   "id": "daf7b441-6844-4f4c-b5cc-8d7248e7a0b6",
   "metadata": {},
   "outputs": [],
   "source": [
    "class A: #최소한의 클래스를 만들때 사용\n",
    "    pass"
   ]
  },
  {
   "cell_type": "code",
   "execution_count": 5,
   "id": "30aea333-4677-457d-bb67-7211266dd775",
   "metadata": {},
   "outputs": [],
   "source": [
    "def initlog(*args): #새 코드를 작업할 때 함수나 조건부 바디의 자리를 채우는 것\n",
    "    pass #remember to implement this!"
   ]
  },
  {
   "cell_type": "code",
   "execution_count": 6,
   "id": "10a332d3-5d3f-4d06-a4cc-c33c87534c0a",
   "metadata": {},
   "outputs": [],
   "source": [
    "#match"
   ]
  },
  {
   "cell_type": "code",
   "execution_count": 7,
   "id": "cafe196f-e908-44df-b2d5-ec7684a695f9",
   "metadata": {},
   "outputs": [],
   "source": [
    "def http_error(status):\n",
    "    match status:\n",
    "        case 400:\n",
    "            return \"bad\"\n",
    "        case 404:\n",
    "            return \"not found\"\n",
    "        case 418:\n",
    "            return \"teapot\"\n",
    "        case _:\n",
    "            return \"something\""
   ]
  },
  {
   "cell_type": "code",
   "execution_count": 8,
   "id": "64e326aa-d2f0-48bb-9803-6a233dee53ec",
   "metadata": {},
   "outputs": [
    {
     "data": {
      "text/plain": [
       "'bad'"
      ]
     },
     "execution_count": 8,
     "metadata": {},
     "output_type": "execute_result"
    }
   ],
   "source": [
    "http_error(400)"
   ]
  },
  {
   "cell_type": "code",
   "execution_count": 9,
   "id": "81b69f60-44ee-41b6-b2da-416f8d21c578",
   "metadata": {},
   "outputs": [
    {
     "data": {
      "text/plain": [
       "'not found'"
      ]
     },
     "execution_count": 9,
     "metadata": {},
     "output_type": "execute_result"
    }
   ],
   "source": [
    "http_error(404)"
   ]
  },
  {
   "cell_type": "code",
   "execution_count": 10,
   "id": "5d6ab231-82a3-4c52-b781-4dcbc8c737ba",
   "metadata": {},
   "outputs": [
    {
     "data": {
      "text/plain": [
       "'something'"
      ]
     },
     "execution_count": 10,
     "metadata": {},
     "output_type": "execute_result"
    }
   ],
   "source": [
    "http_error(100)"
   ]
  },
  {
   "cell_type": "code",
   "execution_count": 11,
   "id": "4aa96d58-f9b3-4801-80d3-e55728deb8de",
   "metadata": {},
   "outputs": [
    {
     "data": {
      "text/plain": [
       "'teapot'"
      ]
     },
     "execution_count": 11,
     "metadata": {},
     "output_type": "execute_result"
    }
   ],
   "source": [
    "http_error(418)"
   ]
  },
  {
   "cell_type": "code",
   "execution_count": 13,
   "id": "9fcbdda1-8c94-4279-946b-0f4f7578adab",
   "metadata": {},
   "outputs": [],
   "source": [
    "def http_error1(status):\n",
    "    match status:\n",
    "        case 401|403|404:\n",
    "            return \"Not allow\""
   ]
  },
  {
   "cell_type": "code",
   "execution_count": 14,
   "id": "ee150a43-e709-46bb-8e7c-e6df0e56c147",
   "metadata": {},
   "outputs": [
    {
     "data": {
      "text/plain": [
       "'Not allow'"
      ]
     },
     "execution_count": 14,
     "metadata": {},
     "output_type": "execute_result"
    }
   ],
   "source": [
    "http_error1(401)"
   ]
  },
  {
   "cell_type": "code",
   "execution_count": 15,
   "id": "48c260a0-f81e-43d1-a885-f31681ff5f32",
   "metadata": {},
   "outputs": [],
   "source": [
    "http_error1(400)"
   ]
  },
  {
   "cell_type": "code",
   "execution_count": 27,
   "id": "cfff6b85-f613-4466-84a3-6aee94cccada",
   "metadata": {},
   "outputs": [],
   "source": [
    "def cal(x1,y1):\n",
    "    point = (x1,y1)\n",
    "    match point:\n",
    "        case(0,0):\n",
    "            print(\"Origin\")\n",
    "        case(0,y):\n",
    "            print(f\"Y={y}\")\n",
    "        case(x,0):\n",
    "            print(f\"XX={x}\")\n",
    "        case(x,y):\n",
    "            print(f\"X={x}, Y={y}\")\n",
    "        case _:\n",
    "            raise ValueError(\"Not a point\")"
   ]
  },
  {
   "cell_type": "code",
   "execution_count": 28,
   "id": "eb4fe7f7-9ac7-4c67-9f24-334666751c96",
   "metadata": {},
   "outputs": [
    {
     "name": "stdout",
     "output_type": "stream",
     "text": [
      "Origin\n"
     ]
    }
   ],
   "source": [
    "cal(0,0)"
   ]
  },
  {
   "cell_type": "code",
   "execution_count": 29,
   "id": "b6978cda-3485-4f71-9b9b-8a07e1ddd151",
   "metadata": {},
   "outputs": [
    {
     "name": "stdout",
     "output_type": "stream",
     "text": [
      "Origin\n"
     ]
    }
   ],
   "source": [
    "cal(y1=0,x1=0)"
   ]
  },
  {
   "cell_type": "code",
   "execution_count": 32,
   "id": "da9d1e36-735d-402a-9347-76b5386353c1",
   "metadata": {},
   "outputs": [
    {
     "name": "stdout",
     "output_type": "stream",
     "text": [
      "Y=9\n"
     ]
    }
   ],
   "source": [
    "cal(y1=9,x1=0)"
   ]
  },
  {
   "cell_type": "code",
   "execution_count": 33,
   "id": "2f76440b-677c-489a-b96b-dfdf6b0c8357",
   "metadata": {},
   "outputs": [
    {
     "name": "stdout",
     "output_type": "stream",
     "text": [
      "X=4, Y=4\n"
     ]
    }
   ],
   "source": [
    "cal(4,4)"
   ]
  },
  {
   "cell_type": "code",
   "execution_count": 50,
   "id": "c1e9efbe-9fb8-4683-8f38-0a86c1651ea6",
   "metadata": {},
   "outputs": [],
   "source": [
    "class Point:\n",
    "    def __init__(self,x,y):\n",
    "        self.x = x\n",
    "        self.y = y\n",
    "def where_is(point):\n",
    "    match point:\n",
    "        case Point(x=0,y=0):\n",
    "            print(\"Origin\")\n",
    "        case Point(x=0,y=y):\n",
    "            print(f\"Y={y}\")\n",
    "        case Point(x=x,y=0):\n",
    "            print(f\"X={x}\")\n",
    "        case Point():\n",
    "            print(\"Somewhere\")\n",
    "        case _:\n",
    "            print(\"Not a point\")"
   ]
  },
  {
   "cell_type": "code",
   "execution_count": 68,
   "id": "a5769da0-ad32-4b65-8c17-e23996160bc6",
   "metadata": {},
   "outputs": [],
   "source": [
    "a = Point(0,0) #__init__()에서 필요한 x,y값이 필요"
   ]
  },
  {
   "cell_type": "code",
   "execution_count": 69,
   "id": "10ca7afd-d18b-4108-b4b3-6c813682673b",
   "metadata": {},
   "outputs": [
    {
     "data": {
      "text/plain": [
       "<__main__.Point at 0x1f5af4eaea0>"
      ]
     },
     "execution_count": 69,
     "metadata": {},
     "output_type": "execute_result"
    }
   ],
   "source": [
    "a"
   ]
  },
  {
   "cell_type": "code",
   "execution_count": 70,
   "id": "3d7d2232-e203-4f4e-b7b5-e46fad8ad6c5",
   "metadata": {},
   "outputs": [
    {
     "data": {
      "text/plain": [
       "0"
      ]
     },
     "execution_count": 70,
     "metadata": {},
     "output_type": "execute_result"
    }
   ],
   "source": [
    "a.x"
   ]
  },
  {
   "cell_type": "code",
   "execution_count": 71,
   "id": "62275705-d393-4907-96b0-f5b4d3a9edf6",
   "metadata": {},
   "outputs": [
    {
     "data": {
      "text/plain": [
       "0"
      ]
     },
     "execution_count": 71,
     "metadata": {},
     "output_type": "execute_result"
    }
   ],
   "source": [
    "a.y"
   ]
  },
  {
   "cell_type": "code",
   "execution_count": 73,
   "id": "f06ba391-31c4-4080-bb0f-6babe5074c56",
   "metadata": {},
   "outputs": [
    {
     "name": "stdout",
     "output_type": "stream",
     "text": [
      "Origin\n"
     ]
    }
   ],
   "source": [
    "where_is(a)"
   ]
  },
  {
   "cell_type": "code",
   "execution_count": 77,
   "id": "4bd6753b-e729-4c4f-b505-e4c56e7f4374",
   "metadata": {},
   "outputs": [],
   "source": [
    "b = Point(1,'var')"
   ]
  },
  {
   "cell_type": "code",
   "execution_count": 78,
   "id": "c072b02e-bf19-4a63-9069-c215b1ea0490",
   "metadata": {},
   "outputs": [
    {
     "name": "stdout",
     "output_type": "stream",
     "text": [
      "Somewhere\n"
     ]
    }
   ],
   "source": [
    "where_is(b)"
   ]
  },
  {
   "cell_type": "code",
   "execution_count": 81,
   "id": "2ac47f83-abfd-4127-b3ea-3d061ead9f7b",
   "metadata": {},
   "outputs": [],
   "source": [
    "c = Point('aa','ff')"
   ]
  },
  {
   "cell_type": "code",
   "execution_count": 82,
   "id": "b9fa1874-94bd-45e8-be64-e76fd4d9bd31",
   "metadata": {},
   "outputs": [
    {
     "name": "stdout",
     "output_type": "stream",
     "text": [
      "Somewhere\n"
     ]
    }
   ],
   "source": [
    "where_is(c)"
   ]
  },
  {
   "cell_type": "code",
   "execution_count": 102,
   "id": "b75b65bd-f092-4eb8-80d5-f0738f226cb6",
   "metadata": {},
   "outputs": [
    {
     "name": "stdout",
     "output_type": "stream",
     "text": [
      "Single point 1, 2\n"
     ]
    }
   ],
   "source": [
    "class Point:\n",
    "    __match_args__ = ('x', 'y')\n",
    "    def __init__(self, x, y):\n",
    "        self.x = x\n",
    "        self.y = y\n",
    "points = [Point(1,2)]\n",
    "match points:\n",
    "    case []:\n",
    "        print(\"No points\")\n",
    "    case [Point(0, 0)]:\n",
    "        print(\"The origin\")\n",
    "    case [Point(x, y)]:\n",
    "        print(f\"Single point {x}, {y}\")\n",
    "    case [Point(0, y1), Point(0, y2)]:\n",
    "        print(f\"Two on the Y axis at {y1}, {y2}\")\n",
    "    case _:\n",
    "        print(\"Something else\")"
   ]
  },
  {
   "cell_type": "code",
   "execution_count": 2,
   "id": "93f3452d-f4ac-44d9-b35e-1cec6097103a",
   "metadata": {},
   "outputs": [
    {
     "name": "stdin",
     "output_type": "stream",
     "text": [
      "Enter your choice of 'red', 'blue' or 'green':  red\n"
     ]
    },
    {
     "name": "stdout",
     "output_type": "stream",
     "text": [
      "I see red!\n"
     ]
    }
   ],
   "source": [
    "from enum import Enum #열거형 enum은 고유한 상수값에 연결된 기호 이름의 집합\n",
    "class Color(Enum):\n",
    "    RED = 'red'\n",
    "    GREEN = 'green'\n",
    "    BLUE = 'blue'\n",
    "\n",
    "color = Color(input(\"Enter your choice of 'red', 'blue' or 'green': \"))\n",
    "\n",
    "match color:\n",
    "    case Color.RED:\n",
    "        print(\"I see red!\")\n",
    "    case Color.GREEN:\n",
    "        print(\"Grass is green\")\n",
    "    case Color.BLUE:\n",
    "        print(\"I'm feeling the blues :(\")"
   ]
  },
  {
   "cell_type": "code",
   "execution_count": 3,
   "id": "dbbcc6ac-7b15-432c-a4bc-644e612e6234",
   "metadata": {},
   "outputs": [
    {
     "data": {
      "text/plain": [
       "<enum 'Color'>"
      ]
     },
     "execution_count": 3,
     "metadata": {},
     "output_type": "execute_result"
    }
   ],
   "source": [
    "type(Color.GREEN)"
   ]
  },
  {
   "cell_type": "code",
   "execution_count": 5,
   "id": "3d0254c5-b3a9-452c-814b-5a93661bc4de",
   "metadata": {},
   "outputs": [
    {
     "data": {
      "text/plain": [
       "<enum 'Color'>"
      ]
     },
     "execution_count": 5,
     "metadata": {},
     "output_type": "execute_result"
    }
   ],
   "source": [
    "type(Color.BLUE)\n",
    "type(Color.RED)"
   ]
  },
  {
   "cell_type": "code",
   "execution_count": 7,
   "id": "edb0333c-7dae-41bf-953e-2ace746d6261",
   "metadata": {},
   "outputs": [
    {
     "data": {
      "text/plain": [
       "'BLUE'"
      ]
     },
     "execution_count": 7,
     "metadata": {},
     "output_type": "execute_result"
    }
   ],
   "source": [
    "Color.BLUE.name"
   ]
  },
  {
   "cell_type": "code",
   "execution_count": 8,
   "id": "8f423f2b-5e6b-46f1-94ad-7b28e60fd138",
   "metadata": {},
   "outputs": [
    {
     "data": {
      "text/plain": [
       "'blue'"
      ]
     },
     "execution_count": 8,
     "metadata": {},
     "output_type": "execute_result"
    }
   ],
   "source": [
    "Color.BLUE.value"
   ]
  },
  {
   "cell_type": "code",
   "execution_count": 11,
   "id": "ca174ee9-59ee-4a26-8643-ae76ad08cd43",
   "metadata": {},
   "outputs": [],
   "source": [
    "def fib(n):\n",
    "    a,b = 0,1\n",
    "    while a <n:\n",
    "        print(a,end=' ')\n",
    "        a, b =b,a+b\n",
    "    print()"
   ]
  },
  {
   "cell_type": "code",
   "execution_count": 13,
   "id": "6277d091-17a2-459f-9937-325f204b421d",
   "metadata": {},
   "outputs": [
    {
     "name": "stdout",
     "output_type": "stream",
     "text": [
      "0 1 1 2 3 5 8 13 \n"
     ]
    }
   ],
   "source": [
    "fib(15)"
   ]
  },
  {
   "cell_type": "code",
   "execution_count": 14,
   "id": "26085ca6-2bbc-4898-b7e7-b8485c949581",
   "metadata": {},
   "outputs": [
    {
     "data": {
      "text/plain": [
       "<function __main__.fib(n)>"
      ]
     },
     "execution_count": 14,
     "metadata": {},
     "output_type": "execute_result"
    }
   ],
   "source": [
    "fib"
   ]
  },
  {
   "cell_type": "code",
   "execution_count": 15,
   "id": "50de369c-6ca1-482e-9050-9bac147657db",
   "metadata": {},
   "outputs": [],
   "source": [
    "f = fib"
   ]
  },
  {
   "cell_type": "code",
   "execution_count": 16,
   "id": "85e01565-d9cb-4d1b-93e5-70d9b4eea7e5",
   "metadata": {},
   "outputs": [
    {
     "name": "stdout",
     "output_type": "stream",
     "text": [
      "0 1 1 2 3 5 8 13 \n"
     ]
    }
   ],
   "source": [
    "f(15)"
   ]
  },
  {
   "cell_type": "code",
   "execution_count": 21,
   "id": "d5077be9-407b-4fe3-9adc-ffb3a9bc09b3",
   "metadata": {},
   "outputs": [],
   "source": [
    "#리스트릴 사용한 피보나치 수열\n",
    "def fib2(n):\n",
    "    result = []\n",
    "    a,b = 0,1\n",
    "    while a<n:\n",
    "        result.append(a)\n",
    "        a,b=b,a+b\n",
    "    return result\n",
    "fib100=fib2(15)"
   ]
  },
  {
   "cell_type": "code",
   "execution_count": 22,
   "id": "4c00cdc5-7084-4e3d-b7ba-e4bb1d5b6d27",
   "metadata": {},
   "outputs": [
    {
     "data": {
      "text/plain": [
       "[0, 1, 1, 2, 3, 5, 8, 13]"
      ]
     },
     "execution_count": 22,
     "metadata": {},
     "output_type": "execute_result"
    }
   ],
   "source": [
    "fib100"
   ]
  },
  {
   "cell_type": "code",
   "execution_count": 23,
   "id": "5cf42da9-f11f-4ecc-b13c-e30e8ac78511",
   "metadata": {},
   "outputs": [],
   "source": [
    "def ask_ok(prompt, retries=4, reminder='Please try again!'):\n",
    "    while True:\n",
    "        reply = input(prompt)\n",
    "        if reply in {'y', 'ye', 'yes'}:\n",
    "            return True\n",
    "        if reply in {'n', 'no', 'nop', 'nope'}:\n",
    "            return False\n",
    "        retries = retries - 1\n",
    "        if retries < 0:\n",
    "            raise ValueError('invalid user response')\n",
    "        print(reminder)"
   ]
  },
  {
   "cell_type": "code",
   "execution_count": 30,
   "id": "956dace6-b2ef-4c05-9b9c-a7619c3fe26d",
   "metadata": {},
   "outputs": [
    {
     "name": "stdin",
     "output_type": "stream",
     "text": [
      "o a\n"
     ]
    },
    {
     "name": "stdout",
     "output_type": "stream",
     "text": [
      "Please try again!\n"
     ]
    },
    {
     "name": "stdin",
     "output_type": "stream",
     "text": [
      "o s\n"
     ]
    },
    {
     "name": "stdout",
     "output_type": "stream",
     "text": [
      "Please try again!\n"
     ]
    },
    {
     "name": "stdin",
     "output_type": "stream",
     "text": [
      "o c\n"
     ]
    },
    {
     "name": "stdout",
     "output_type": "stream",
     "text": [
      "Please try again!\n"
     ]
    },
    {
     "name": "stdin",
     "output_type": "stream",
     "text": [
      "o f\n"
     ]
    },
    {
     "name": "stdout",
     "output_type": "stream",
     "text": [
      "Please try again!\n"
     ]
    },
    {
     "name": "stdin",
     "output_type": "stream",
     "text": [
      "o d\n"
     ]
    },
    {
     "ename": "ValueError",
     "evalue": "invalid user response",
     "output_type": "error",
     "traceback": [
      "\u001b[1;31m---------------------------------------------------------------------------\u001b[0m",
      "\u001b[1;31mValueError\u001b[0m                                Traceback (most recent call last)",
      "Cell \u001b[1;32mIn[30], line 1\u001b[0m\n\u001b[1;32m----> 1\u001b[0m \u001b[43mask_ok\u001b[49m\u001b[43m(\u001b[49m\u001b[38;5;124;43m'\u001b[39;49m\u001b[38;5;124;43mo\u001b[39;49m\u001b[38;5;124;43m'\u001b[39;49m\u001b[43m)\u001b[49m\n",
      "Cell \u001b[1;32mIn[23], line 10\u001b[0m, in \u001b[0;36mask_ok\u001b[1;34m(prompt, retries, reminder)\u001b[0m\n\u001b[0;32m      8\u001b[0m retries \u001b[38;5;241m=\u001b[39m retries \u001b[38;5;241m-\u001b[39m \u001b[38;5;241m1\u001b[39m\n\u001b[0;32m      9\u001b[0m \u001b[38;5;28;01mif\u001b[39;00m retries \u001b[38;5;241m<\u001b[39m \u001b[38;5;241m0\u001b[39m:\n\u001b[1;32m---> 10\u001b[0m     \u001b[38;5;28;01mraise\u001b[39;00m \u001b[38;5;167;01mValueError\u001b[39;00m(\u001b[38;5;124m'\u001b[39m\u001b[38;5;124minvalid user response\u001b[39m\u001b[38;5;124m'\u001b[39m)\n\u001b[0;32m     11\u001b[0m \u001b[38;5;28mprint\u001b[39m(reminder)\n",
      "\u001b[1;31mValueError\u001b[0m: invalid user response"
     ]
    }
   ],
   "source": [
    "ask_ok('o')"
   ]
  },
  {
   "cell_type": "code",
   "execution_count": 33,
   "id": "f6e90932-3271-40e4-ac8b-547cab768836",
   "metadata": {},
   "outputs": [],
   "source": [
    "i = 5\n",
    "\n",
    "def f(arg=i):\n",
    "    print(arg)\n",
    "i=6"
   ]
  },
  {
   "cell_type": "code",
   "execution_count": 34,
   "id": "cddd3d0c-969b-4bc6-9645-894d6d5549c2",
   "metadata": {},
   "outputs": [
    {
     "name": "stdout",
     "output_type": "stream",
     "text": [
      "5\n"
     ]
    }
   ],
   "source": [
    "f()"
   ]
  },
  {
   "cell_type": "code",
   "execution_count": 36,
   "id": "00c53569-696f-4f12-924d-8adaa0f7fb2f",
   "metadata": {},
   "outputs": [
    {
     "name": "stdout",
     "output_type": "stream",
     "text": [
      "[1]\n"
     ]
    }
   ],
   "source": [
    "def f(a, L=[]):\n",
    "    L.append(a)\n",
    "    return L\n",
    "\n",
    "print(f(1))"
   ]
  },
  {
   "cell_type": "code",
   "execution_count": 38,
   "id": "f01f59d0-7e2d-4273-b731-0bbf802d8210",
   "metadata": {},
   "outputs": [
    {
     "name": "stdout",
     "output_type": "stream",
     "text": [
      "[1, 7]\n"
     ]
    }
   ],
   "source": [
    "print(f(7))"
   ]
  },
  {
   "cell_type": "code",
   "execution_count": 39,
   "id": "9b4cd6ab-afcc-4a73-89f1-63f864cdf888",
   "metadata": {},
   "outputs": [],
   "source": [
    "def f(a, L=None):\n",
    "    if L is None:\n",
    "        L = []\n",
    "    L.append(a)\n",
    "    return L"
   ]
  },
  {
   "cell_type": "code",
   "execution_count": 40,
   "id": "2abfbcde-ee9c-4150-a106-eae5ede3bd01",
   "metadata": {},
   "outputs": [
    {
     "name": "stdout",
     "output_type": "stream",
     "text": [
      "[1]\n",
      "[4]\n",
      "[7]\n"
     ]
    }
   ],
   "source": [
    "print(f(1))\n",
    "print(f(4))\n",
    "print(f(7))"
   ]
  },
  {
   "cell_type": "code",
   "execution_count": 41,
   "id": "eff9e423-b86d-4ae8-ab18-44b0710eb38d",
   "metadata": {},
   "outputs": [],
   "source": [
    "#key-argument"
   ]
  },
  {
   "cell_type": "code",
   "execution_count": 45,
   "id": "e55b8baf-a158-48de-84ca-2295cc5bcc6d",
   "metadata": {},
   "outputs": [],
   "source": [
    "def parrot(voltage, state='a staff', action='voom', type='Norwegian Blue'):\n",
    "    print(\"-- This parrot wouldn't\", action, end=' ')\n",
    "    print(\"if you put\", voltage, \"volts through it.\")\n",
    "    print(\"-- Lovely plumage, the\", type)\n",
    "    print(\"-- It's\", state, \"!\")"
   ]
  },
  {
   "cell_type": "code",
   "execution_count": 46,
   "id": "581339a4-19c7-43a0-ba69-f80ede1366c1",
   "metadata": {},
   "outputs": [
    {
     "name": "stdout",
     "output_type": "stream",
     "text": [
      "-- This parrot wouldn't voom if you put 100 volts through it.\n",
      "-- Lovely plumage, the Norwegian Blue\n",
      "-- It's a staff !\n"
     ]
    }
   ],
   "source": [
    "parrot(100)"
   ]
  },
  {
   "cell_type": "code",
   "execution_count": 58,
   "id": "d56b8fdb-9ba7-4963-99c1-9e023d5e9c59",
   "metadata": {},
   "outputs": [
    {
     "name": "stdout",
     "output_type": "stream",
     "text": [
      "-- This parrot wouldn't voom if you put 1000 volts through it.\n",
      "-- Lovely plumage, the Norwegian Blue\n",
      "-- It's a staff !\n",
      "-- This parrot wouldn't voom if you put 1000 volts through it.\n",
      "-- Lovely plumage, the Norwegian Blue\n",
      "-- It's a staff !\n",
      "-- This parrot wouldn't VOOOOOM if you put 1000000 volts through it.\n",
      "-- Lovely plumage, the Norwegian Blue\n",
      "-- It's a staff !\n",
      "-- This parrot wouldn't VOOOOOM if you put 1000000 volts through it.\n",
      "-- Lovely plumage, the Norwegian Blue\n",
      "-- It's a staff !\n",
      "-- This parrot wouldn't jump if you put a million volts through it.\n",
      "-- Lovely plumage, the Norwegian Blue\n",
      "-- It's bereft of life !\n",
      "-- This parrot wouldn't voom if you put a thousand volts through it.\n",
      "-- Lovely plumage, the Norwegian Blue\n",
      "-- It's pushing up the daisies !\n"
     ]
    }
   ],
   "source": [
    "parrot(1000)                                          # 1 positional argument\n",
    "parrot(voltage=1000)                                  # 1 keyword argument\n",
    "parrot(voltage=1000000, action='VOOOOOM')             # 2 keyword arguments\n",
    "parrot(action='VOOOOOM', voltage=1000000)             # 2 keyword arguments\n",
    "parrot('a million', 'bereft of life', 'jump')         # 3 positional arguments\n",
    "parrot('a thousand', state='pushing up the daisies')"
   ]
  },
  {
   "cell_type": "code",
   "execution_count": 60,
   "id": "2c3c9307-9b22-40c0-a579-faab0c246ef2",
   "metadata": {},
   "outputs": [
    {
     "name": "stdout",
     "output_type": "stream",
     "text": [
      "-- This parrot wouldn't vimmm if you put 100 volts through it.\n",
      "-- Lovely plumage, the heellllo\n",
      "-- It's lego !\n"
     ]
    }
   ],
   "source": [
    "parrot(voltage=100, action = 'vimmm', type='heellllo', state='lego')"
   ]
  },
  {
   "cell_type": "code",
   "execution_count": 66,
   "id": "ba8ce8f3-b7e1-46fd-9d00-8e52ad5a9bbf",
   "metadata": {},
   "outputs": [
    {
     "name": "stdout",
     "output_type": "stream",
     "text": [
      "-- This parrot wouldn't voom if you put 520 volts through it.\n",
      "-- Lovely plumage, the Norwegian Blue\n",
      "-- It's a staff !\n",
      "-- This parrot wouldn't dead if you put 5.0 volts through it.\n",
      "-- Lovely plumage, the Norwegian Blue\n",
      "-- It's a staff !\n",
      "-- This parrot wouldn't voom if you put 220 volts through it.\n",
      "-- Lovely plumage, the Norwegian Blue\n",
      "-- It's 0110 !\n",
      "-- This parrot wouldn't John Cleese if you put 10 volts through it.\n",
      "-- Lovely plumage, the Norwegian Blue\n",
      "-- It's a staff !\n"
     ]
    }
   ],
   "source": [
    "parrot(520)                     # required argument missing\n",
    "parrot(voltage=5.0, action='dead')  # non-keyword argument after a keyword argument\n",
    "parrot(state='0110', voltage=220)     # duplicate value for the same argument\n",
    "parrot(voltage=10,action='John Cleese')"
   ]
  },
  {
   "cell_type": "code",
   "execution_count": 67,
   "id": "9ae1ecd8-c139-4526-b714-218f5cac16fc",
   "metadata": {},
   "outputs": [],
   "source": [
    "def function(a):\n",
    "    pass"
   ]
  },
  {
   "cell_type": "code",
   "execution_count": 68,
   "id": "27510759-7f78-40e2-adde-e0e3ce8371b7",
   "metadata": {},
   "outputs": [
    {
     "ename": "TypeError",
     "evalue": "function() got multiple values for argument 'a'",
     "output_type": "error",
     "traceback": [
      "\u001b[1;31m---------------------------------------------------------------------------\u001b[0m",
      "\u001b[1;31mTypeError\u001b[0m                                 Traceback (most recent call last)",
      "Cell \u001b[1;32mIn[68], line 1\u001b[0m\n\u001b[1;32m----> 1\u001b[0m \u001b[43mfunction\u001b[49m\u001b[43m(\u001b[49m\u001b[38;5;241;43m0\u001b[39;49m\u001b[43m,\u001b[49m\u001b[43ma\u001b[49m\u001b[38;5;241;43m=\u001b[39;49m\u001b[38;5;241;43m0\u001b[39;49m\u001b[43m)\u001b[49m\n",
      "\u001b[1;31mTypeError\u001b[0m: function() got multiple values for argument 'a'"
     ]
    }
   ],
   "source": [
    "function(0,a=0)"
   ]
  },
  {
   "cell_type": "code",
   "execution_count": 69,
   "id": "34c7f11c-ca5d-4cd6-9dcb-4a231f655345",
   "metadata": {},
   "outputs": [],
   "source": [
    "function(a=0)"
   ]
  },
  {
   "cell_type": "code",
   "execution_count": 76,
   "id": "43452d33-a314-426f-a7b0-68876c32922a",
   "metadata": {},
   "outputs": [],
   "source": [
    "def function2(a,b):\n",
    "    return a,b"
   ]
  },
  {
   "cell_type": "code",
   "execution_count": 80,
   "id": "b880db7d-aea0-4e48-a0ac-4a4d1af676c9",
   "metadata": {},
   "outputs": [
    {
     "data": {
      "text/plain": [
       "(2, 1)"
      ]
     },
     "execution_count": 80,
     "metadata": {},
     "output_type": "execute_result"
    }
   ],
   "source": [
    "function2(b=1,a=2)"
   ]
  },
  {
   "cell_type": "code",
   "execution_count": 82,
   "id": "923d5214-b34c-4202-8f15-14c886c22bbd",
   "metadata": {},
   "outputs": [
    {
     "data": {
      "text/plain": [
       "(1, 3)"
      ]
     },
     "execution_count": 82,
     "metadata": {},
     "output_type": "execute_result"
    }
   ],
   "source": [
    "function2(a=1,b=3)"
   ]
  },
  {
   "cell_type": "code",
   "execution_count": 83,
   "id": "bdcb0b3e-df19-4f5b-9772-ecb8637554ea",
   "metadata": {},
   "outputs": [
    {
     "data": {
      "text/plain": [
       "(2, 5)"
      ]
     },
     "execution_count": 83,
     "metadata": {},
     "output_type": "execute_result"
    }
   ],
   "source": [
    "function2(2,5)"
   ]
  },
  {
   "cell_type": "code",
   "execution_count": 89,
   "id": "6458e24a-9e0a-4d48-9871-0415f1cc4e75",
   "metadata": {},
   "outputs": [],
   "source": [
    "def cheeseshop(kind, *arguments, **keywords):\n",
    "    print(\"-- Do you have any\", kind, \"?\")\n",
    "    print(\"-- I'm sorry, we're all out of\", kind)\n",
    "    for arg in arguments:\n",
    "        print(arg)\n",
    "    print(\"-\" * 40)\n",
    "    for kw in keywords:\n",
    "        print(kw, \":\", keywords[kw])"
   ]
  },
  {
   "cell_type": "code",
   "execution_count": 90,
   "id": "83aef241-71d2-44f0-aed8-e38efc7417b6",
   "metadata": {},
   "outputs": [
    {
     "name": "stdout",
     "output_type": "stream",
     "text": [
      "-- Do you have any Limburger ?\n",
      "-- I'm sorry, we're all out of Limburger\n",
      "It's very runny, sir.\n",
      "It's really very, VERY runny, sir.\n",
      "----------------------------------------\n",
      "shopkeeper : Michael Palin\n",
      "client : John Cleese\n",
      "sketch : Cheese Shop Sketch\n"
     ]
    }
   ],
   "source": [
    "cheeseshop(\"Limburger\", \"It's very runny, sir.\",\n",
    "           \"It's really very, VERY runny, sir.\",\n",
    "           shopkeeper=\"Michael Palin\",\n",
    "           client=\"John Cleese\",\n",
    "           sketch=\"Cheese Shop Sketch\")"
   ]
  },
  {
   "cell_type": "markdown",
   "id": "93b7170c-01a9-4550-a814-929d8124a278",
   "metadata": {},
   "source": [
    "def f(pos1, pos2, /, pos_or_kwd, *, kwd1, kwd2):\n",
    "      -----------    ----------     ----------\n",
    "        |             |                  |\n",
    "        |        Positional or keyword   |\n",
    "        |                                - Keyword only\n",
    "         -- Positional only"
   ]
  },
  {
   "cell_type": "markdown",
   "id": "86dee200-8171-41f3-8d01-9c4e3fe1be02",
   "metadata": {},
   "source": [
    "전달 방식             저장되는 자료형\n",
    "*args(위치 인자)       튜플(tuple)\n",
    "**kwargs(키워드 인자)  딕셔너리(dict)"
   ]
  },
  {
   "cell_type": "code",
   "execution_count": 104,
   "id": "4fea89ae-f69f-487f-9e12-9a8f85963b32",
   "metadata": {},
   "outputs": [],
   "source": [
    "def standard_arg(arg):\n",
    "    print(arg)\n",
    "\n",
    "def pos_only_arg(arg,/): #/가 있으니 위치 매개 변수만 사용해야함\n",
    "    print(arg)\n",
    "\n",
    "def kwd_only_arg(*,arg): #*뒤는 무조건 키워드 매개 변수만 사용해야함\n",
    "    print(arg)\n",
    "\n",
    "def combines_example(pos_only, /, standard, *, kwd_only):\n",
    "    print(pos_only, standard, kwd_only)"
   ]
  },
  {
   "cell_type": "code",
   "execution_count": 105,
   "id": "ce35c32f-5323-43ad-aafd-5ac30d9c4e4d",
   "metadata": {},
   "outputs": [
    {
     "name": "stdout",
     "output_type": "stream",
     "text": [
      "2\n"
     ]
    }
   ],
   "source": [
    "standard_arg(2)"
   ]
  },
  {
   "cell_type": "code",
   "execution_count": 106,
   "id": "d70d49c5-bf9b-44ce-90b1-cd4fb47a9094",
   "metadata": {},
   "outputs": [
    {
     "name": "stdout",
     "output_type": "stream",
     "text": [
      "2\n"
     ]
    }
   ],
   "source": [
    "standard_arg(arg=2)"
   ]
  },
  {
   "cell_type": "code",
   "execution_count": 107,
   "id": "1f593bc1-08e6-4da7-897f-3aec4ed7258b",
   "metadata": {},
   "outputs": [
    {
     "name": "stdout",
     "output_type": "stream",
     "text": [
      "1\n",
      "2\n"
     ]
    }
   ],
   "source": [
    "pos_only_arg(1)\n",
    "pos_only_arg(2)"
   ]
  },
  {
   "cell_type": "code",
   "execution_count": 108,
   "id": "e5e7287a-a0c4-429b-a073-3bd740daa107",
   "metadata": {},
   "outputs": [
    {
     "name": "stdout",
     "output_type": "stream",
     "text": [
      "3\n"
     ]
    }
   ],
   "source": [
    "kwd_only_arg(arg=3)"
   ]
  },
  {
   "cell_type": "code",
   "execution_count": 109,
   "id": "def3d804-6959-4108-9bee-c99e890e817c",
   "metadata": {},
   "outputs": [
    {
     "ename": "TypeError",
     "evalue": "combines_example() takes 2 positional arguments but 3 were given",
     "output_type": "error",
     "traceback": [
      "\u001b[1;31m---------------------------------------------------------------------------\u001b[0m",
      "\u001b[1;31mTypeError\u001b[0m                                 Traceback (most recent call last)",
      "Cell \u001b[1;32mIn[109], line 1\u001b[0m\n\u001b[1;32m----> 1\u001b[0m \u001b[43mcombines_example\u001b[49m\u001b[43m(\u001b[49m\u001b[38;5;241;43m1\u001b[39;49m\u001b[43m,\u001b[49m\u001b[38;5;241;43m2\u001b[39;49m\u001b[43m,\u001b[49m\u001b[38;5;241;43m3\u001b[39;49m\u001b[43m)\u001b[49m\n",
      "\u001b[1;31mTypeError\u001b[0m: combines_example() takes 2 positional arguments but 3 were given"
     ]
    }
   ],
   "source": [
    "combines_example(1,2,3)"
   ]
  },
  {
   "cell_type": "code",
   "execution_count": 110,
   "id": "637aa5b2-6cca-4d42-909b-1a34e3dd7692",
   "metadata": {},
   "outputs": [
    {
     "name": "stdout",
     "output_type": "stream",
     "text": [
      "1 2 3\n"
     ]
    }
   ],
   "source": [
    "combines_example(1,2,kwd_only=3)"
   ]
  },
  {
   "cell_type": "code",
   "execution_count": 111,
   "id": "e66932be-6904-4afc-bcee-0d849cab5476",
   "metadata": {},
   "outputs": [
    {
     "name": "stdout",
     "output_type": "stream",
     "text": [
      "1 2 3\n"
     ]
    }
   ],
   "source": [
    "combines_example(1,standard=2,kwd_only=3)"
   ]
  },
  {
   "cell_type": "code",
   "execution_count": 114,
   "id": "1856487b-3a94-4b12-95f0-337ef64e2b5a",
   "metadata": {},
   "outputs": [],
   "source": [
    "def foo(name, /,**kwds):\n",
    "    return 'name' in kwds"
   ]
  },
  {
   "cell_type": "code",
   "execution_count": 115,
   "id": "43d7dad9-9864-4196-a081-ef4f918ce5f3",
   "metadata": {},
   "outputs": [
    {
     "data": {
      "text/plain": [
       "True"
      ]
     },
     "execution_count": 115,
     "metadata": {},
     "output_type": "execute_result"
    }
   ],
   "source": [
    "foo(1, **{'name':2})"
   ]
  },
  {
   "cell_type": "code",
   "execution_count": 2,
   "id": "d4dd07c2-57af-4a01-9dcf-d3b5e18e43e6",
   "metadata": {},
   "outputs": [],
   "source": [
    "def f(pos1,po2,/,pos_or_kwd,*,kwd1,kwd2):\n",
    "    print(pos1,po2,pos_or_kwd,kwd1,kwd2)"
   ]
  },
  {
   "cell_type": "code",
   "execution_count": 4,
   "id": "5da2d61d-c9b5-4cbe-91d8-4c38b1f33ff3",
   "metadata": {},
   "outputs": [
    {
     "name": "stdout",
     "output_type": "stream",
     "text": [
      "1 2 3 9 6\n"
     ]
    }
   ],
   "source": [
    "f(1,2,3,kwd2=6,kwd1=9)"
   ]
  },
  {
   "cell_type": "code",
   "execution_count": 22,
   "id": "09bad5cf-5e30-446a-b645-a9ec5e624cc6",
   "metadata": {},
   "outputs": [],
   "source": [
    "def write_multiple_items(file, separator, *args):\n",
    "    file.write(separator.join(args))"
   ]
  },
  {
   "cell_type": "code",
   "execution_count": 23,
   "id": "ff55a41d-b4c5-45b6-8338-5f797c42a1a1",
   "metadata": {},
   "outputs": [],
   "source": [
    "def concat(*args, sep=\"/\"):\n",
    "    return sep.join(args)"
   ]
  },
  {
   "cell_type": "code",
   "execution_count": 24,
   "id": "7e75df15-849f-4702-b3db-3411d1ffd311",
   "metadata": {},
   "outputs": [
    {
     "data": {
      "text/plain": [
       "'earth/mars/venus'"
      ]
     },
     "execution_count": 24,
     "metadata": {},
     "output_type": "execute_result"
    }
   ],
   "source": [
    "concat(\"earth\",\"mars\",\"venus\")"
   ]
  },
  {
   "cell_type": "code",
   "execution_count": 25,
   "id": "47deb8c9-4b98-4083-b3b1-ecf12791074e",
   "metadata": {},
   "outputs": [
    {
     "data": {
      "text/plain": [
       "'earth.mars.venus'"
      ]
     },
     "execution_count": 25,
     "metadata": {},
     "output_type": "execute_result"
    }
   ],
   "source": [
    "concat(\"earth\", \"mars\", \"venus\", sep=\".\")"
   ]
  },
  {
   "cell_type": "code",
   "execution_count": 26,
   "id": "e3de5b5c-41ba-40f6-a8d8-81fce1eb030e",
   "metadata": {},
   "outputs": [
    {
     "data": {
      "text/plain": [
       "[3, 4, 5]"
      ]
     },
     "execution_count": 26,
     "metadata": {},
     "output_type": "execute_result"
    }
   ],
   "source": [
    "list(range(3,6))"
   ]
  },
  {
   "cell_type": "code",
   "execution_count": 27,
   "id": "531f0f08-aed3-4748-9667-49a30776f77e",
   "metadata": {},
   "outputs": [],
   "source": [
    "args = [3,6]"
   ]
  },
  {
   "cell_type": "code",
   "execution_count": 32,
   "id": "6d72f396-91d7-4b4c-85df-efd47d8dc9d2",
   "metadata": {},
   "outputs": [
    {
     "data": {
      "text/plain": [
       "[3, 6]"
      ]
     },
     "execution_count": 32,
     "metadata": {},
     "output_type": "execute_result"
    }
   ],
   "source": [
    "args"
   ]
  },
  {
   "cell_type": "code",
   "execution_count": 33,
   "id": "a2aa4ab2-4477-45ca-9e24-472016b005d8",
   "metadata": {},
   "outputs": [
    {
     "data": {
      "text/plain": [
       "[3, 4, 5]"
      ]
     },
     "execution_count": 33,
     "metadata": {},
     "output_type": "execute_result"
    }
   ],
   "source": [
    "list(range(*args))"
   ]
  },
  {
   "cell_type": "code",
   "execution_count": 35,
   "id": "16708aa2-8adc-4cf3-8cd9-053838748aef",
   "metadata": {},
   "outputs": [],
   "source": [
    "a=[1,7]"
   ]
  },
  {
   "cell_type": "code",
   "execution_count": 36,
   "id": "1b1ceb3c-77c2-4b48-9f35-d96e72d5f029",
   "metadata": {},
   "outputs": [
    {
     "data": {
      "text/plain": [
       "[1, 7]"
      ]
     },
     "execution_count": 36,
     "metadata": {},
     "output_type": "execute_result"
    }
   ],
   "source": [
    "a"
   ]
  },
  {
   "cell_type": "code",
   "execution_count": 37,
   "id": "cd07d838-2866-40f9-9c59-e5d14747a4fd",
   "metadata": {},
   "outputs": [
    {
     "data": {
      "text/plain": [
       "[1, 2, 3, 4, 5, 6]"
      ]
     },
     "execution_count": 37,
     "metadata": {},
     "output_type": "execute_result"
    }
   ],
   "source": [
    "list(range(*a))"
   ]
  },
  {
   "cell_type": "code",
   "execution_count": 38,
   "id": "50275bc1-2a74-4916-a356-31510c503cd2",
   "metadata": {},
   "outputs": [],
   "source": [
    "b=(1,5)"
   ]
  },
  {
   "cell_type": "code",
   "execution_count": 39,
   "id": "6f3ac655-88ed-469a-9014-53e7c03be2e6",
   "metadata": {},
   "outputs": [
    {
     "data": {
      "text/plain": [
       "(1, 5)"
      ]
     },
     "execution_count": 39,
     "metadata": {},
     "output_type": "execute_result"
    }
   ],
   "source": [
    "b"
   ]
  },
  {
   "cell_type": "code",
   "execution_count": 40,
   "id": "0d54d4dc-35dc-4881-b210-93b7f9764a12",
   "metadata": {},
   "outputs": [
    {
     "data": {
      "text/plain": [
       "[1, 2, 3, 4]"
      ]
     },
     "execution_count": 40,
     "metadata": {},
     "output_type": "execute_result"
    }
   ],
   "source": [
    "list(range(*b))"
   ]
  },
  {
   "cell_type": "code",
   "execution_count": 44,
   "id": "991b5040-3e1a-4ba4-9c7f-2de14e04d1d7",
   "metadata": {},
   "outputs": [],
   "source": [
    "c=(1,2,5)"
   ]
  },
  {
   "cell_type": "code",
   "execution_count": 45,
   "id": "4cc0a801-49fc-48b0-9a8e-b5ebae271ba7",
   "metadata": {},
   "outputs": [
    {
     "data": {
      "text/plain": [
       "(1, 2, 5)"
      ]
     },
     "execution_count": 45,
     "metadata": {},
     "output_type": "execute_result"
    }
   ],
   "source": [
    "c"
   ]
  },
  {
   "cell_type": "code",
   "execution_count": 46,
   "id": "4804dfd0-ce49-4ee4-93a5-46b983920ed1",
   "metadata": {},
   "outputs": [
    {
     "data": {
      "text/plain": [
       "[1]"
      ]
     },
     "execution_count": 46,
     "metadata": {},
     "output_type": "execute_result"
    }
   ],
   "source": [
    "list(range(*c))"
   ]
  },
  {
   "cell_type": "code",
   "execution_count": 47,
   "id": "17fbf7b9-85f6-4c1f-8a82-ec84634e1f42",
   "metadata": {},
   "outputs": [],
   "source": [
    "d=(1,5,2)"
   ]
  },
  {
   "cell_type": "code",
   "execution_count": 48,
   "id": "fe3c5dc5-e124-4f59-8718-2bff7821c35d",
   "metadata": {},
   "outputs": [
    {
     "data": {
      "text/plain": [
       "[1, 3]"
      ]
     },
     "execution_count": 48,
     "metadata": {},
     "output_type": "execute_result"
    }
   ],
   "source": [
    "list(range(*d))"
   ]
  },
  {
   "cell_type": "code",
   "execution_count": 49,
   "id": "84cbc20b-e7c5-480c-a0e5-6c2607a3d802",
   "metadata": {},
   "outputs": [],
   "source": [
    "def parrot(voltage, state='a stiff', action='voom'):\n",
    "    print(\"-- This parrot wouldn't\", action, end=' ')\n",
    "    print(\"if you put\", voltage, \"volts through it.\", end=' ')\n",
    "    print(\"E's\", state, \"!\")"
   ]
  },
  {
   "cell_type": "code",
   "execution_count": 55,
   "id": "ea88db23-efdc-43ef-bd4b-605b551421e9",
   "metadata": {},
   "outputs": [],
   "source": [
    "d={\"voltage\":\"777 mullion\", \"state\":\"GGGG\", \"action\":\"bloom\"}"
   ]
  },
  {
   "cell_type": "code",
   "execution_count": 56,
   "id": "052aa4b4-707e-4b7b-9cf3-0a79a8530f7b",
   "metadata": {},
   "outputs": [
    {
     "name": "stdout",
     "output_type": "stream",
     "text": [
      "-- This parrot wouldn't bloom if you put 777 mullion volts through it. E's GGGG !\n"
     ]
    }
   ],
   "source": [
    "parrot(**d)"
   ]
  },
  {
   "cell_type": "code",
   "execution_count": 58,
   "id": "116088cd-949f-4990-8d97-7f8aaf757b00",
   "metadata": {},
   "outputs": [
    {
     "name": "stdout",
     "output_type": "stream",
     "text": [
      "-- This parrot wouldn't voom if you put 400 volts through it. E's a stiff !\n"
     ]
    }
   ],
   "source": [
    "parrot(voltage=400)"
   ]
  },
  {
   "cell_type": "code",
   "execution_count": 59,
   "id": "c1384820-0e8e-4f54-8f32-a31daaa1e4e7",
   "metadata": {},
   "outputs": [
    {
     "name": "stdout",
     "output_type": "stream",
     "text": [
      "-- This parrot wouldn't dd if you put ddddd volts through it. E's d !\n"
     ]
    }
   ],
   "source": [
    "parrot(state='d', action='dd', voltage='ddddd')"
   ]
  },
  {
   "cell_type": "code",
   "execution_count": 65,
   "id": "9465ab23-876e-4d1b-9f37-8e30fc62576f",
   "metadata": {},
   "outputs": [],
   "source": [
    "def a(n):\n",
    "    return lambda x:x+n"
   ]
  },
  {
   "cell_type": "code",
   "execution_count": 66,
   "id": "cd94ce1d-d7ef-471e-a228-56704ce9b671",
   "metadata": {},
   "outputs": [],
   "source": [
    "f = a(10)"
   ]
  },
  {
   "cell_type": "code",
   "execution_count": 67,
   "id": "681de836-456b-403d-871a-8d513dc256ff",
   "metadata": {},
   "outputs": [
    {
     "data": {
      "text/plain": [
       "11"
      ]
     },
     "execution_count": 67,
     "metadata": {},
     "output_type": "execute_result"
    }
   ],
   "source": [
    "f(1)"
   ]
  },
  {
   "cell_type": "code",
   "execution_count": 68,
   "id": "73c7fe7a-3608-4682-b2a1-58643b541803",
   "metadata": {},
   "outputs": [
    {
     "data": {
      "text/plain": [
       "12"
      ]
     },
     "execution_count": 68,
     "metadata": {},
     "output_type": "execute_result"
    }
   ],
   "source": [
    "f(2)"
   ]
  },
  {
   "cell_type": "code",
   "execution_count": 69,
   "id": "86fa91b9-e611-4443-84b2-dbcbde68f3e5",
   "metadata": {},
   "outputs": [],
   "source": [
    "def aa(a,b):\n",
    "    return lambda a,b : a+b"
   ]
  },
  {
   "cell_type": "code",
   "execution_count": 70,
   "id": "82545fcc-d10f-4a41-ba60-52e991ab9a22",
   "metadata": {},
   "outputs": [
    {
     "data": {
      "text/plain": [
       "<function __main__.aa.<locals>.<lambda>(a, b)>"
      ]
     },
     "execution_count": 70,
     "metadata": {},
     "output_type": "execute_result"
    }
   ],
   "source": [
    "aa(1,10)"
   ]
  },
  {
   "cell_type": "code",
   "execution_count": 73,
   "id": "63ea84c7-ea93-4dc9-91ad-37b309cd4b44",
   "metadata": {},
   "outputs": [],
   "source": [
    "func = aa(1,10)"
   ]
  },
  {
   "cell_type": "code",
   "execution_count": 75,
   "id": "ec01e6db-835e-4cd4-b665-2abf088293d8",
   "metadata": {},
   "outputs": [
    {
     "name": "stdout",
     "output_type": "stream",
     "text": [
      "11\n"
     ]
    }
   ],
   "source": [
    "print(func(1,10))"
   ]
  },
  {
   "cell_type": "code",
   "execution_count": 76,
   "id": "c2ca6457-66a8-493f-8226-a3229963902d",
   "metadata": {},
   "outputs": [],
   "source": [
    "pairs = [(1, 'one'), (2, 'two'), (3, 'three'), (4, 'four')]"
   ]
  },
  {
   "cell_type": "code",
   "execution_count": 80,
   "id": "924c1d90-10d9-4ddc-b79c-1bb2d59a35dd",
   "metadata": {},
   "outputs": [],
   "source": [
    "pairs.sort(key=lambda pair: pair[1]) #튜플의 두번째 요소(문자열)가 key"
   ]
  },
  {
   "cell_type": "code",
   "execution_count": 81,
   "id": "0a10e6d2-0e24-4e34-997f-151748f9a134",
   "metadata": {},
   "outputs": [
    {
     "data": {
      "text/plain": [
       "[(4, 'four'), (1, 'one'), (3, 'three'), (2, 'two')]"
      ]
     },
     "execution_count": 81,
     "metadata": {},
     "output_type": "execute_result"
    }
   ],
   "source": [
    "pairs # 알파벳이 먼저인 순서대로 정렬"
   ]
  },
  {
   "cell_type": "code",
   "execution_count": 82,
   "id": "db94bab5-7f4d-422e-a5cf-de2d4387dea5",
   "metadata": {},
   "outputs": [],
   "source": [
    "def my_function():\n",
    "    \"\"\"Do nothing, but document it.\n",
    "\n",
    "    No, really, it doesn't do anything.\n",
    "    \"\"\"\n",
    "    pass"
   ]
  },
  {
   "cell_type": "code",
   "execution_count": 84,
   "id": "f315d8bb-6f3d-4225-a454-4e7d1b4cfc07",
   "metadata": {},
   "outputs": [
    {
     "name": "stdout",
     "output_type": "stream",
     "text": [
      "Do nothing, but document it.\n",
      "\n",
      "    No, really, it doesn't do anything.\n",
      "    \n"
     ]
    }
   ],
   "source": [
    "print(my_function.__doc__)"
   ]
  },
  {
   "cell_type": "code",
   "execution_count": 85,
   "id": "2cff2294-556d-4e71-8a86-d0e1b11e765e",
   "metadata": {},
   "outputs": [],
   "source": [
    "def f(ham: str, eggs: str = 'eggs') -> str: #->str은 문자열을 반환한다.\n",
    "    print(\"Annotations:\", f.__annotations__) #f.__annotations__는 함수에 달린 타입 힌트 정보담은 딕셔너리\n",
    "    print(\"Arguments:\", ham, eggs)\n",
    "    return ham + ' and ' + eggs"
   ]
  },
  {
   "cell_type": "code",
   "execution_count": 87,
   "id": "9ef06923-0f6d-4fc8-bfd2-b2f49436c2c4",
   "metadata": {},
   "outputs": [
    {
     "name": "stdout",
     "output_type": "stream",
     "text": [
      "Annotations: {'ham': <class 'str'>, 'eggs': <class 'str'>, 'return': <class 'str'>}\n",
      "Arguments: spam eggs\n"
     ]
    },
    {
     "data": {
      "text/plain": [
       "'spam and eggs'"
      ]
     },
     "execution_count": 87,
     "metadata": {},
     "output_type": "execute_result"
    }
   ],
   "source": [
    "f('spam')"
   ]
  },
  {
   "cell_type": "markdown",
   "id": "68ad3d1a-ca70-47a4-af5f-3eb081feccb4",
   "metadata": {
    "jp-MarkdownHeadingCollapsed": true
   },
   "source": [
    "## 5장-자료구조"
   ]
  },
  {
   "cell_type": "code",
   "execution_count": 1,
   "id": "22c41b5e-e059-47cb-8bbd-cf36d4df49e5",
   "metadata": {},
   "outputs": [],
   "source": [
    "fruits = ['orange', 'apple', 'pear', 'banana', 'kiwi', 'apple', 'banana']"
   ]
  },
  {
   "cell_type": "code",
   "execution_count": 2,
   "id": "7a0eead9-dea2-4b3e-873e-af91de1353ed",
   "metadata": {},
   "outputs": [
    {
     "data": {
      "text/plain": [
       "2"
      ]
     },
     "execution_count": 2,
     "metadata": {},
     "output_type": "execute_result"
    }
   ],
   "source": [
    "fruits.count('apple')"
   ]
  },
  {
   "cell_type": "code",
   "execution_count": 3,
   "id": "3aa25e73-06ff-4256-a783-af0209e8449d",
   "metadata": {},
   "outputs": [
    {
     "data": {
      "text/plain": [
       "1"
      ]
     },
     "execution_count": 3,
     "metadata": {},
     "output_type": "execute_result"
    }
   ],
   "source": [
    "fruits.count('orange')"
   ]
  },
  {
   "cell_type": "code",
   "execution_count": 4,
   "id": "d57edf5e-c1df-4eed-a483-cce275e09d30",
   "metadata": {},
   "outputs": [
    {
     "data": {
      "text/plain": [
       "0"
      ]
     },
     "execution_count": 4,
     "metadata": {},
     "output_type": "execute_result"
    }
   ],
   "source": [
    "fruits.count('tangerine')"
   ]
  },
  {
   "cell_type": "code",
   "execution_count": 6,
   "id": "1d796157-4718-4146-8ed5-5a469c654522",
   "metadata": {},
   "outputs": [
    {
     "data": {
      "text/plain": [
       "3"
      ]
     },
     "execution_count": 6,
     "metadata": {},
     "output_type": "execute_result"
    }
   ],
   "source": [
    "fruits.index('banana')"
   ]
  },
  {
   "cell_type": "code",
   "execution_count": 9,
   "id": "ee40556b-a1e8-48ae-9cb2-6e8613129999",
   "metadata": {},
   "outputs": [
    {
     "data": {
      "text/plain": [
       "6"
      ]
     },
     "execution_count": 9,
     "metadata": {},
     "output_type": "execute_result"
    }
   ],
   "source": [
    "fruits.index('banana', 4) #4번 인섹스를 시작으로 첫번째로 만나는 'banana'의 인덱스를 return"
   ]
  },
  {
   "cell_type": "code",
   "execution_count": 8,
   "id": "6a48fe53-a8a5-410e-a0f3-6b4708dcdb58",
   "metadata": {},
   "outputs": [
    {
     "data": {
      "text/plain": [
       "3"
      ]
     },
     "execution_count": 8,
     "metadata": {},
     "output_type": "execute_result"
    }
   ],
   "source": [
    "fruits.index('banana', 1)"
   ]
  },
  {
   "cell_type": "code",
   "execution_count": 10,
   "id": "8f30a116-dc30-4a0c-bc57-16aef7f6ceb4",
   "metadata": {},
   "outputs": [],
   "source": [
    "fruits.reverse()"
   ]
  },
  {
   "cell_type": "code",
   "execution_count": 11,
   "id": "b7424fb4-54bc-4961-8141-18911300eaca",
   "metadata": {},
   "outputs": [
    {
     "data": {
      "text/plain": [
       "['banana', 'apple', 'kiwi', 'banana', 'pear', 'apple', 'orange']"
      ]
     },
     "execution_count": 11,
     "metadata": {},
     "output_type": "execute_result"
    }
   ],
   "source": [
    "fruits"
   ]
  },
  {
   "cell_type": "code",
   "execution_count": 12,
   "id": "864dd373-f7de-4448-b50e-8522cdd205ac",
   "metadata": {},
   "outputs": [],
   "source": [
    "fruits.append('grape')"
   ]
  },
  {
   "cell_type": "code",
   "execution_count": 13,
   "id": "66807d79-8a6f-4de5-a408-03df0bd98869",
   "metadata": {},
   "outputs": [
    {
     "data": {
      "text/plain": [
       "['banana', 'apple', 'kiwi', 'banana', 'pear', 'apple', 'orange', 'grape']"
      ]
     },
     "execution_count": 13,
     "metadata": {},
     "output_type": "execute_result"
    }
   ],
   "source": [
    "fruits"
   ]
  },
  {
   "cell_type": "code",
   "execution_count": 14,
   "id": "940f2164-cdf7-49e8-85b4-b4223b21f326",
   "metadata": {},
   "outputs": [],
   "source": [
    "fruits.sort()"
   ]
  },
  {
   "cell_type": "code",
   "execution_count": 15,
   "id": "d69b2e42-183e-47e6-9c94-53d7d83e96e3",
   "metadata": {},
   "outputs": [
    {
     "data": {
      "text/plain": [
       "['apple', 'apple', 'banana', 'banana', 'grape', 'kiwi', 'orange', 'pear']"
      ]
     },
     "execution_count": 15,
     "metadata": {},
     "output_type": "execute_result"
    }
   ],
   "source": [
    "fruits"
   ]
  },
  {
   "cell_type": "code",
   "execution_count": 16,
   "id": "1d89f852-823f-4f4c-a7b9-5b2b452b9c5c",
   "metadata": {},
   "outputs": [
    {
     "data": {
      "text/plain": [
       "'pear'"
      ]
     },
     "execution_count": 16,
     "metadata": {},
     "output_type": "execute_result"
    }
   ],
   "source": [
    "fruits.pop()"
   ]
  },
  {
   "cell_type": "code",
   "execution_count": 17,
   "id": "f1b1d5c5-3e43-4983-8cce-fdab23528e94",
   "metadata": {},
   "outputs": [],
   "source": [
    "stack=[1,2,3]"
   ]
  },
  {
   "cell_type": "code",
   "execution_count": 18,
   "id": "785b2084-c5ea-4e98-851f-81f6de0fde7d",
   "metadata": {},
   "outputs": [],
   "source": [
    "stack.append(6)"
   ]
  },
  {
   "cell_type": "code",
   "execution_count": 19,
   "id": "8ca501a8-12da-44de-994c-fe4501687496",
   "metadata": {},
   "outputs": [],
   "source": [
    "stack.append(7)"
   ]
  },
  {
   "cell_type": "code",
   "execution_count": 20,
   "id": "945afff8-4653-4e83-9ef0-871f5399f3b8",
   "metadata": {},
   "outputs": [
    {
     "data": {
      "text/plain": [
       "[1, 2, 3, 6, 7]"
      ]
     },
     "execution_count": 20,
     "metadata": {},
     "output_type": "execute_result"
    }
   ],
   "source": [
    "\n",
    "stack"
   ]
  },
  {
   "cell_type": "code",
   "execution_count": 21,
   "id": "8d0b78b1-a0e4-464e-ac78-2a030165cfe7",
   "metadata": {},
   "outputs": [
    {
     "data": {
      "text/plain": [
       "7"
      ]
     },
     "execution_count": 21,
     "metadata": {},
     "output_type": "execute_result"
    }
   ],
   "source": [
    "stack.pop()"
   ]
  },
  {
   "cell_type": "code",
   "execution_count": 22,
   "id": "18533083-e01d-4b88-ab7d-693f4f8e08b5",
   "metadata": {},
   "outputs": [
    {
     "data": {
      "text/plain": [
       "6"
      ]
     },
     "execution_count": 22,
     "metadata": {},
     "output_type": "execute_result"
    }
   ],
   "source": [
    "stack.pop()"
   ]
  },
  {
   "cell_type": "code",
   "execution_count": 23,
   "id": "4a42a3e2-a6f7-407e-96cb-e4f23bb639c1",
   "metadata": {},
   "outputs": [
    {
     "data": {
      "text/plain": [
       "[1, 2, 3]"
      ]
     },
     "execution_count": 23,
     "metadata": {},
     "output_type": "execute_result"
    }
   ],
   "source": [
    "stack"
   ]
  },
  {
   "cell_type": "code",
   "execution_count": 24,
   "id": "5d2bb1dc-42de-4410-b86a-b6d755c9f51d",
   "metadata": {},
   "outputs": [],
   "source": [
    "from collections import deque"
   ]
  },
  {
   "cell_type": "code",
   "execution_count": 31,
   "id": "9b073097-e343-49bd-bdb1-2dc279d80420",
   "metadata": {},
   "outputs": [],
   "source": [
    "queue = deque([\"Eric\", \"John\", \"Michael\"])"
   ]
  },
  {
   "cell_type": "code",
   "execution_count": 32,
   "id": "ae22dc70-a0f1-4fea-9db5-ab011486c433",
   "metadata": {},
   "outputs": [],
   "source": [
    "queue.append(\"Terry\") "
   ]
  },
  {
   "cell_type": "code",
   "execution_count": 33,
   "id": "e80b69ef-987a-410d-8841-ac1adac49980",
   "metadata": {},
   "outputs": [],
   "source": [
    "queue.append(\"Graham\")"
   ]
  },
  {
   "cell_type": "code",
   "execution_count": 34,
   "id": "de462da0-9acd-40c7-b137-abf3c1dc120b",
   "metadata": {},
   "outputs": [
    {
     "data": {
      "text/plain": [
       "deque(['Eric', 'John', 'Michael', 'Terry', 'Graham'])"
      ]
     },
     "execution_count": 34,
     "metadata": {},
     "output_type": "execute_result"
    }
   ],
   "source": [
    "queue"
   ]
  },
  {
   "cell_type": "code",
   "execution_count": 35,
   "id": "c9b539c0-e9d7-46d5-bdb0-8d657b36e920",
   "metadata": {},
   "outputs": [
    {
     "data": {
      "text/plain": [
       "'Eric'"
      ]
     },
     "execution_count": 35,
     "metadata": {},
     "output_type": "execute_result"
    }
   ],
   "source": [
    "queue.popleft()"
   ]
  },
  {
   "cell_type": "code",
   "execution_count": 36,
   "id": "ce9c47ef-c32c-4a2a-a479-4217cd226283",
   "metadata": {},
   "outputs": [
    {
     "data": {
      "text/plain": [
       "deque(['John', 'Michael', 'Terry', 'Graham'])"
      ]
     },
     "execution_count": 36,
     "metadata": {},
     "output_type": "execute_result"
    }
   ],
   "source": [
    "queue"
   ]
  },
  {
   "cell_type": "code",
   "execution_count": 38,
   "id": "bfeea7c6-6eca-4250-901b-2ebc7aa390fa",
   "metadata": {},
   "outputs": [
    {
     "data": {
      "text/plain": [
       "'Graham'"
      ]
     },
     "execution_count": 38,
     "metadata": {},
     "output_type": "execute_result"
    }
   ],
   "source": [
    "queue.pop()"
   ]
  },
  {
   "cell_type": "code",
   "execution_count": 40,
   "id": "c52abb10-57ed-41a2-bc2a-6e2aebe102ea",
   "metadata": {},
   "outputs": [
    {
     "data": {
      "text/plain": [
       "deque(['John', 'Michael', 'Terry'])"
      ]
     },
     "execution_count": 40,
     "metadata": {},
     "output_type": "execute_result"
    }
   ],
   "source": [
    "queue"
   ]
  },
  {
   "cell_type": "code",
   "execution_count": 42,
   "id": "8b540322-d06c-44bc-9a90-1b6102886e61",
   "metadata": {},
   "outputs": [],
   "source": [
    "squares = []\n",
    "for x in range(10):\n",
    "    squares.append(x**2)"
   ]
  },
  {
   "cell_type": "code",
   "execution_count": 43,
   "id": "738e06a3-5521-44e0-9064-be657c151425",
   "metadata": {},
   "outputs": [
    {
     "data": {
      "text/plain": [
       "[0, 1, 4, 9, 16, 25, 36, 49, 64, 81]"
      ]
     },
     "execution_count": 43,
     "metadata": {},
     "output_type": "execute_result"
    }
   ],
   "source": [
    "squares"
   ]
  },
  {
   "cell_type": "code",
   "execution_count": 47,
   "id": "ab6c713d-e816-4aa9-8a63-7f40603fe3d3",
   "metadata": {},
   "outputs": [],
   "source": [
    "squares = list(map(lambda x: x**2, range(10)))"
   ]
  },
  {
   "cell_type": "code",
   "execution_count": 48,
   "id": "3ed1d543-4ccf-46a3-899c-957923eefc02",
   "metadata": {},
   "outputs": [
    {
     "data": {
      "text/plain": [
       "[0, 1, 4, 9, 16, 25, 36, 49, 64, 81]"
      ]
     },
     "execution_count": 48,
     "metadata": {},
     "output_type": "execute_result"
    }
   ],
   "source": [
    "squares"
   ]
  },
  {
   "cell_type": "code",
   "execution_count": 51,
   "id": "eef9feb0-2ed7-448c-98cc-171ee04fc0f5",
   "metadata": {},
   "outputs": [],
   "source": [
    "squares = [x**2 for x in range(10)]"
   ]
  },
  {
   "cell_type": "code",
   "execution_count": 52,
   "id": "711c6213-0ce4-413c-b224-50694fab3367",
   "metadata": {},
   "outputs": [
    {
     "data": {
      "text/plain": [
       "[0, 1, 4, 9, 16, 25, 36, 49, 64, 81]"
      ]
     },
     "execution_count": 52,
     "metadata": {},
     "output_type": "execute_result"
    }
   ],
   "source": [
    "squares"
   ]
  },
  {
   "cell_type": "code",
   "execution_count": 53,
   "id": "7b0600f7-4156-453e-b57a-8bf20c8b5eba",
   "metadata": {},
   "outputs": [
    {
     "data": {
      "text/plain": [
       "[(1, 3), (1, 4), (2, 3), (2, 1), (2, 4), (3, 1), (3, 4)]"
      ]
     },
     "execution_count": 53,
     "metadata": {},
     "output_type": "execute_result"
    }
   ],
   "source": [
    "[(x, y) for x in [1,2,3] for y in [3,1,4] if x != y]"
   ]
  },
  {
   "cell_type": "code",
   "execution_count": 54,
   "id": "11f27170-4e44-49e1-867d-6353609c0cea",
   "metadata": {},
   "outputs": [],
   "source": [
    "combs = []\n",
    "for x in [1,2,3]:\n",
    "    for y in [3,1,4]:\n",
    "        if x != y:\n",
    "            combs.append((x, y))\n"
   ]
  },
  {
   "cell_type": "code",
   "execution_count": 56,
   "id": "f5f3192a-524a-4633-9619-996112b1861d",
   "metadata": {},
   "outputs": [
    {
     "data": {
      "text/plain": [
       "[(1, 3), (1, 4), (2, 3), (2, 1), (2, 4), (3, 1), (3, 4)]"
      ]
     },
     "execution_count": 56,
     "metadata": {},
     "output_type": "execute_result"
    }
   ],
   "source": [
    "combs"
   ]
  },
  {
   "cell_type": "code",
   "execution_count": 57,
   "id": "c33479f4-2475-48f0-9c6b-4c96f1cb6bcc",
   "metadata": {},
   "outputs": [
    {
     "data": {
      "text/plain": [
       "[-8, -4, 0, 4, 8]"
      ]
     },
     "execution_count": 57,
     "metadata": {},
     "output_type": "execute_result"
    }
   ],
   "source": [
    "vec = [-4, -2, 0, 2, 4]\n",
    "[x*2 for x in vec]"
   ]
  },
  {
   "cell_type": "code",
   "execution_count": 58,
   "id": "a9d2d4f9-cc4b-4553-b7bc-aad5a0ca5660",
   "metadata": {},
   "outputs": [
    {
     "data": {
      "text/plain": [
       "[0, 2, 4]"
      ]
     },
     "execution_count": 58,
     "metadata": {},
     "output_type": "execute_result"
    }
   ],
   "source": [
    "[x for x in vec if x>=0]"
   ]
  },
  {
   "cell_type": "code",
   "execution_count": 61,
   "id": "1fde09ff-39e5-456d-84c5-29c96716e034",
   "metadata": {},
   "outputs": [
    {
     "data": {
      "text/plain": [
       "[4, 2, 0, 2, 4]"
      ]
     },
     "execution_count": 61,
     "metadata": {},
     "output_type": "execute_result"
    }
   ],
   "source": [
    "[abs(x) for x in vec] #절댓값"
   ]
  },
  {
   "cell_type": "code",
   "execution_count": 62,
   "id": "8f9bfc25-cf46-478c-aee0-1331dadf6c9d",
   "metadata": {},
   "outputs": [],
   "source": [
    "freshfruit = ['  banana', '  loganberry ', 'passion fruit  ']"
   ]
  },
  {
   "cell_type": "code",
   "execution_count": 64,
   "id": "f1f9035d-4b3b-4e8e-b467-1d4773b59fcd",
   "metadata": {},
   "outputs": [
    {
     "data": {
      "text/plain": [
       "['banana', 'loganberry', 'passion fruit']"
      ]
     },
     "execution_count": 64,
     "metadata": {},
     "output_type": "execute_result"
    }
   ],
   "source": [
    "[weapon.strip() for weapon in freshfruit] #strip()_문자열 및 공백 제거"
   ]
  },
  {
   "cell_type": "code",
   "execution_count": 65,
   "id": "fd334acc-450a-49fc-976f-14e1971c91db",
   "metadata": {},
   "outputs": [],
   "source": [
    "freshfruit1 = ['  ba nana', '  loga nberry ', 'pas sion fruit  ']"
   ]
  },
  {
   "cell_type": "code",
   "execution_count": 66,
   "id": "6fde81aa-420f-4499-b511-4e0962452009",
   "metadata": {},
   "outputs": [
    {
     "data": {
      "text/plain": [
       "['ba nana', 'loga nberry', 'pas sion fruit']"
      ]
     },
     "execution_count": 66,
     "metadata": {},
     "output_type": "execute_result"
    }
   ],
   "source": [
    "[weapon.strip() for weapon in freshfruit1] #strip()_문자열 및 공백 제거"
   ]
  },
  {
   "cell_type": "code",
   "execution_count": 69,
   "id": "13180ef1-ba0d-4563-ba4c-5bc680a4b6a0",
   "metadata": {},
   "outputs": [
    {
     "data": {
      "text/plain": [
       "['  ba nan', '  loga nberry ', 'pas sion fruit  ']"
      ]
     },
     "execution_count": 69,
     "metadata": {},
     "output_type": "execute_result"
    }
   ],
   "source": [
    "[weapon.strip('a') for weapon in freshfruit1] #strip()_문자열 및 공백 제거"
   ]
  },
  {
   "cell_type": "code",
   "execution_count": 70,
   "id": "6e99b2d6-8043-4b26-be3b-82d20312c3ed",
   "metadata": {},
   "outputs": [
    {
     "data": {
      "text/plain": [
       "[(0, 0), (1, 1), (2, 4), (3, 9), (4, 16), (5, 25)]"
      ]
     },
     "execution_count": 70,
     "metadata": {},
     "output_type": "execute_result"
    }
   ],
   "source": [
    "[(x, x**2) for x in range(6)]"
   ]
  },
  {
   "cell_type": "code",
   "execution_count": 72,
   "id": "f254df4f-bc0e-405c-92df-3daa62a66f8b",
   "metadata": {},
   "outputs": [
    {
     "ename": "SyntaxError",
     "evalue": "did you forget parentheses around the comprehension target? (2087500592.py, line 1)",
     "output_type": "error",
     "traceback": [
      "\u001b[1;36m  Cell \u001b[1;32mIn[72], line 1\u001b[1;36m\u001b[0m\n\u001b[1;33m    [x, x**2 for x in range(6)] #괄호\u001b[0m\n\u001b[1;37m     ^\u001b[0m\n\u001b[1;31mSyntaxError\u001b[0m\u001b[1;31m:\u001b[0m did you forget parentheses around the comprehension target?\n"
     ]
    }
   ],
   "source": [
    "[x, x**2 for x in range(6)] #괄호"
   ]
  },
  {
   "cell_type": "code",
   "execution_count": 73,
   "id": "684ef03f-691d-4ae0-a6ad-8b9d9b352db3",
   "metadata": {},
   "outputs": [],
   "source": [
    "vec = [[1,2,3], [4,5,6], [7,8,9]]"
   ]
  },
  {
   "cell_type": "code",
   "execution_count": 74,
   "id": "b4e86c87-922a-4850-98c5-be0099f2bbdf",
   "metadata": {},
   "outputs": [
    {
     "data": {
      "text/plain": [
       "[1, 2, 3, 4, 5, 6, 7, 8, 9]"
      ]
     },
     "execution_count": 74,
     "metadata": {},
     "output_type": "execute_result"
    }
   ],
   "source": [
    "[num for elem in vec for num in elem]"
   ]
  },
  {
   "cell_type": "code",
   "execution_count": 82,
   "id": "6f76907c-b207-4027-baae-0d6ac701e45d",
   "metadata": {},
   "outputs": [
    {
     "data": {
      "text/plain": [
       "['3.1', '3.14', '3.142', '3.1416', '3.14159']"
      ]
     },
     "execution_count": 82,
     "metadata": {},
     "output_type": "execute_result"
    }
   ],
   "source": [
    "from math import pi\n",
    "[str(round(pi, i)) for i in range(1,6)] #소수점 i 이하만 출력"
   ]
  },
  {
   "cell_type": "code",
   "execution_count": 1,
   "id": "e55461e8-1a9c-4a40-b09c-6475905f52d8",
   "metadata": {},
   "outputs": [],
   "source": [
    "#5.1.4 중첩된 리스트 컴프리헨션"
   ]
  },
  {
   "cell_type": "code",
   "execution_count": 2,
   "id": "8f0a1bb3-02af-4a1c-b417-f49cb97f8517",
   "metadata": {},
   "outputs": [],
   "source": [
    "matrix = [\n",
    "    [1, 2, 3, 4],\n",
    "    [5, 6, 7, 8],\n",
    "    [9, 10, 11, 12],\n",
    "]"
   ]
  },
  {
   "cell_type": "code",
   "execution_count": 3,
   "id": "6e3133fe-76e2-42f5-8cf6-2180bdfe950d",
   "metadata": {},
   "outputs": [
    {
     "data": {
      "text/plain": [
       "[[1, 2, 3, 4], [5, 6, 7, 8], [9, 10, 11, 12]]"
      ]
     },
     "execution_count": 3,
     "metadata": {},
     "output_type": "execute_result"
    }
   ],
   "source": [
    "matrix"
   ]
  },
  {
   "cell_type": "code",
   "execution_count": 5,
   "id": "05e45348-15f0-42ef-8f29-54f88a487fa1",
   "metadata": {},
   "outputs": [
    {
     "data": {
      "text/plain": [
       "[[1, 5, 9], [2, 6, 10], [3, 7, 11], [4, 8, 12]]"
      ]
     },
     "execution_count": 5,
     "metadata": {},
     "output_type": "execute_result"
    }
   ],
   "source": [
    "[[row[i] for row in matrix] for i in range(4)]"
   ]
  },
  {
   "cell_type": "code",
   "execution_count": 8,
   "id": "0e25bc6f-1c8c-4951-813a-5eeba5466db3",
   "metadata": {},
   "outputs": [],
   "source": [
    "transposed = []\n",
    "for i in range(4):\n",
    "    transposed.append([row[i] for row in matrix])"
   ]
  },
  {
   "cell_type": "code",
   "execution_count": 9,
   "id": "3f0d2540-ecb0-40d6-a579-b5cdb2f4ca1a",
   "metadata": {},
   "outputs": [
    {
     "data": {
      "text/plain": [
       "[[1, 5, 9], [2, 6, 10], [3, 7, 11], [4, 8, 12]]"
      ]
     },
     "execution_count": 9,
     "metadata": {},
     "output_type": "execute_result"
    }
   ],
   "source": [
    "transposed"
   ]
  },
  {
   "cell_type": "code",
   "execution_count": 10,
   "id": "25c284b8-45b4-46f0-9ecb-1619ccfc2092",
   "metadata": {},
   "outputs": [],
   "source": [
    "transposed=[]\n",
    "\n",
    "for i in range(4):\n",
    "    transposed_row = []\n",
    "    for row in matrix:\n",
    "        transposed_row.append(row[i])\n",
    "    transposed.append(transposed_row)"
   ]
  },
  {
   "cell_type": "code",
   "execution_count": 11,
   "id": "c5ccdc6d-e63b-446d-ac8f-9efd60f43357",
   "metadata": {},
   "outputs": [
    {
     "data": {
      "text/plain": [
       "[[1, 5, 9], [2, 6, 10], [3, 7, 11], [4, 8, 12]]"
      ]
     },
     "execution_count": 11,
     "metadata": {},
     "output_type": "execute_result"
    }
   ],
   "source": [
    "transposed"
   ]
  },
  {
   "cell_type": "code",
   "execution_count": 12,
   "id": "55604e40-6b9b-42fe-ab29-622de4918a8b",
   "metadata": {},
   "outputs": [
    {
     "data": {
      "text/plain": [
       "[(1, 5, 9), (2, 6, 10), (3, 7, 11), (4, 8, 12)]"
      ]
     },
     "execution_count": 12,
     "metadata": {},
     "output_type": "execute_result"
    }
   ],
   "source": [
    "list(zip(*matrix))"
   ]
  },
  {
   "cell_type": "code",
   "execution_count": 13,
   "id": "d4313edf-5545-48b7-a7a4-4c590ac2a580",
   "metadata": {},
   "outputs": [],
   "source": [
    "a = [-1, 1, 66.25, 333, 333, 1234.5]"
   ]
  },
  {
   "cell_type": "code",
   "execution_count": 14,
   "id": "572a69d0-1925-4235-b9f9-28faad4f01e9",
   "metadata": {},
   "outputs": [],
   "source": [
    "del a[0]"
   ]
  },
  {
   "cell_type": "code",
   "execution_count": 15,
   "id": "0c8faccc-5494-467f-946b-690853dca9c9",
   "metadata": {},
   "outputs": [
    {
     "data": {
      "text/plain": [
       "[1, 66.25, 333, 333, 1234.5]"
      ]
     },
     "execution_count": 15,
     "metadata": {},
     "output_type": "execute_result"
    }
   ],
   "source": [
    "a"
   ]
  },
  {
   "cell_type": "code",
   "execution_count": 17,
   "id": "ac433c9e-ae96-412a-bf0d-3fc99aac3425",
   "metadata": {},
   "outputs": [],
   "source": [
    "del a[3]"
   ]
  },
  {
   "cell_type": "code",
   "execution_count": 18,
   "id": "b5fad398-5ace-4018-acb9-75b4eabb301c",
   "metadata": {},
   "outputs": [
    {
     "data": {
      "text/plain": [
       "[1, 66.25, 333, 1234.5]"
      ]
     },
     "execution_count": 18,
     "metadata": {},
     "output_type": "execute_result"
    }
   ],
   "source": [
    "a"
   ]
  },
  {
   "cell_type": "code",
   "execution_count": 19,
   "id": "d1c6bf36-47b4-4121-a030-9f10c70de93c",
   "metadata": {},
   "outputs": [],
   "source": [
    "del a"
   ]
  },
  {
   "cell_type": "code",
   "execution_count": 20,
   "id": "f6801687-f6fb-4e6a-9898-66ca4fe018c8",
   "metadata": {},
   "outputs": [
    {
     "ename": "NameError",
     "evalue": "name 'a' is not defined",
     "output_type": "error",
     "traceback": [
      "\u001b[1;31m---------------------------------------------------------------------------\u001b[0m",
      "\u001b[1;31mNameError\u001b[0m                                 Traceback (most recent call last)",
      "Cell \u001b[1;32mIn[20], line 1\u001b[0m\n\u001b[1;32m----> 1\u001b[0m \u001b[43ma\u001b[49m\n",
      "\u001b[1;31mNameError\u001b[0m: name 'a' is not defined"
     ]
    }
   ],
   "source": [
    "a"
   ]
  },
  {
   "cell_type": "code",
   "execution_count": 21,
   "id": "9426cfea-9c5f-49ba-a228-07cae0eaef4a",
   "metadata": {},
   "outputs": [],
   "source": [
    "t = 1234,4444,'hello'"
   ]
  },
  {
   "cell_type": "code",
   "execution_count": 22,
   "id": "4e5ee93e-8f8f-4336-b664-7458176ec73c",
   "metadata": {},
   "outputs": [
    {
     "data": {
      "text/plain": [
       "1234"
      ]
     },
     "execution_count": 22,
     "metadata": {},
     "output_type": "execute_result"
    }
   ],
   "source": [
    "t[0]"
   ]
  },
  {
   "cell_type": "code",
   "execution_count": 23,
   "id": "e127e448-9d27-483d-92be-0edd088dc109",
   "metadata": {},
   "outputs": [
    {
     "data": {
      "text/plain": [
       "(1234, 4444, 'hello')"
      ]
     },
     "execution_count": 23,
     "metadata": {},
     "output_type": "execute_result"
    }
   ],
   "source": [
    "t"
   ]
  },
  {
   "cell_type": "code",
   "execution_count": 24,
   "id": "9d59e06f-f922-4e0a-aa6a-32a1dfc586b1",
   "metadata": {},
   "outputs": [],
   "source": [
    "u = t, (1,2,3,4,5)"
   ]
  },
  {
   "cell_type": "code",
   "execution_count": 25,
   "id": "1200dcbe-9a85-443d-a0cb-254ddb75c6d5",
   "metadata": {},
   "outputs": [
    {
     "data": {
      "text/plain": [
       "((1234, 4444, 'hello'), (1, 2, 3, 4, 5))"
      ]
     },
     "execution_count": 25,
     "metadata": {},
     "output_type": "execute_result"
    }
   ],
   "source": [
    "u"
   ]
  },
  {
   "cell_type": "code",
   "execution_count": 27,
   "id": "9460f215-fef7-41aa-9b1a-6b56e0aa213e",
   "metadata": {},
   "outputs": [
    {
     "ename": "TypeError",
     "evalue": "'tuple' object does not support item assignment",
     "output_type": "error",
     "traceback": [
      "\u001b[1;31m---------------------------------------------------------------------------\u001b[0m",
      "\u001b[1;31mTypeError\u001b[0m                                 Traceback (most recent call last)",
      "Cell \u001b[1;32mIn[27], line 1\u001b[0m\n\u001b[1;32m----> 1\u001b[0m \u001b[43mt\u001b[49m\u001b[43m[\u001b[49m\u001b[38;5;241;43m0\u001b[39;49m\u001b[43m]\u001b[49m\u001b[38;5;241m=\u001b[39m\u001b[38;5;241m99\u001b[39m \u001b[38;5;66;03m#tuples are immutable!!!\u001b[39;00m\n",
      "\u001b[1;31mTypeError\u001b[0m: 'tuple' object does not support item assignment"
     ]
    }
   ],
   "source": [
    "t[0]=99 #tuples are immutable!!!"
   ]
  },
  {
   "cell_type": "code",
   "execution_count": 28,
   "id": "dd785d44-fde8-4fb9-aa57-a9c11c53cbc0",
   "metadata": {},
   "outputs": [],
   "source": [
    "v = ([1,2,3],[4,5,6])"
   ]
  },
  {
   "cell_type": "code",
   "execution_count": 29,
   "id": "5fed106b-8d45-4d4f-b1b8-5026f62be580",
   "metadata": {},
   "outputs": [
    {
     "data": {
      "text/plain": [
       "([1, 2, 3], [4, 5, 6])"
      ]
     },
     "execution_count": 29,
     "metadata": {},
     "output_type": "execute_result"
    }
   ],
   "source": [
    "v"
   ]
  },
  {
   "cell_type": "code",
   "execution_count": 33,
   "id": "49f1f9f3-d980-4f13-93ba-d84537ff26bf",
   "metadata": {},
   "outputs": [
    {
     "data": {
      "text/plain": [
       "0"
      ]
     },
     "execution_count": 33,
     "metadata": {},
     "output_type": "execute_result"
    }
   ],
   "source": [
    "empty = ()\n",
    "singleton = 'hello',\n",
    "len(empty)"
   ]
  },
  {
   "cell_type": "code",
   "execution_count": 34,
   "id": "1ffcc1b2-e2af-4534-a2c2-af418db8a0ff",
   "metadata": {},
   "outputs": [
    {
     "data": {
      "text/plain": [
       "1"
      ]
     },
     "execution_count": 34,
     "metadata": {},
     "output_type": "execute_result"
    }
   ],
   "source": [
    "len(singleton)"
   ]
  },
  {
   "cell_type": "code",
   "execution_count": 35,
   "id": "389fbcfb-affd-4c37-ba23-b4c03e3aea19",
   "metadata": {},
   "outputs": [
    {
     "data": {
      "text/plain": [
       "('hello',)"
      ]
     },
     "execution_count": 35,
     "metadata": {},
     "output_type": "execute_result"
    }
   ],
   "source": [
    "singleton"
   ]
  },
  {
   "cell_type": "code",
   "execution_count": 40,
   "id": "19273f05-b410-4aa9-a4fd-b5c8bdbe2b0b",
   "metadata": {},
   "outputs": [],
   "source": [
    " x,y,z = t #unpacking"
   ]
  },
  {
   "cell_type": "code",
   "execution_count": 41,
   "id": "9ae339aa-785b-4981-8f42-413a6d696445",
   "metadata": {},
   "outputs": [
    {
     "data": {
      "text/plain": [
       "'hello'"
      ]
     },
     "execution_count": 41,
     "metadata": {},
     "output_type": "execute_result"
    }
   ],
   "source": [
    "z"
   ]
  },
  {
   "cell_type": "code",
   "execution_count": 42,
   "id": "c2ce635b-7e03-4d65-b22b-5ff51faa2d82",
   "metadata": {},
   "outputs": [
    {
     "data": {
      "text/plain": [
       "4444"
      ]
     },
     "execution_count": 42,
     "metadata": {},
     "output_type": "execute_result"
    }
   ],
   "source": [
    "y"
   ]
  },
  {
   "cell_type": "code",
   "execution_count": 43,
   "id": "fe58bda1-89e6-4c30-85ec-180517481e90",
   "metadata": {},
   "outputs": [
    {
     "data": {
      "text/plain": [
       "1234"
      ]
     },
     "execution_count": 43,
     "metadata": {},
     "output_type": "execute_result"
    }
   ],
   "source": [
    "x"
   ]
  },
  {
   "cell_type": "code",
   "execution_count": 44,
   "id": "0aeb58de-ed44-46c1-bed3-c27f67b3bdec",
   "metadata": {},
   "outputs": [],
   "source": [
    "basket = {'apple', 'orange', 'apple', 'pear', 'orange', 'banana'}"
   ]
  },
  {
   "cell_type": "code",
   "execution_count": 46,
   "id": "640cd3fb-e246-432b-a198-04e65f059b69",
   "metadata": {},
   "outputs": [
    {
     "name": "stdout",
     "output_type": "stream",
     "text": [
      "{'orange', 'banana', 'apple', 'pear'}\n"
     ]
    }
   ],
   "source": [
    "print(basket) #중복값 제거"
   ]
  },
  {
   "cell_type": "code",
   "execution_count": 47,
   "id": "e0c92817-b948-48a1-8e82-0df5939aeb4e",
   "metadata": {},
   "outputs": [
    {
     "data": {
      "text/plain": [
       "True"
      ]
     },
     "execution_count": 47,
     "metadata": {},
     "output_type": "execute_result"
    }
   ],
   "source": [
    "'orange' in basket"
   ]
  },
  {
   "cell_type": "code",
   "execution_count": 48,
   "id": "a421e7eb-1d65-4a26-8ffc-b561b5465b29",
   "metadata": {},
   "outputs": [
    {
     "data": {
      "text/plain": [
       "False"
      ]
     },
     "execution_count": 48,
     "metadata": {},
     "output_type": "execute_result"
    }
   ],
   "source": [
    "'lemon' in basket"
   ]
  },
  {
   "cell_type": "code",
   "execution_count": 49,
   "id": "c6538d80-579c-41fc-9771-4bd0985e08f7",
   "metadata": {},
   "outputs": [],
   "source": [
    "a = set('asfrgr')\n",
    "b = set('kofkcj')"
   ]
  },
  {
   "cell_type": "code",
   "execution_count": 50,
   "id": "8da4c973-2935-42f8-aefb-bbb8b184ade4",
   "metadata": {},
   "outputs": [
    {
     "data": {
      "text/plain": [
       "{'a', 'f', 'g', 'r', 's'}"
      ]
     },
     "execution_count": 50,
     "metadata": {},
     "output_type": "execute_result"
    }
   ],
   "source": [
    "a"
   ]
  },
  {
   "cell_type": "code",
   "execution_count": 51,
   "id": "7da21917-f4df-448e-8e36-ad550dbfdc42",
   "metadata": {},
   "outputs": [
    {
     "data": {
      "text/plain": [
       "{'c', 'f', 'j', 'k', 'o'}"
      ]
     },
     "execution_count": 51,
     "metadata": {},
     "output_type": "execute_result"
    }
   ],
   "source": [
    "b"
   ]
  },
  {
   "cell_type": "code",
   "execution_count": 55,
   "id": "3fe3216d-3198-4899-abba-adb44349d0ad",
   "metadata": {},
   "outputs": [
    {
     "data": {
      "text/plain": [
       "{'a', 'g', 'r', 's'}"
      ]
     },
     "execution_count": 55,
     "metadata": {},
     "output_type": "execute_result"
    }
   ],
   "source": [
    "a-b #a but not in b"
   ]
  },
  {
   "cell_type": "code",
   "execution_count": 56,
   "id": "7bc1d63f-d813-4761-a5f2-79f7fc8c0b6c",
   "metadata": {},
   "outputs": [
    {
     "data": {
      "text/plain": [
       "{'a', 'c', 'f', 'g', 'j', 'k', 'o', 'r', 's'}"
      ]
     },
     "execution_count": 56,
     "metadata": {},
     "output_type": "execute_result"
    }
   ],
   "source": [
    "a|b #a or b or both"
   ]
  },
  {
   "cell_type": "code",
   "execution_count": 57,
   "id": "53669612-2182-4b4e-b690-6b3d8d333c0d",
   "metadata": {},
   "outputs": [
    {
     "data": {
      "text/plain": [
       "{'f'}"
      ]
     },
     "execution_count": 57,
     "metadata": {},
     "output_type": "execute_result"
    }
   ],
   "source": [
    "a&b #both"
   ]
  },
  {
   "cell_type": "code",
   "execution_count": 59,
   "id": "1b761ec5-e97e-4509-ad2c-c7c65e1d2355",
   "metadata": {},
   "outputs": [
    {
     "data": {
      "text/plain": [
       "{'a', 'c', 'g', 'j', 'k', 'o', 'r', 's'}"
      ]
     },
     "execution_count": 59,
     "metadata": {},
     "output_type": "execute_result"
    }
   ],
   "source": [
    "a^b #a or b but not both"
   ]
  },
  {
   "cell_type": "code",
   "execution_count": 60,
   "id": "effdda2d-5e62-4859-a9e1-4a739c6b6b54",
   "metadata": {},
   "outputs": [],
   "source": [
    "a = {x for x in 'adfasdf' if x not in 'abc'}"
   ]
  },
  {
   "cell_type": "code",
   "execution_count": 61,
   "id": "63dd1721-4d81-4754-a705-9f741676d11e",
   "metadata": {},
   "outputs": [
    {
     "data": {
      "text/plain": [
       "{'d', 'f', 's'}"
      ]
     },
     "execution_count": 61,
     "metadata": {},
     "output_type": "execute_result"
    }
   ],
   "source": [
    "a"
   ]
  },
  {
   "cell_type": "code",
   "execution_count": 62,
   "id": "e5732ca0-52b0-4c44-accf-4330e270be8f",
   "metadata": {},
   "outputs": [
    {
     "data": {
      "text/plain": [
       "{'jack': 4098, 'sape': 4139, 'guido': 4127}"
      ]
     },
     "execution_count": 62,
     "metadata": {},
     "output_type": "execute_result"
    }
   ],
   "source": [
    "tel = {'jack': 4098, 'sape': 4139}\n",
    "tel['guido'] = 4127\n",
    "tel"
   ]
  },
  {
   "cell_type": "code",
   "execution_count": 63,
   "id": "7f13d36c-3313-4944-adff-abb6d25383ea",
   "metadata": {},
   "outputs": [
    {
     "data": {
      "text/plain": [
       "4098"
      ]
     },
     "execution_count": 63,
     "metadata": {},
     "output_type": "execute_result"
    }
   ],
   "source": [
    "tel['jack']"
   ]
  },
  {
   "cell_type": "code",
   "execution_count": 64,
   "id": "f06ebc90-7200-48b1-9ebe-d055ec9774a5",
   "metadata": {},
   "outputs": [],
   "source": [
    "del tel['sape']"
   ]
  },
  {
   "cell_type": "code",
   "execution_count": 65,
   "id": "d9f50e80-2e85-4e37-9340-8e01595e510c",
   "metadata": {},
   "outputs": [
    {
     "data": {
      "text/plain": [
       "{'jack': 4098, 'guido': 4127}"
      ]
     },
     "execution_count": 65,
     "metadata": {},
     "output_type": "execute_result"
    }
   ],
   "source": [
    "tel"
   ]
  },
  {
   "cell_type": "code",
   "execution_count": 66,
   "id": "493b23d2-928d-4550-98e0-dbc5df2a37ae",
   "metadata": {},
   "outputs": [],
   "source": [
    "tel['ms'] = 44125"
   ]
  },
  {
   "cell_type": "code",
   "execution_count": 67,
   "id": "ac81baaf-130c-48b1-911e-7cde972aea0c",
   "metadata": {},
   "outputs": [
    {
     "data": {
      "text/plain": [
       "{'jack': 4098, 'guido': 4127, 'ms': 44125}"
      ]
     },
     "execution_count": 67,
     "metadata": {},
     "output_type": "execute_result"
    }
   ],
   "source": [
    "tel"
   ]
  },
  {
   "cell_type": "code",
   "execution_count": 68,
   "id": "fb31465d-5214-44bd-8838-fc35997a0637",
   "metadata": {},
   "outputs": [
    {
     "data": {
      "text/plain": [
       "['jack', 'guido', 'ms']"
      ]
     },
     "execution_count": 68,
     "metadata": {},
     "output_type": "execute_result"
    }
   ],
   "source": [
    "list(tel)"
   ]
  },
  {
   "cell_type": "code",
   "execution_count": 69,
   "id": "e2fff453-ad86-4631-8c2b-bb9b29dd9f4a",
   "metadata": {},
   "outputs": [
    {
     "data": {
      "text/plain": [
       "['guido', 'jack', 'ms']"
      ]
     },
     "execution_count": 69,
     "metadata": {},
     "output_type": "execute_result"
    }
   ],
   "source": [
    "sorted(tel)"
   ]
  },
  {
   "cell_type": "code",
   "execution_count": 70,
   "id": "f9dbd4dd-961f-4b41-a3f0-25f450f265de",
   "metadata": {},
   "outputs": [
    {
     "data": {
      "text/plain": [
       "True"
      ]
     },
     "execution_count": 70,
     "metadata": {},
     "output_type": "execute_result"
    }
   ],
   "source": [
    "'ms' in tel"
   ]
  },
  {
   "cell_type": "code",
   "execution_count": 71,
   "id": "76bedd6f-4866-4c14-bc0d-c62db5cc9c78",
   "metadata": {},
   "outputs": [
    {
     "data": {
      "text/plain": [
       "False"
      ]
     },
     "execution_count": 71,
     "metadata": {},
     "output_type": "execute_result"
    }
   ],
   "source": [
    "'ssss' in tel"
   ]
  },
  {
   "cell_type": "code",
   "execution_count": 72,
   "id": "f5674982-499d-4ccd-834e-616631a6c87c",
   "metadata": {},
   "outputs": [
    {
     "data": {
      "text/plain": [
       "{'sape': 4139, 'guido': 4127, 'jack': 4098}"
      ]
     },
     "execution_count": 72,
     "metadata": {},
     "output_type": "execute_result"
    }
   ],
   "source": [
    "dict([('sape', 4139), ('guido', 4127), ('jack', 4098)])"
   ]
  },
  {
   "cell_type": "code",
   "execution_count": 73,
   "id": "38255327-a407-4787-86cd-481f28080891",
   "metadata": {},
   "outputs": [
    {
     "data": {
      "text/plain": [
       "{2: 4, 4: 16, 6: 36}"
      ]
     },
     "execution_count": 73,
     "metadata": {},
     "output_type": "execute_result"
    }
   ],
   "source": [
    "{x : x**2 for x in (2,4,6)}"
   ]
  },
  {
   "cell_type": "code",
   "execution_count": 74,
   "id": "a01ed555-f77d-456a-ab69-036a97954876",
   "metadata": {},
   "outputs": [
    {
     "data": {
      "text/plain": [
       "{'sape': 4139, 'guido': 4127, 'jack': 4098}"
      ]
     },
     "execution_count": 74,
     "metadata": {},
     "output_type": "execute_result"
    }
   ],
   "source": [
    "dict(sape=4139, guido=4127, jack=4098)\n"
   ]
  },
  {
   "cell_type": "code",
   "execution_count": 75,
   "id": "e80c158b-a746-4ec8-aefa-d7fe879f00d5",
   "metadata": {},
   "outputs": [
    {
     "name": "stdout",
     "output_type": "stream",
     "text": [
      "gallahad the pure\n",
      "robin the brave\n"
     ]
    }
   ],
   "source": [
    "knights = {'gallahad': 'the pure', 'robin': 'the brave'}\n",
    "for k, v in knights.items():\n",
    "    print(k, v)"
   ]
  },
  {
   "cell_type": "code",
   "execution_count": 76,
   "id": "3a853f02-b923-404d-b2e3-6166534d137b",
   "metadata": {},
   "outputs": [
    {
     "name": "stdout",
     "output_type": "stream",
     "text": [
      "0 tic\n",
      "1 tac\n",
      "2 toe\n"
     ]
    }
   ],
   "source": [
    "for i, v in enumerate(['tic', 'tac', 'toe']):\n",
    "    print(i, v)"
   ]
  },
  {
   "cell_type": "code",
   "execution_count": 77,
   "id": "0ffacd3e-f652-4984-9e56-82bfcee08ee6",
   "metadata": {},
   "outputs": [
    {
     "name": "stdout",
     "output_type": "stream",
     "text": [
      "What is your name?  It is lancelot.\n",
      "What is your quest?  It is the holy grail.\n",
      "What is your favorite color?  It is blue.\n"
     ]
    }
   ],
   "source": [
    "questions = ['name', 'quest', 'favorite color']\n",
    "answers = ['lancelot', 'the holy grail', 'blue']\n",
    "for q, a in zip(questions, answers):\n",
    "    print('What is your {0}?  It is {1}.'.format(q, a))"
   ]
  },
  {
   "cell_type": "code",
   "execution_count": 78,
   "id": "7794bf7b-b3dc-469b-929f-387ecad4ae2b",
   "metadata": {},
   "outputs": [
    {
     "name": "stdout",
     "output_type": "stream",
     "text": [
      "9\n",
      "7\n",
      "5\n",
      "3\n",
      "1\n"
     ]
    }
   ],
   "source": [
    "for i in reversed(range(1, 10, 2)):\n",
    "    print(i)"
   ]
  },
  {
   "cell_type": "code",
   "execution_count": 79,
   "id": "49f1eeb6-3628-4245-b19d-327a3cdddf7d",
   "metadata": {},
   "outputs": [
    {
     "name": "stdout",
     "output_type": "stream",
     "text": [
      "apple\n",
      "apple\n",
      "banana\n",
      "orange\n",
      "orange\n",
      "pear\n"
     ]
    }
   ],
   "source": [
    "basket = ['apple', 'orange', 'apple', 'pear', 'orange', 'banana']\n",
    "for i in sorted(basket):\n",
    "    print(i)"
   ]
  },
  {
   "cell_type": "code",
   "execution_count": 80,
   "id": "57f4e954-878b-420d-9ec5-976d95aec1d6",
   "metadata": {},
   "outputs": [
    {
     "name": "stdout",
     "output_type": "stream",
     "text": [
      "apple\n",
      "banana\n",
      "orange\n",
      "pear\n"
     ]
    }
   ],
   "source": [
    "basket = ['apple', 'orange', 'apple', 'pear', 'orange', 'banana']\n",
    "for f in sorted(set(basket)):\n",
    "    print(f)"
   ]
  },
  {
   "cell_type": "code",
   "execution_count": 81,
   "id": "44025042-00cb-4ff9-80a3-145c7bd7b787",
   "metadata": {},
   "outputs": [
    {
     "data": {
      "text/plain": [
       "[56.2, 51.7, 55.3, 52.5, 47.8]"
      ]
     },
     "execution_count": 81,
     "metadata": {},
     "output_type": "execute_result"
    }
   ],
   "source": [
    "import math\n",
    "raw_data = [56.2, float('NaN'), 51.7, 55.3, 52.5, float('NaN'), 47.8]\n",
    "filtered_data = []\n",
    "for value in raw_data:\n",
    "    if not math.isnan(value):\n",
    "        filtered_data.append(value)\n",
    "\n",
    "filtered_data"
   ]
  },
  {
   "cell_type": "code",
   "execution_count": 82,
   "id": "70e9f6b5-de6b-4564-a224-09acc74f9da3",
   "metadata": {},
   "outputs": [
    {
     "data": {
      "text/plain": [
       "'Trondheim'"
      ]
     },
     "execution_count": 82,
     "metadata": {},
     "output_type": "execute_result"
    }
   ],
   "source": [
    "string1, string2, string3 = '', 'Trondheim', 'Hammer Dance'\n",
    "non_null = string1 or string2 or string3\n",
    "non_null"
   ]
  },
  {
   "cell_type": "code",
   "execution_count": 83,
   "id": "a949de7c-1ecd-4792-952e-4c78f9f734dc",
   "metadata": {},
   "outputs": [
    {
     "data": {
      "text/plain": [
       "True"
      ]
     },
     "execution_count": 83,
     "metadata": {},
     "output_type": "execute_result"
    }
   ],
   "source": [
    "(1, 2, 3)              < (1, 2, 4)\n",
    "[1, 2, 3]              < [1, 2, 4]\n",
    "'ABC' < 'C' < 'Pascal' < 'Python'\n",
    "(1, 2, 3, 4)           < (1, 2, 4)\n",
    "(1, 2)                 < (1, 2, -1)\n",
    "(1, 2, 3)             == (1.0, 2.0, 3.0)\n",
    "(1, 2, ('aa', 'ab'))   < (1, 2, ('abc', 'a'), 4)"
   ]
  },
  {
   "cell_type": "markdown",
   "id": "dbadf5cb-dfad-4193-a74e-704feed0350d",
   "metadata": {
    "jp-MarkdownHeadingCollapsed": true
   },
   "source": [
    "## 6장-모듈"
   ]
  },
  {
   "cell_type": "code",
   "execution_count": 84,
   "id": "77f93aa6-7ced-47a3-b586-75806d256ba4",
   "metadata": {},
   "outputs": [],
   "source": [
    "import fibo"
   ]
  },
  {
   "cell_type": "code",
   "execution_count": 85,
   "id": "c245957d-496f-41c6-81f7-e7af90768c70",
   "metadata": {},
   "outputs": [
    {
     "name": "stdout",
     "output_type": "stream",
     "text": [
      "0 1 1 2 3 5 8 \n"
     ]
    }
   ],
   "source": [
    "fibo.fib(10)"
   ]
  },
  {
   "cell_type": "code",
   "execution_count": 86,
   "id": "ef43aecb-ce40-4df1-bd63-a782bae1ebc2",
   "metadata": {},
   "outputs": [
    {
     "data": {
      "text/plain": [
       "[0, 1, 1, 2, 3, 5, 8]"
      ]
     },
     "execution_count": 86,
     "metadata": {},
     "output_type": "execute_result"
    }
   ],
   "source": [
    "fibo.fib2(10)"
   ]
  },
  {
   "cell_type": "code",
   "execution_count": 87,
   "id": "5d41c099-c6e0-4506-a48e-21b955ea2d5d",
   "metadata": {},
   "outputs": [
    {
     "data": {
      "text/plain": [
       "'fibo'"
      ]
     },
     "execution_count": 87,
     "metadata": {},
     "output_type": "execute_result"
    }
   ],
   "source": [
    "fibo.__name__"
   ]
  },
  {
   "cell_type": "code",
   "execution_count": 88,
   "id": "37cfdcd7-ce0d-479d-9882-f22151de3f68",
   "metadata": {},
   "outputs": [],
   "source": [
    "fib = fibo.fib"
   ]
  },
  {
   "cell_type": "code",
   "execution_count": 89,
   "id": "be805b80-fc98-4cfb-94b7-5120352947d0",
   "metadata": {},
   "outputs": [
    {
     "name": "stdout",
     "output_type": "stream",
     "text": [
      "0 1 1 2 3 5 8 13 21 34 55 89 144 233 377 \n"
     ]
    }
   ],
   "source": [
    "fib(500)"
   ]
  },
  {
   "cell_type": "code",
   "execution_count": 90,
   "id": "616699b5-10a4-4778-94c2-9ed49bb94bd2",
   "metadata": {},
   "outputs": [],
   "source": [
    "from fibo import fib, fib2"
   ]
  },
  {
   "cell_type": "code",
   "execution_count": 91,
   "id": "bbce84cb-196b-489a-9443-aa21fa608196",
   "metadata": {},
   "outputs": [
    {
     "name": "stdout",
     "output_type": "stream",
     "text": [
      "0 1 1 2 3 5 8 13 21 34 55 89 144 233 377 \n"
     ]
    }
   ],
   "source": [
    "fib(500)"
   ]
  },
  {
   "cell_type": "code",
   "execution_count": 93,
   "id": "b94d16a6-f225-4fe4-9648-20ef7753ad2b",
   "metadata": {},
   "outputs": [
    {
     "name": "stdout",
     "output_type": "stream",
     "text": [
      "0 1 1 2 3 5 8 13 21 34 55 89 144 233 377 \n"
     ]
    }
   ],
   "source": [
    "from fibo import * #*을 import할 경우는 _로 시작하는 것들을 제외한 모든 이름을 impor함\n",
    "fib(500)"
   ]
  },
  {
   "cell_type": "code",
   "execution_count": 94,
   "id": "50f4e1c4-215a-4b51-9933-0056c06757c3",
   "metadata": {},
   "outputs": [],
   "source": [
    "import fibo as fib"
   ]
  },
  {
   "cell_type": "code",
   "execution_count": 95,
   "id": "6e97eb86-a8d4-4dc0-8d9a-2219ed90e2c8",
   "metadata": {},
   "outputs": [
    {
     "name": "stdout",
     "output_type": "stream",
     "text": [
      "0 1 1 2 3 5 8 13 21 34 55 89 144 233 377 \n"
     ]
    }
   ],
   "source": [
    "fib.fib(500)"
   ]
  },
  {
   "cell_type": "code",
   "execution_count": 96,
   "id": "3e3dabcb-7fed-48ca-a7a5-52b71c2157d0",
   "metadata": {},
   "outputs": [],
   "source": [
    "from fibo import fib as fibonacci"
   ]
  },
  {
   "cell_type": "code",
   "execution_count": 97,
   "id": "1f904b98-9949-40f0-9488-aa87df6d725b",
   "metadata": {},
   "outputs": [
    {
     "name": "stdout",
     "output_type": "stream",
     "text": [
      "0 1 1 2 3 5 8 13 21 34 55 89 144 233 377 \n"
     ]
    }
   ],
   "source": [
    "fibonacci(500)"
   ]
  },
  {
   "cell_type": "code",
   "execution_count": 1,
   "id": "1e918acc-50d2-413d-bf53-41624d8aa8a4",
   "metadata": {},
   "outputs": [],
   "source": [
    "import sys"
   ]
  },
  {
   "cell_type": "code",
   "execution_count": 2,
   "id": "62a7adc0-0b89-4640-b0a2-65fd43177a65",
   "metadata": {},
   "outputs": [
    {
     "data": {
      "text/plain": [
       "'In : '"
      ]
     },
     "execution_count": 2,
     "metadata": {},
     "output_type": "execute_result"
    }
   ],
   "source": [
    "sys.ps1"
   ]
  },
  {
   "cell_type": "code",
   "execution_count": 3,
   "id": "8c9285d3-7752-447a-83f1-7780407a5fa0",
   "metadata": {},
   "outputs": [
    {
     "data": {
      "text/plain": [
       "'...: '"
      ]
     },
     "execution_count": 3,
     "metadata": {},
     "output_type": "execute_result"
    }
   ],
   "source": [
    "sys.ps2"
   ]
  },
  {
   "cell_type": "code",
   "execution_count": 4,
   "id": "9dc39cc1-6954-4ed0-b05c-977cb4ab1401",
   "metadata": {},
   "outputs": [],
   "source": [
    "sys.ps1 = 'C>'"
   ]
  },
  {
   "cell_type": "code",
   "execution_count": 5,
   "id": "e4307c7c-5d83-4ee4-9418-9779bc741c23",
   "metadata": {},
   "outputs": [
    {
     "name": "stdout",
     "output_type": "stream",
     "text": [
      "Yuck!\n"
     ]
    }
   ],
   "source": [
    "print('Yuck!')"
   ]
  },
  {
   "cell_type": "code",
   "execution_count": 6,
   "id": "a3ce0e9f-c5b9-49a0-9d6d-7cb8d85cee66",
   "metadata": {},
   "outputs": [],
   "source": [
    "sys.ps1 = 'C>'"
   ]
  },
  {
   "cell_type": "code",
   "execution_count": 7,
   "id": "37bb0215-6fee-441a-b8e3-32cf99ef76ea",
   "metadata": {},
   "outputs": [],
   "source": [
    "import sys\n",
    "sys.path.append('/ufs/guido/lib/python')\n"
   ]
  },
  {
   "cell_type": "code",
   "execution_count": 8,
   "id": "f1e13dff-d626-44e9-97fd-677f99ae5dfe",
   "metadata": {},
   "outputs": [],
   "source": [
    "import fibo, sys"
   ]
  },
  {
   "cell_type": "code",
   "execution_count": 9,
   "id": "92f265eb-5ae9-4c82-86f4-6d42781618fe",
   "metadata": {},
   "outputs": [
    {
     "data": {
      "text/plain": [
       "['__builtins__',\n",
       " '__cached__',\n",
       " '__doc__',\n",
       " '__file__',\n",
       " '__loader__',\n",
       " '__name__',\n",
       " '__package__',\n",
       " '__spec__',\n",
       " 'fib',\n",
       " 'fib2']"
      ]
     },
     "execution_count": 9,
     "metadata": {},
     "output_type": "execute_result"
    }
   ],
   "source": [
    "dir(fibo)"
   ]
  },
  {
   "cell_type": "code",
   "execution_count": 10,
   "id": "50c9e89a-5bf8-466a-8b39-debd9ca93477",
   "metadata": {
    "scrolled": true
   },
   "outputs": [
    {
     "data": {
      "text/plain": [
       "['__breakpointhook__',\n",
       " '__displayhook__',\n",
       " '__doc__',\n",
       " '__excepthook__',\n",
       " '__interactivehook__',\n",
       " '__loader__',\n",
       " '__name__',\n",
       " '__package__',\n",
       " '__spec__',\n",
       " '__stderr__',\n",
       " '__stdin__',\n",
       " '__stdout__',\n",
       " '__unraisablehook__',\n",
       " '_base_executable',\n",
       " '_clear_type_cache',\n",
       " '_current_exceptions',\n",
       " '_current_frames',\n",
       " '_debugmallocstats',\n",
       " '_enablelegacywindowsfsencoding',\n",
       " '_framework',\n",
       " '_getframe',\n",
       " '_getframemodulename',\n",
       " '_git',\n",
       " '_home',\n",
       " '_setprofileallthreads',\n",
       " '_settraceallthreads',\n",
       " '_stdlib_dir',\n",
       " '_vpath',\n",
       " '_xoptions',\n",
       " 'activate_stack_trampoline',\n",
       " 'addaudithook',\n",
       " 'api_version',\n",
       " 'argv',\n",
       " 'audit',\n",
       " 'base_exec_prefix',\n",
       " 'base_prefix',\n",
       " 'breakpointhook',\n",
       " 'builtin_module_names',\n",
       " 'byteorder',\n",
       " 'call_tracing',\n",
       " 'copyright',\n",
       " 'deactivate_stack_trampoline',\n",
       " 'displayhook',\n",
       " 'dllhandle',\n",
       " 'dont_write_bytecode',\n",
       " 'exc_info',\n",
       " 'excepthook',\n",
       " 'exception',\n",
       " 'exec_prefix',\n",
       " 'executable',\n",
       " 'exit',\n",
       " 'flags',\n",
       " 'float_info',\n",
       " 'float_repr_style',\n",
       " 'get_asyncgen_hooks',\n",
       " 'get_coroutine_origin_tracking_depth',\n",
       " 'get_int_max_str_digits',\n",
       " 'getallocatedblocks',\n",
       " 'getdefaultencoding',\n",
       " 'getfilesystemencodeerrors',\n",
       " 'getfilesystemencoding',\n",
       " 'getprofile',\n",
       " 'getrecursionlimit',\n",
       " 'getrefcount',\n",
       " 'getsizeof',\n",
       " 'getswitchinterval',\n",
       " 'gettrace',\n",
       " 'getunicodeinternedsize',\n",
       " 'getwindowsversion',\n",
       " 'hash_info',\n",
       " 'hexversion',\n",
       " 'implementation',\n",
       " 'int_info',\n",
       " 'intern',\n",
       " 'is_finalizing',\n",
       " 'is_stack_trampoline_active',\n",
       " 'maxsize',\n",
       " 'maxunicode',\n",
       " 'meta_path',\n",
       " 'modules',\n",
       " 'monitoring',\n",
       " 'orig_argv',\n",
       " 'path',\n",
       " 'path_hooks',\n",
       " 'path_importer_cache',\n",
       " 'platform',\n",
       " 'platlibdir',\n",
       " 'prefix',\n",
       " 'ps1',\n",
       " 'ps2',\n",
       " 'ps3',\n",
       " 'pycache_prefix',\n",
       " 'set_asyncgen_hooks',\n",
       " 'set_coroutine_origin_tracking_depth',\n",
       " 'set_int_max_str_digits',\n",
       " 'setprofile',\n",
       " 'setrecursionlimit',\n",
       " 'setswitchinterval',\n",
       " 'settrace',\n",
       " 'stderr',\n",
       " 'stdin',\n",
       " 'stdlib_module_names',\n",
       " 'stdout',\n",
       " 'thread_info',\n",
       " 'unraisablehook',\n",
       " 'version',\n",
       " 'version_info',\n",
       " 'warnoptions',\n",
       " 'winver']"
      ]
     },
     "execution_count": 10,
     "metadata": {},
     "output_type": "execute_result"
    }
   ],
   "source": [
    "dir(sys)"
   ]
  },
  {
   "cell_type": "code",
   "execution_count": 12,
   "id": "4e6fa6f0-d2dd-43da-942d-0e28da9ebf53",
   "metadata": {},
   "outputs": [
    {
     "data": {
      "text/plain": [
       "['In',\n",
       " 'Out',\n",
       " '_',\n",
       " '_10',\n",
       " '_2',\n",
       " '_3',\n",
       " '_9',\n",
       " '__',\n",
       " '___',\n",
       " '__builtin__',\n",
       " '__builtins__',\n",
       " '__doc__',\n",
       " '__loader__',\n",
       " '__name__',\n",
       " '__package__',\n",
       " '__session__',\n",
       " '__spec__',\n",
       " '_dh',\n",
       " '_i',\n",
       " '_i1',\n",
       " '_i10',\n",
       " '_i11',\n",
       " '_i12',\n",
       " '_i2',\n",
       " '_i3',\n",
       " '_i4',\n",
       " '_i5',\n",
       " '_i6',\n",
       " '_i7',\n",
       " '_i8',\n",
       " '_i9',\n",
       " '_ih',\n",
       " '_ii',\n",
       " '_iii',\n",
       " '_oh',\n",
       " 'a',\n",
       " 'exit',\n",
       " 'fib',\n",
       " 'fibo',\n",
       " 'get_ipython',\n",
       " 'open',\n",
       " 'quit',\n",
       " 'sys']"
      ]
     },
     "execution_count": 12,
     "metadata": {},
     "output_type": "execute_result"
    }
   ],
   "source": [
    "a = [1,2,3,4,5]\n",
    "import fibo\n",
    "fib = fibo.fib\n",
    "dir()"
   ]
  },
  {
   "cell_type": "code",
   "execution_count": 13,
   "id": "1c14fdd6-ae55-47ee-8573-4092236498b3",
   "metadata": {},
   "outputs": [],
   "source": [
    "import builtins"
   ]
  },
  {
   "cell_type": "code",
   "execution_count": 14,
   "id": "751a4d5e-f7b8-439a-82f6-549614c22870",
   "metadata": {
    "scrolled": true
   },
   "outputs": [
    {
     "data": {
      "text/plain": [
       "['ArithmeticError',\n",
       " 'AssertionError',\n",
       " 'AttributeError',\n",
       " 'BaseException',\n",
       " 'BaseExceptionGroup',\n",
       " 'BlockingIOError',\n",
       " 'BrokenPipeError',\n",
       " 'BufferError',\n",
       " 'BytesWarning',\n",
       " 'ChildProcessError',\n",
       " 'ConnectionAbortedError',\n",
       " 'ConnectionError',\n",
       " 'ConnectionRefusedError',\n",
       " 'ConnectionResetError',\n",
       " 'DeprecationWarning',\n",
       " 'EOFError',\n",
       " 'Ellipsis',\n",
       " 'EncodingWarning',\n",
       " 'EnvironmentError',\n",
       " 'Exception',\n",
       " 'ExceptionGroup',\n",
       " 'False',\n",
       " 'FileExistsError',\n",
       " 'FileNotFoundError',\n",
       " 'FloatingPointError',\n",
       " 'FutureWarning',\n",
       " 'GeneratorExit',\n",
       " 'IOError',\n",
       " 'ImportError',\n",
       " 'ImportWarning',\n",
       " 'IndentationError',\n",
       " 'IndexError',\n",
       " 'InterruptedError',\n",
       " 'IsADirectoryError',\n",
       " 'KeyError',\n",
       " 'KeyboardInterrupt',\n",
       " 'LookupError',\n",
       " 'MemoryError',\n",
       " 'ModuleNotFoundError',\n",
       " 'NameError',\n",
       " 'None',\n",
       " 'NotADirectoryError',\n",
       " 'NotImplemented',\n",
       " 'NotImplementedError',\n",
       " 'OSError',\n",
       " 'OverflowError',\n",
       " 'PendingDeprecationWarning',\n",
       " 'PermissionError',\n",
       " 'ProcessLookupError',\n",
       " 'RecursionError',\n",
       " 'ReferenceError',\n",
       " 'ResourceWarning',\n",
       " 'RuntimeError',\n",
       " 'RuntimeWarning',\n",
       " 'StopAsyncIteration',\n",
       " 'StopIteration',\n",
       " 'SyntaxError',\n",
       " 'SyntaxWarning',\n",
       " 'SystemError',\n",
       " 'SystemExit',\n",
       " 'TabError',\n",
       " 'TimeoutError',\n",
       " 'True',\n",
       " 'TypeError',\n",
       " 'UnboundLocalError',\n",
       " 'UnicodeDecodeError',\n",
       " 'UnicodeEncodeError',\n",
       " 'UnicodeError',\n",
       " 'UnicodeTranslateError',\n",
       " 'UnicodeWarning',\n",
       " 'UserWarning',\n",
       " 'ValueError',\n",
       " 'Warning',\n",
       " 'WindowsError',\n",
       " 'ZeroDivisionError',\n",
       " '__IPYTHON__',\n",
       " '__build_class__',\n",
       " '__debug__',\n",
       " '__doc__',\n",
       " '__import__',\n",
       " '__loader__',\n",
       " '__name__',\n",
       " '__package__',\n",
       " '__spec__',\n",
       " 'abs',\n",
       " 'aiter',\n",
       " 'all',\n",
       " 'anext',\n",
       " 'any',\n",
       " 'ascii',\n",
       " 'bin',\n",
       " 'bool',\n",
       " 'breakpoint',\n",
       " 'bytearray',\n",
       " 'bytes',\n",
       " 'callable',\n",
       " 'chr',\n",
       " 'classmethod',\n",
       " 'compile',\n",
       " 'complex',\n",
       " 'copyright',\n",
       " 'credits',\n",
       " 'delattr',\n",
       " 'dict',\n",
       " 'dir',\n",
       " 'display',\n",
       " 'divmod',\n",
       " 'enumerate',\n",
       " 'eval',\n",
       " 'exec',\n",
       " 'execfile',\n",
       " 'filter',\n",
       " 'float',\n",
       " 'format',\n",
       " 'frozenset',\n",
       " 'get_ipython',\n",
       " 'getattr',\n",
       " 'globals',\n",
       " 'hasattr',\n",
       " 'hash',\n",
       " 'help',\n",
       " 'hex',\n",
       " 'id',\n",
       " 'input',\n",
       " 'int',\n",
       " 'isinstance',\n",
       " 'issubclass',\n",
       " 'iter',\n",
       " 'len',\n",
       " 'license',\n",
       " 'list',\n",
       " 'locals',\n",
       " 'map',\n",
       " 'max',\n",
       " 'memoryview',\n",
       " 'min',\n",
       " 'next',\n",
       " 'object',\n",
       " 'oct',\n",
       " 'open',\n",
       " 'ord',\n",
       " 'pow',\n",
       " 'print',\n",
       " 'property',\n",
       " 'range',\n",
       " 'repr',\n",
       " 'reversed',\n",
       " 'round',\n",
       " 'runfile',\n",
       " 'set',\n",
       " 'setattr',\n",
       " 'slice',\n",
       " 'sorted',\n",
       " 'staticmethod',\n",
       " 'str',\n",
       " 'sum',\n",
       " 'super',\n",
       " 'tuple',\n",
       " 'type',\n",
       " 'vars',\n",
       " 'zip']"
      ]
     },
     "execution_count": 14,
     "metadata": {},
     "output_type": "execute_result"
    }
   ],
   "source": [
    "dir(builtins)"
   ]
  },
  {
   "cell_type": "markdown",
   "id": "2b9aa626-b015-4423-8049-43373496ea94",
   "metadata": {
    "jp-MarkdownHeadingCollapsed": true
   },
   "source": [
    "## 7장-입력과 출력"
   ]
  },
  {
   "cell_type": "code",
   "execution_count": 17,
   "id": "4d20fd89-970d-4059-b2ce-d553a247e92c",
   "metadata": {},
   "outputs": [
    {
     "data": {
      "text/plain": [
       "'Results of the 2016 Referedum'"
      ]
     },
     "execution_count": 17,
     "metadata": {},
     "output_type": "execute_result"
    }
   ],
   "source": [
    "year = 2016\n",
    "event = 'Referedum'\n",
    "f'Results of the {year} {event}'"
   ]
  },
  {
   "cell_type": "code",
   "execution_count": 21,
   "id": "9262b955-c91f-4446-a4e3-9060ae589ff1",
   "metadata": {},
   "outputs": [
    {
     "data": {
      "text/plain": [
       "'      100 YES votes 50.00%'"
      ]
     },
     "execution_count": 21,
     "metadata": {},
     "output_type": "execute_result"
    }
   ],
   "source": [
    "yes_vote = 100\n",
    "total_vote = 200\n",
    "percentage = yes_vote / total_vote\n",
    "'{:-9} YES votes {:2.2%}'.format(yes_vote, percentage)"
   ]
  },
  {
   "cell_type": "code",
   "execution_count": 22,
   "id": "89d1f9e4-c173-4408-824a-5b751d4e3cd2",
   "metadata": {},
   "outputs": [
    {
     "data": {
      "text/plain": [
       "'Hello,world.'"
      ]
     },
     "execution_count": 22,
     "metadata": {},
     "output_type": "execute_result"
    }
   ],
   "source": [
    "s = 'Hello,world.'\n",
    "str(s)"
   ]
  },
  {
   "cell_type": "code",
   "execution_count": 23,
   "id": "d5b095d4-ca53-4c1d-9bd9-2a5447a478fa",
   "metadata": {},
   "outputs": [
    {
     "data": {
      "text/plain": [
       "\"'Hello,world.'\""
      ]
     },
     "execution_count": 23,
     "metadata": {},
     "output_type": "execute_result"
    }
   ],
   "source": [
    "repr(s)"
   ]
  },
  {
   "cell_type": "code",
   "execution_count": 24,
   "id": "930a255d-639b-4de9-8e19-2b3409ca8728",
   "metadata": {},
   "outputs": [
    {
     "data": {
      "text/plain": [
       "'0.14285714285714285'"
      ]
     },
     "execution_count": 24,
     "metadata": {},
     "output_type": "execute_result"
    }
   ],
   "source": [
    "str(1/7)"
   ]
  },
  {
   "cell_type": "code",
   "execution_count": 25,
   "id": "9a6de4ed-918d-4721-94b0-5f8870745d98",
   "metadata": {},
   "outputs": [],
   "source": [
    "x = 10*3.25\n",
    "y = 200*200\n",
    "s = 'The value of x is' + repr(x) + ', and y is' + repr(y) + '...'"
   ]
  },
  {
   "cell_type": "code",
   "execution_count": 26,
   "id": "53f329ac-0686-485f-958b-501b18b200e8",
   "metadata": {},
   "outputs": [
    {
     "name": "stdout",
     "output_type": "stream",
     "text": [
      "The value of x is32.5, and y is40000...\n"
     ]
    }
   ],
   "source": [
    "print(s)"
   ]
  },
  {
   "cell_type": "code",
   "execution_count": 27,
   "id": "25c134b3-164d-46a3-b3bc-775395cd2ca2",
   "metadata": {},
   "outputs": [
    {
     "data": {
      "text/plain": [
       "\"'The value of x is32.5, and y is40000...'\""
      ]
     },
     "execution_count": 27,
     "metadata": {},
     "output_type": "execute_result"
    }
   ],
   "source": [
    "repr(s)"
   ]
  },
  {
   "cell_type": "code",
   "execution_count": 28,
   "id": "d5c8cc59-f4cf-44a2-8d4c-9e36e5fcf0a0",
   "metadata": {},
   "outputs": [
    {
     "data": {
      "text/plain": [
       "'The value of x is32.5, and y is40000...'"
      ]
     },
     "execution_count": 28,
     "metadata": {},
     "output_type": "execute_result"
    }
   ],
   "source": [
    "s"
   ]
  },
  {
   "cell_type": "code",
   "execution_count": 30,
   "id": "d39611dc-a72a-4247-ba9b-5c8c8b477ccf",
   "metadata": {},
   "outputs": [
    {
     "name": "stdout",
     "output_type": "stream",
     "text": [
      "'hello,world\\n'\n"
     ]
    }
   ],
   "source": [
    "hello = 'hello,world\\n'\n",
    "hellos = repr(hello)\n",
    "print(hellos)"
   ]
  },
  {
   "cell_type": "code",
   "execution_count": 32,
   "id": "0130f102-8e8a-4703-a361-3695efec239a",
   "metadata": {},
   "outputs": [],
   "source": [
    "s = repr((x,y,('spam','eggs')))"
   ]
  },
  {
   "cell_type": "code",
   "execution_count": 33,
   "id": "673f9832-4345-4cb7-ac4e-62c9ab507ac8",
   "metadata": {},
   "outputs": [
    {
     "data": {
      "text/plain": [
       "\"(32.5, 40000, ('spam', 'eggs'))\""
      ]
     },
     "execution_count": 33,
     "metadata": {},
     "output_type": "execute_result"
    }
   ],
   "source": [
    "s"
   ]
  },
  {
   "cell_type": "code",
   "execution_count": 34,
   "id": "765e07ba-9ea3-4986-8d52-9e3ef1918a3f",
   "metadata": {},
   "outputs": [
    {
     "name": "stdout",
     "output_type": "stream",
     "text": [
      "(32.5, 40000, ('spam', 'eggs'))\n"
     ]
    }
   ],
   "source": [
    "print(s)"
   ]
  },
  {
   "cell_type": "code",
   "execution_count": 35,
   "id": "c45634bb-0d30-40c9-9462-d28ef98f4adf",
   "metadata": {},
   "outputs": [
    {
     "data": {
      "text/plain": [
       "'\"(32.5, 40000, (\\'spam\\', \\'eggs\\'))\"'"
      ]
     },
     "execution_count": 35,
     "metadata": {},
     "output_type": "execute_result"
    }
   ],
   "source": [
    "repr(s)"
   ]
  },
  {
   "cell_type": "code",
   "execution_count": 36,
   "id": "6960394d-d8bc-4e8e-ac0b-e3d1ddb4efaf",
   "metadata": {},
   "outputs": [
    {
     "name": "stdout",
     "output_type": "stream",
     "text": [
      "The value of pi is approximately 3.142.\n"
     ]
    }
   ],
   "source": [
    "import math\n",
    "print(f'The value of pi is approximately {math.pi:.3f}.')"
   ]
  },
  {
   "cell_type": "code",
   "execution_count": 37,
   "id": "73f48413-51ba-4c4e-8a48-95cdc2181c86",
   "metadata": {},
   "outputs": [
    {
     "name": "stdout",
     "output_type": "stream",
     "text": [
      "Sjoerd     ==>       4127\n",
      "Jack       ==>       4098\n",
      "Dcab       ==>       7678\n"
     ]
    }
   ],
   "source": [
    "table = {'Sjoerd': 4127, 'Jack': 4098, 'Dcab': 7678}\n",
    "for name, phone in table.items():\n",
    "    print(f'{name:10} ==> {phone:10d}')"
   ]
  },
  {
   "cell_type": "code",
   "execution_count": 38,
   "id": "8b7dbd68-a8c3-4f79-89e5-ccc5eba8a091",
   "metadata": {},
   "outputs": [
    {
     "name": "stdout",
     "output_type": "stream",
     "text": [
      "Sjoerd ==>  4127\n",
      "Jack  ==>  4098\n",
      "Dcab  ==>  7678\n"
     ]
    }
   ],
   "source": [
    "table = {'Sjoerd': 4127, 'Jack': 4098, 'Dcab': 7678}\n",
    "for name, phone in table.items():\n",
    "    print(f'{name:5} ==> {phone:5d}')"
   ]
  },
  {
   "cell_type": "code",
   "execution_count": 39,
   "id": "f69e13b8-59de-47d3-8e62-faf6a666a5f0",
   "metadata": {},
   "outputs": [
    {
     "name": "stdout",
     "output_type": "stream",
     "text": [
      "Sjoerd ==>   4127\n",
      "Jack   ==>   4098\n",
      "Dcab   ==>   7678\n"
     ]
    }
   ],
   "source": [
    "table = {'Sjoerd': 4127, 'Jack': 4098, 'Dcab': 7678}\n",
    "for name, phone in table.items():\n",
    "    print(f'{name:6} ==> {phone:6d}')"
   ]
  },
  {
   "cell_type": "code",
   "execution_count": 40,
   "id": "66eeaed5-8003-4d6c-81d4-f017ad0f764f",
   "metadata": {},
   "outputs": [],
   "source": [
    "#'!a'는 ascii()를, '!s'는 str()을, '!r'는 repr()"
   ]
  },
  {
   "cell_type": "code",
   "execution_count": 1,
   "id": "c4a6c96a-a7f5-4007-968c-2591d0a32fc7",
   "metadata": {},
   "outputs": [
    {
     "name": "stdout",
     "output_type": "stream",
     "text": [
      "My hovercraft is full of eels.\n"
     ]
    }
   ],
   "source": [
    "animals = 'eels'\n",
    "print(f'My hovercraft is full of {animals}.')"
   ]
  },
  {
   "cell_type": "code",
   "execution_count": 2,
   "id": "1cdc1082-a54d-4afe-8634-d74282fb108d",
   "metadata": {},
   "outputs": [
    {
     "name": "stdout",
     "output_type": "stream",
     "text": [
      "My hovercraft is full of 'eels'\n"
     ]
    }
   ],
   "source": [
    "print(f'My hovercraft is full of {animals!r}')"
   ]
  },
  {
   "cell_type": "code",
   "execution_count": 3,
   "id": "15dbc99f-ac93-4525-8781-d9674315226c",
   "metadata": {},
   "outputs": [
    {
     "name": "stdout",
     "output_type": "stream",
     "text": [
      "Debugging bugs='roaches' count=13 area='living room'\n"
     ]
    }
   ],
   "source": [
    "bugs = 'roaches'\n",
    "count = 13\n",
    "area = 'living room'\n",
    "print(f'Debugging {bugs=} {count=} {area=}')"
   ]
  },
  {
   "cell_type": "code",
   "execution_count": 5,
   "id": "24b6aca9-1626-4f99-829a-d175cd1eef11",
   "metadata": {},
   "outputs": [],
   "source": [
    "#format(*args, **kwargs)"
   ]
  },
  {
   "cell_type": "code",
   "execution_count": 6,
   "id": "962cbf94-0217-4e5d-9845-0db0963840fd",
   "metadata": {},
   "outputs": [
    {
     "name": "stdout",
     "output_type": "stream",
     "text": [
      "We are the knights who say \"Ni!\"\n"
     ]
    }
   ],
   "source": [
    "print('We are the {} who say \"{}!\"'.format('knights', 'Ni'))"
   ]
  },
  {
   "cell_type": "code",
   "execution_count": 7,
   "id": "f6686754-ef9b-4212-9e4d-68c9349c3858",
   "metadata": {},
   "outputs": [],
   "source": [
    "#파이썬 format()"
   ]
  },
  {
   "cell_type": "code",
   "execution_count": 8,
   "id": "f1dbe59e-11db-4f59-9586-c285dc3b859d",
   "metadata": {},
   "outputs": [],
   "source": [
    "s1 = 'name : {}'.format('balbal')"
   ]
  },
  {
   "cell_type": "code",
   "execution_count": 9,
   "id": "55debea3-e91f-4a25-b9eb-d0ae999df240",
   "metadata": {},
   "outputs": [
    {
     "data": {
      "text/plain": [
       "'name : balbal'"
      ]
     },
     "execution_count": 9,
     "metadata": {},
     "output_type": "execute_result"
    }
   ],
   "source": [
    "s1"
   ]
  },
  {
   "cell_type": "code",
   "execution_count": 12,
   "id": "04772bdf-b07b-44b3-85be-132ed7b750d1",
   "metadata": {},
   "outputs": [],
   "source": [
    "s1 = 'name : {0}'.format('balbal')"
   ]
  },
  {
   "cell_type": "code",
   "execution_count": 13,
   "id": "0e1c455c-03f0-404e-8016-aa462086ea90",
   "metadata": {},
   "outputs": [
    {
     "data": {
      "text/plain": [
       "'name : balbal'"
      ]
     },
     "execution_count": 13,
     "metadata": {},
     "output_type": "execute_result"
    }
   ],
   "source": [
    "s1"
   ]
  },
  {
   "cell_type": "code",
   "execution_count": 21,
   "id": "9a0b6cb8-6796-4792-b007-52a672376055",
   "metadata": {},
   "outputs": [
    {
     "name": "stdout",
     "output_type": "stream",
     "text": [
      "age : 55\n"
     ]
    }
   ],
   "source": [
    "age=55\n",
    "s2='age : {0}'.format(age) #0은 인덱스 번호\n",
    "print(s2)"
   ]
  },
  {
   "cell_type": "code",
   "execution_count": 19,
   "id": "ac8f421e-43e5-485a-9247-c9c671bb11ba",
   "metadata": {},
   "outputs": [
    {
     "name": "stdout",
     "output_type": "stream",
     "text": [
      "age : 55\n"
     ]
    }
   ],
   "source": [
    "age=55\n",
    "s2='age : {}'.format(age)\n",
    "print(s2)"
   ]
  },
  {
   "cell_type": "code",
   "execution_count": 24,
   "id": "50b213fc-54bc-4b98-a072-38480b8fabc8",
   "metadata": {},
   "outputs": [
    {
     "name": "stdout",
     "output_type": "stream",
     "text": [
      "number:1234, gender:남\n"
     ]
    }
   ],
   "source": [
    "s3= 'number:{num}, gender:{gen}'.format(num=1234, gen='남')\n",
    "print(s3)"
   ]
  },
  {
   "cell_type": "code",
   "execution_count": 3,
   "id": "71d35c35-83a8-4183-8c8a-6c8206c5f54a",
   "metadata": {},
   "outputs": [
    {
     "name": "stdout",
     "output_type": "stream",
     "text": [
      "spam and eggs\n"
     ]
    }
   ],
   "source": [
    "print('{0} and {1}'.format('spam', 'eggs')) #숫자는 인덱스"
   ]
  },
  {
   "cell_type": "code",
   "execution_count": 4,
   "id": "7d6342e5-8cb6-439a-9fdb-941b3bedcd12",
   "metadata": {},
   "outputs": [
    {
     "name": "stdout",
     "output_type": "stream",
     "text": [
      "eggs and spam\n"
     ]
    }
   ],
   "source": [
    "print('{1} and {0}'.format('spam', 'eggs'))\n"
   ]
  },
  {
   "cell_type": "code",
   "execution_count": 5,
   "id": "674b7f91-3074-40f3-ad1c-525ef54479a9",
   "metadata": {},
   "outputs": [
    {
     "name": "stdout",
     "output_type": "stream",
     "text": [
      "This spam is absolutely horrible.\n"
     ]
    }
   ],
   "source": [
    "print('This {food} is {adjective}.'.format(\n",
    "      food='spam', adjective='absolutely horrible'))"
   ]
  },
  {
   "cell_type": "code",
   "execution_count": 6,
   "id": "899b357e-1a51-4dde-9182-3d6bb2085817",
   "metadata": {},
   "outputs": [
    {
     "name": "stdout",
     "output_type": "stream",
     "text": [
      "The story of Bill, Manfred, and Georg.\n"
     ]
    }
   ],
   "source": [
    "print('The story of {0}, {1}, and {other}.'.format('Bill', 'Manfred', other='Georg'))"
   ]
  },
  {
   "cell_type": "code",
   "execution_count": 7,
   "id": "70903e5e-4acb-42e4-80f5-50f809787669",
   "metadata": {},
   "outputs": [
    {
     "name": "stdout",
     "output_type": "stream",
     "text": [
      "Jack: 4098; Sjoerd: 4127; Dcab: 8637678\n"
     ]
    }
   ],
   "source": [
    "table = {'Sjoerd': 4127, 'Jack': 4098, 'Dcab': 8637678}\n",
    "print('Jack: {0[Jack]:d}; Sjoerd: {0[Sjoerd]:d}; '\n",
    "      'Dcab: {0[Dcab]:d}'.format(table))"
   ]
  },
  {
   "cell_type": "code",
   "execution_count": 8,
   "id": "7d76a729-9bd9-450c-9b24-80c810f0f63e",
   "metadata": {},
   "outputs": [
    {
     "name": "stdout",
     "output_type": "stream",
     "text": [
      "Jack: 4098; Sjoerd: 4127; Dcab: 8637678\n"
     ]
    }
   ],
   "source": [
    "table = {'Sjoerd': 4127, 'Jack': 4098, 'Dcab': 8637678}\n",
    "print('Jack: {Jack:d}; Sjoerd: {Sjoerd:d}; Dcab: {Dcab:d}'.format(**table))"
   ]
  },
  {
   "cell_type": "code",
   "execution_count": 9,
   "id": "47f045ac-db55-4c2b-a9d4-3a63de5a3b47",
   "metadata": {
    "scrolled": true
   },
   "outputs": [
    {
     "name": "stdout",
     "output_type": "stream",
     "text": [
      "__name__: __main__; __doc__: Automatically created module for IPython interactive environment; __package__: None; __loader__: None; __spec__: None; __builtin__: <module 'builtins' (built-in)>; __builtins__: <module 'builtins' (built-in)>; _ih: ['', \"print('{0} and {1}'.format('spam', 'eggs'))\", \"print('{1} and {0}'.format('spam', 'eggs'))\", \"print('{0} and {1}'.format('spam', 'eggs')) #숫자는 인덱스\", \"print('{1} and {0}'.format('spam', 'eggs'))\", \"print('This {food} is {adjective}.'.format(\\n      food='spam', adjective='absolutely horrible'))\", \"print('The story of {0}, {1}, and {other}.'.format('Bill', 'Manfred', other='Georg'))\", \"table = {'Sjoerd': 4127, 'Jack': 4098, 'Dcab': 8637678}\\nprint('Jack: {0[Jack]:d}; Sjoerd: {0[Sjoerd]:d}; '\\n      'Dcab: {0[Dcab]:d}'.format(table))\", \"table = {'Sjoerd': 4127, 'Jack': 4098, 'Dcab': 8637678}\\nprint('Jack: {Jack:d}; Sjoerd: {Sjoerd:d}; Dcab: {Dcab:d}'.format(**table))\", 'table = {k: str(v) for k, v in vars().items()}\\nmessage = \" \".join([f\\'{k}: \\' + \\'{\\' + k +\\'};\\' for k in table.keys()])\\nprint(message.format(**table))']; _oh: {}; _dh: [WindowsPath('C:/Users/minsung/Desktop/python_doc')]; In: ['', \"print('{0} and {1}'.format('spam', 'eggs'))\", \"print('{1} and {0}'.format('spam', 'eggs'))\", \"print('{0} and {1}'.format('spam', 'eggs')) #숫자는 인덱스\", \"print('{1} and {0}'.format('spam', 'eggs'))\", \"print('This {food} is {adjective}.'.format(\\n      food='spam', adjective='absolutely horrible'))\", \"print('The story of {0}, {1}, and {other}.'.format('Bill', 'Manfred', other='Georg'))\", \"table = {'Sjoerd': 4127, 'Jack': 4098, 'Dcab': 8637678}\\nprint('Jack: {0[Jack]:d}; Sjoerd: {0[Sjoerd]:d}; '\\n      'Dcab: {0[Dcab]:d}'.format(table))\", \"table = {'Sjoerd': 4127, 'Jack': 4098, 'Dcab': 8637678}\\nprint('Jack: {Jack:d}; Sjoerd: {Sjoerd:d}; Dcab: {Dcab:d}'.format(**table))\", 'table = {k: str(v) for k, v in vars().items()}\\nmessage = \" \".join([f\\'{k}: \\' + \\'{\\' + k +\\'};\\' for k in table.keys()])\\nprint(message.format(**table))']; Out: {}; get_ipython: <bound method InteractiveShell.get_ipython of <ipykernel.zmqshell.ZMQInteractiveShell object at 0x0000016E76E03F80>>; exit: <IPython.core.autocall.ZMQExitAutocall object at 0x0000016E7713D820>; quit: <IPython.core.autocall.ZMQExitAutocall object at 0x0000016E7713D820>; open: <function open at 0x0000016E75219940>; _: ; __: ; ___: ; __session__: C:\\Users\\minsung\\Desktop\\python_doc\\homework.ipynb; _i: table = {'Sjoerd': 4127, 'Jack': 4098, 'Dcab': 8637678}\n",
      "print('Jack: {Jack:d}; Sjoerd: {Sjoerd:d}; Dcab: {Dcab:d}'.format(**table)); _ii: table = {'Sjoerd': 4127, 'Jack': 4098, 'Dcab': 8637678}\n",
      "print('Jack: {0[Jack]:d}; Sjoerd: {0[Sjoerd]:d}; '\n",
      "      'Dcab: {0[Dcab]:d}'.format(table)); _iii: print('The story of {0}, {1}, and {other}.'.format('Bill', 'Manfred', other='Georg')); _i1: print('{0} and {1}'.format('spam', 'eggs')); _i2: print('{1} and {0}'.format('spam', 'eggs')); _i3: print('{0} and {1}'.format('spam', 'eggs')) #숫자는 인덱스; _i4: print('{1} and {0}'.format('spam', 'eggs')); _i5: print('This {food} is {adjective}.'.format(\n",
      "      food='spam', adjective='absolutely horrible')); _i6: print('The story of {0}, {1}, and {other}.'.format('Bill', 'Manfred', other='Georg')); _i7: table = {'Sjoerd': 4127, 'Jack': 4098, 'Dcab': 8637678}\n",
      "print('Jack: {0[Jack]:d}; Sjoerd: {0[Sjoerd]:d}; '\n",
      "      'Dcab: {0[Dcab]:d}'.format(table)); table: {'Sjoerd': 4127, 'Jack': 4098, 'Dcab': 8637678}; _i8: table = {'Sjoerd': 4127, 'Jack': 4098, 'Dcab': 8637678}\n",
      "print('Jack: {Jack:d}; Sjoerd: {Sjoerd:d}; Dcab: {Dcab:d}'.format(**table)); _i9: table = {k: str(v) for k, v in vars().items()}\n",
      "message = \" \".join([f'{k}: ' + '{' + k +'};' for k in table.keys()])\n",
      "print(message.format(**table));\n"
     ]
    }
   ],
   "source": [
    "table = {k: str(v) for k, v in vars().items()}\n",
    "message = \" \".join([f'{k}: ' + '{' + k +'};' for k in table.keys()])\n",
    "print(message.format(**table))"
   ]
  },
  {
   "cell_type": "code",
   "execution_count": 10,
   "id": "118447e1-b595-4081-82fd-8e2bd6dd8142",
   "metadata": {},
   "outputs": [
    {
     "name": "stdout",
     "output_type": "stream",
     "text": [
      " 1   1    1\n",
      " 2   4    8\n",
      " 3   9   27\n",
      " 4  16   64\n",
      " 5  25  125\n",
      " 6  36  216\n",
      " 7  49  343\n",
      " 8  64  512\n",
      " 9  81  729\n",
      "10 100 1000\n"
     ]
    }
   ],
   "source": [
    "for x in range(1, 11):\n",
    "    print('{0:2d} {1:3d} {2:4d}'.format(x, x*x, x*x*x))"
   ]
  },
  {
   "cell_type": "code",
   "execution_count": 11,
   "id": "7bacf819-3aba-4928-93dc-34fd57fc2307",
   "metadata": {},
   "outputs": [
    {
     "name": "stdout",
     "output_type": "stream",
     "text": [
      " 1   1    1\n",
      " 2   4    8\n",
      " 3   9   27\n",
      " 4  16   64\n",
      " 5  25  125\n",
      " 6  36  216\n",
      " 7  49  343\n",
      " 8  64  512\n",
      " 9  81  729\n",
      "10 100 1000\n"
     ]
    }
   ],
   "source": [
    "for x in range(1, 11):\n",
    "    print(repr(x).rjust(2), repr(x*x).rjust(3), end=' ')\n",
    "    # Note use of 'end' on previous line\n",
    "    print(repr(x*x*x).rjust(4))"
   ]
  },
  {
   "cell_type": "code",
   "execution_count": 12,
   "id": "1da20152-8dac-44d2-bfb3-a7b614e4cb77",
   "metadata": {},
   "outputs": [
    {
     "data": {
      "text/plain": [
       "'00012'"
      ]
     },
     "execution_count": 12,
     "metadata": {},
     "output_type": "execute_result"
    }
   ],
   "source": [
    "'12'.zfill(5)"
   ]
  },
  {
   "cell_type": "code",
   "execution_count": 13,
   "id": "c0d3181b-28fd-4f92-990e-a530dd497806",
   "metadata": {},
   "outputs": [
    {
     "data": {
      "text/plain": [
       "'-003.14'"
      ]
     },
     "execution_count": 13,
     "metadata": {},
     "output_type": "execute_result"
    }
   ],
   "source": [
    "'-3.14'.zfill(7)"
   ]
  },
  {
   "cell_type": "code",
   "execution_count": 14,
   "id": "bde2f701-302e-42cc-b5fd-c98c631a8905",
   "metadata": {},
   "outputs": [
    {
     "data": {
      "text/plain": [
       "'3.14159265359'"
      ]
     },
     "execution_count": 14,
     "metadata": {},
     "output_type": "execute_result"
    }
   ],
   "source": [
    "'3.14159265359'.zfill(5)"
   ]
  },
  {
   "cell_type": "code",
   "execution_count": 15,
   "id": "98193e01-f7cf-415b-bf6b-08a286245122",
   "metadata": {},
   "outputs": [
    {
     "name": "stdout",
     "output_type": "stream",
     "text": [
      "The value of pi is approximately 3.142.\n"
     ]
    }
   ],
   "source": [
    "import math\n",
    "print('The value of pi is approximately %5.3f.' % math.pi)"
   ]
  },
  {
   "cell_type": "code",
   "execution_count": 37,
   "id": "5d9bea5d-22ae-4168-b705-5f137aebbd54",
   "metadata": {},
   "outputs": [],
   "source": [
    "f = open('workfile', 'w', encoding=\"utf-8\")"
   ]
  },
  {
   "cell_type": "code",
   "execution_count": 38,
   "id": "a2df0be3-ea1f-4791-b3dd-70f6d81058df",
   "metadata": {},
   "outputs": [],
   "source": [
    "with open('workfile', encoding=\"utf-8\") as f:\n",
    "    read_data = f.read()"
   ]
  },
  {
   "cell_type": "code",
   "execution_count": 39,
   "id": "9cbc48f5-d302-41ed-87b5-dc96c864ab24",
   "metadata": {},
   "outputs": [
    {
     "data": {
      "text/plain": [
       "True"
      ]
     },
     "execution_count": 39,
     "metadata": {},
     "output_type": "execute_result"
    }
   ],
   "source": [
    "f.closed"
   ]
  },
  {
   "cell_type": "code",
   "execution_count": 40,
   "id": "b4f3373a-ea4b-4cd7-bf43-3c2fa4ae2006",
   "metadata": {},
   "outputs": [
    {
     "ename": "ValueError",
     "evalue": "I/O operation on closed file.",
     "output_type": "error",
     "traceback": [
      "\u001b[1;31m---------------------------------------------------------------------------\u001b[0m",
      "\u001b[1;31mValueError\u001b[0m                                Traceback (most recent call last)",
      "Cell \u001b[1;32mIn[40], line 2\u001b[0m\n\u001b[0;32m      1\u001b[0m f\u001b[38;5;241m.\u001b[39mclose()\n\u001b[1;32m----> 2\u001b[0m \u001b[43mf\u001b[49m\u001b[38;5;241;43m.\u001b[39;49m\u001b[43mread\u001b[49m\u001b[43m(\u001b[49m\u001b[43m)\u001b[49m\n",
      "\u001b[1;31mValueError\u001b[0m: I/O operation on closed file."
     ]
    }
   ],
   "source": [
    "f.close()\n",
    "f.read()"
   ]
  },
  {
   "cell_type": "code",
   "execution_count": 41,
   "id": "d2977abe-1cfd-4750-b9af-70cf90f3cf40",
   "metadata": {},
   "outputs": [
    {
     "ename": "ValueError",
     "evalue": "I/O operation on closed file.",
     "output_type": "error",
     "traceback": [
      "\u001b[1;31m---------------------------------------------------------------------------\u001b[0m",
      "\u001b[1;31mValueError\u001b[0m                                Traceback (most recent call last)",
      "Cell \u001b[1;32mIn[41], line 1\u001b[0m\n\u001b[1;32m----> 1\u001b[0m \u001b[43mf\u001b[49m\u001b[38;5;241;43m.\u001b[39;49m\u001b[43mread\u001b[49m\u001b[43m(\u001b[49m\u001b[43m)\u001b[49m\n",
      "\u001b[1;31mValueError\u001b[0m: I/O operation on closed file."
     ]
    }
   ],
   "source": [
    "f.read()\n"
   ]
  },
  {
   "cell_type": "code",
   "execution_count": 42,
   "id": "7306f410-47aa-4364-8d2c-89de5a20bafb",
   "metadata": {},
   "outputs": [
    {
     "ename": "ValueError",
     "evalue": "I/O operation on closed file.",
     "output_type": "error",
     "traceback": [
      "\u001b[1;31m---------------------------------------------------------------------------\u001b[0m",
      "\u001b[1;31mValueError\u001b[0m                                Traceback (most recent call last)",
      "Cell \u001b[1;32mIn[42], line 1\u001b[0m\n\u001b[1;32m----> 1\u001b[0m \u001b[43mf\u001b[49m\u001b[38;5;241;43m.\u001b[39;49m\u001b[43mread\u001b[49m\u001b[43m(\u001b[49m\u001b[43m)\u001b[49m\n",
      "\u001b[1;31mValueError\u001b[0m: I/O operation on closed file."
     ]
    }
   ],
   "source": [
    "f.read()"
   ]
  },
  {
   "cell_type": "code",
   "execution_count": 43,
   "id": "0c2730d8-8ae6-414f-9bdd-36c7e2c981d5",
   "metadata": {},
   "outputs": [
    {
     "ename": "ValueError",
     "evalue": "I/O operation on closed file.",
     "output_type": "error",
     "traceback": [
      "\u001b[1;31m---------------------------------------------------------------------------\u001b[0m",
      "\u001b[1;31mValueError\u001b[0m                                Traceback (most recent call last)",
      "Cell \u001b[1;32mIn[43], line 1\u001b[0m\n\u001b[1;32m----> 1\u001b[0m \u001b[43mf\u001b[49m\u001b[38;5;241;43m.\u001b[39;49m\u001b[43mreadline\u001b[49m\u001b[43m(\u001b[49m\u001b[43m)\u001b[49m\n",
      "\u001b[1;31mValueError\u001b[0m: I/O operation on closed file."
     ]
    }
   ],
   "source": [
    "f.readline()"
   ]
  },
  {
   "cell_type": "code",
   "execution_count": 44,
   "id": "21de3c66-9978-496e-a873-35c13d7d2b39",
   "metadata": {},
   "outputs": [
    {
     "ename": "ValueError",
     "evalue": "I/O operation on closed file.",
     "output_type": "error",
     "traceback": [
      "\u001b[1;31m---------------------------------------------------------------------------\u001b[0m",
      "\u001b[1;31mValueError\u001b[0m                                Traceback (most recent call last)",
      "Cell \u001b[1;32mIn[44], line 1\u001b[0m\n\u001b[1;32m----> 1\u001b[0m \u001b[43mf\u001b[49m\u001b[38;5;241;43m.\u001b[39;49m\u001b[43mreadline\u001b[49m\u001b[43m(\u001b[49m\u001b[43m)\u001b[49m\n",
      "\u001b[1;31mValueError\u001b[0m: I/O operation on closed file."
     ]
    }
   ],
   "source": [
    "f.readline()"
   ]
  },
  {
   "cell_type": "code",
   "execution_count": 45,
   "id": "f0633886-10ac-4b27-b540-222418996b64",
   "metadata": {},
   "outputs": [
    {
     "ename": "ValueError",
     "evalue": "I/O operation on closed file.",
     "output_type": "error",
     "traceback": [
      "\u001b[1;31m---------------------------------------------------------------------------\u001b[0m",
      "\u001b[1;31mValueError\u001b[0m                                Traceback (most recent call last)",
      "Cell \u001b[1;32mIn[45], line 1\u001b[0m\n\u001b[1;32m----> 1\u001b[0m \u001b[43mf\u001b[49m\u001b[38;5;241;43m.\u001b[39;49m\u001b[43mreadline\u001b[49m\u001b[43m(\u001b[49m\u001b[43m)\u001b[49m\n",
      "\u001b[1;31mValueError\u001b[0m: I/O operation on closed file."
     ]
    }
   ],
   "source": [
    "f.readline()"
   ]
  },
  {
   "cell_type": "code",
   "execution_count": 46,
   "id": "3b6e4ac4-94b6-435c-b6e6-118b0f675b10",
   "metadata": {},
   "outputs": [
    {
     "ename": "ValueError",
     "evalue": "I/O operation on closed file.",
     "output_type": "error",
     "traceback": [
      "\u001b[1;31m---------------------------------------------------------------------------\u001b[0m",
      "\u001b[1;31mValueError\u001b[0m                                Traceback (most recent call last)",
      "Cell \u001b[1;32mIn[46], line 1\u001b[0m\n\u001b[1;32m----> 1\u001b[0m \u001b[38;5;28;43;01mfor\u001b[39;49;00m\u001b[43m \u001b[49m\u001b[43mline\u001b[49m\u001b[43m \u001b[49m\u001b[38;5;129;43;01min\u001b[39;49;00m\u001b[43m \u001b[49m\u001b[43mf\u001b[49m\u001b[43m:\u001b[49m\n\u001b[0;32m      2\u001b[0m \u001b[43m    \u001b[49m\u001b[38;5;28;43mprint\u001b[39;49m\u001b[43m(\u001b[49m\u001b[43mline\u001b[49m\u001b[43m,\u001b[49m\u001b[43m \u001b[49m\u001b[43mend\u001b[49m\u001b[38;5;241;43m=\u001b[39;49m\u001b[38;5;124;43m'\u001b[39;49m\u001b[38;5;124;43m'\u001b[39;49m\u001b[43m)\u001b[49m\n",
      "\u001b[1;31mValueError\u001b[0m: I/O operation on closed file."
     ]
    }
   ],
   "source": [
    "for line in f:\n",
    "    print(line, end='')"
   ]
  },
  {
   "cell_type": "code",
   "execution_count": 48,
   "id": "c6e6b2f3-7090-4627-8f36-2594f4f928e3",
   "metadata": {},
   "outputs": [],
   "source": [
    "import json"
   ]
  },
  {
   "cell_type": "code",
   "execution_count": 49,
   "id": "6e8df828-ed42-44a6-8ff5-f22edf49ac1e",
   "metadata": {},
   "outputs": [],
   "source": [
    "x = [1, 'simple', 'list']"
   ]
  },
  {
   "cell_type": "code",
   "execution_count": 50,
   "id": "58ec6ce3-77ce-4718-96e9-634bc6ff71c3",
   "metadata": {},
   "outputs": [
    {
     "data": {
      "text/plain": [
       "'[1, \"simple\", \"list\"]'"
      ]
     },
     "execution_count": 50,
     "metadata": {},
     "output_type": "execute_result"
    }
   ],
   "source": [
    "json.dumps(x)"
   ]
  },
  {
   "cell_type": "code",
   "execution_count": 52,
   "id": "0bfcd406-f049-4a82-9d4f-78796b557342",
   "metadata": {},
   "outputs": [
    {
     "ename": "ValueError",
     "evalue": "I/O operation on closed file.",
     "output_type": "error",
     "traceback": [
      "\u001b[1;31m---------------------------------------------------------------------------\u001b[0m",
      "\u001b[1;31mValueError\u001b[0m                                Traceback (most recent call last)",
      "Cell \u001b[1;32mIn[52], line 1\u001b[0m\n\u001b[1;32m----> 1\u001b[0m \u001b[43mjson\u001b[49m\u001b[38;5;241;43m.\u001b[39;49m\u001b[43mdump\u001b[49m\u001b[43m(\u001b[49m\u001b[43mx\u001b[49m\u001b[43m,\u001b[49m\u001b[43mf\u001b[49m\u001b[43m)\u001b[49m\n",
      "File \u001b[1;32m~\\AppData\\Local\\Programs\\Python\\Python312\\Lib\\json\\__init__.py:180\u001b[0m, in \u001b[0;36mdump\u001b[1;34m(obj, fp, skipkeys, ensure_ascii, check_circular, allow_nan, cls, indent, separators, default, sort_keys, **kw)\u001b[0m\n\u001b[0;32m    177\u001b[0m \u001b[38;5;66;03m# could accelerate with writelines in some versions of Python, at\u001b[39;00m\n\u001b[0;32m    178\u001b[0m \u001b[38;5;66;03m# a debuggability cost\u001b[39;00m\n\u001b[0;32m    179\u001b[0m \u001b[38;5;28;01mfor\u001b[39;00m chunk \u001b[38;5;129;01min\u001b[39;00m iterable:\n\u001b[1;32m--> 180\u001b[0m     \u001b[43mfp\u001b[49m\u001b[38;5;241;43m.\u001b[39;49m\u001b[43mwrite\u001b[49m\u001b[43m(\u001b[49m\u001b[43mchunk\u001b[49m\u001b[43m)\u001b[49m\n",
      "\u001b[1;31mValueError\u001b[0m: I/O operation on closed file."
     ]
    }
   ],
   "source": [
    "json.dump(x,f)"
   ]
  },
  {
   "cell_type": "markdown",
   "id": "3cf57f2d-c774-4781-a958-706671d3b0e3",
   "metadata": {},
   "source": [
    "## 8장-에러와 예외"
   ]
  },
  {
   "cell_type": "code",
   "execution_count": 69,
   "id": "d4e6015c-f705-4153-aa61-a33385d92b06",
   "metadata": {
    "scrolled": true
   },
   "outputs": [
    {
     "ename": "SyntaxError",
     "evalue": "invalid syntax (2884618176.py, line 1)",
     "output_type": "error",
     "traceback": [
      "\u001b[1;36m  Cell \u001b[1;32mIn[69], line 1\u001b[1;36m\u001b[0m\n\u001b[1;33m    while True print('Hello world')\u001b[0m\n\u001b[1;37m               ^\u001b[0m\n\u001b[1;31mSyntaxError\u001b[0m\u001b[1;31m:\u001b[0m invalid syntax\n"
     ]
    }
   ],
   "source": [
    "while True print('Hello world')"
   ]
  },
  {
   "cell_type": "code",
   "execution_count": 55,
   "id": "b81bb2af-2f64-4e51-bfa0-be7cabc72b34",
   "metadata": {},
   "outputs": [
    {
     "ename": "ZeroDivisionError",
     "evalue": "division by zero",
     "output_type": "error",
     "traceback": [
      "\u001b[1;31m---------------------------------------------------------------------------\u001b[0m",
      "\u001b[1;31mZeroDivisionError\u001b[0m                         Traceback (most recent call last)",
      "Cell \u001b[1;32mIn[55], line 1\u001b[0m\n\u001b[1;32m----> 1\u001b[0m \u001b[38;5;241m10\u001b[39m \u001b[38;5;241m*\u001b[39m (\u001b[38;5;241;43m1\u001b[39;49m\u001b[38;5;241;43m/\u001b[39;49m\u001b[38;5;241;43m0\u001b[39;49m)\n",
      "\u001b[1;31mZeroDivisionError\u001b[0m: division by zero"
     ]
    }
   ],
   "source": [
    "10 * (1/0)"
   ]
  },
  {
   "cell_type": "code",
   "execution_count": 56,
   "id": "ce0f2b01-8a4b-41f4-ba42-7c502eab628b",
   "metadata": {},
   "outputs": [
    {
     "ename": "NameError",
     "evalue": "name 'spam' is not defined",
     "output_type": "error",
     "traceback": [
      "\u001b[1;31m---------------------------------------------------------------------------\u001b[0m",
      "\u001b[1;31mNameError\u001b[0m                                 Traceback (most recent call last)",
      "Cell \u001b[1;32mIn[56], line 1\u001b[0m\n\u001b[1;32m----> 1\u001b[0m \u001b[38;5;241m4\u001b[39m \u001b[38;5;241m+\u001b[39m \u001b[43mspam\u001b[49m\u001b[38;5;241m*\u001b[39m\u001b[38;5;241m3\u001b[39m\n",
      "\u001b[1;31mNameError\u001b[0m: name 'spam' is not defined"
     ]
    }
   ],
   "source": [
    "4 + spam*3"
   ]
  },
  {
   "cell_type": "code",
   "execution_count": 57,
   "id": "0238322d-9098-417f-90a8-350246b29401",
   "metadata": {},
   "outputs": [
    {
     "ename": "TypeError",
     "evalue": "can only concatenate str (not \"int\") to str",
     "output_type": "error",
     "traceback": [
      "\u001b[1;31m---------------------------------------------------------------------------\u001b[0m",
      "\u001b[1;31mTypeError\u001b[0m                                 Traceback (most recent call last)",
      "Cell \u001b[1;32mIn[57], line 1\u001b[0m\n\u001b[1;32m----> 1\u001b[0m \u001b[38;5;124;43m'\u001b[39;49m\u001b[38;5;124;43m2\u001b[39;49m\u001b[38;5;124;43m'\u001b[39;49m\u001b[43m \u001b[49m\u001b[38;5;241;43m+\u001b[39;49m\u001b[43m \u001b[49m\u001b[38;5;241;43m2\u001b[39;49m\n",
      "\u001b[1;31mTypeError\u001b[0m: can only concatenate str (not \"int\") to str"
     ]
    }
   ],
   "source": [
    "'2' + 2"
   ]
  },
  {
   "cell_type": "markdown",
   "id": "9c8c5788-0f92-4f92-ae7c-16411570065a",
   "metadata": {},
   "source": [
    "예외 처리 기법\n",
    "1. try-except문 \n",
    "try:    #try블록 수행 중 오류가 발생하면 except 블록이 수행된다.\n",
    "    ...\n",
    "except [발생오류 [as 오류변수]]:\n",
    "    ...\n",
    "   "
   ]
  },
  {
   "cell_type": "code",
   "execution_count": 9,
   "id": "12ba4264-f29c-40de-bf2d-d379c286a2ac",
   "metadata": {},
   "outputs": [
    {
     "name": "stdout",
     "output_type": "stream",
     "text": [
      "division by zero\n"
     ]
    }
   ],
   "source": [
    "# try_except.py\n",
    "try:\n",
    "    4 / 0\n",
    "except ZeroDivisionError as e: #오류의 내용까지 알고싶은 경우\n",
    "    print(e)\n",
    "#4/0을 진행하면 ZeroDivisionError가 발생하여 except블록 실행되고 오류 변수 e에 담기는 오류 메시지 출력"
   ]
  },
  {
   "cell_type": "code",
   "execution_count": 3,
   "id": "cefb78df-69e2-4206-a252-a5620848666b",
   "metadata": {},
   "outputs": [
    {
     "name": "stdin",
     "output_type": "stream",
     "text": [
      "Please enter a number:  4\n"
     ]
    }
   ],
   "source": [
    "#try문: 먼저 try문을 진행하고 예외가 발생하지 않으면, except절을 건너뛰고 try문의 실행은 종료됨\n",
    "while True:\n",
    "    try:\n",
    "        x = int(input(\"Please enter a number: \"))\n",
    "        break\n",
    "    except ValueError:\n",
    "        print(\"Oops!  That was no valid number.  Try again...\")"
   ]
  },
  {
   "cell_type": "code",
   "execution_count": 6,
   "id": "cbcf355a-5d9b-4fcb-9e97-043e29002e05",
   "metadata": {},
   "outputs": [
    {
     "name": "stdout",
     "output_type": "stream",
     "text": [
      "B\n",
      "C\n",
      "D\n"
     ]
    }
   ],
   "source": [
    "#예외 클래스는 반드시 Exception을 상속해야함\n",
    "class B(Exception): #B는 Exception 상속\n",
    "    pass\n",
    "\n",
    "class C(B): #C는 B를 상속\n",
    "    pass\n",
    "\n",
    "class D(C): #D는 C를 상속\n",
    "    pass\n",
    "# C는 B를 상속하고, B는 Exception을 상속했기 떄문에 C,D도 결국 예외로 인정됨\n",
    "\n",
    "for cls in [B, C, D]:\n",
    "    try:\n",
    "        raise cls() #raise는 명시적으로 예외를 발생시키는 키워드\n",
    "    except D:\n",
    "        print(\"D\")\n",
    "    except C:\n",
    "        print(\"C\")\n",
    "    except B:\n",
    "        print(\"B\")"
   ]
  },
  {
   "cell_type": "code",
   "execution_count": 10,
   "id": "0d811d76-5662-4526-a0d5-84178a4cab5d",
   "metadata": {},
   "outputs": [
    {
     "name": "stdout",
     "output_type": "stream",
     "text": [
      "<class 'Exception'>\n",
      "('spam', 'eggs')\n",
      "('spam', 'eggs')\n",
      "x = spam\n",
      "y = eggs\n"
     ]
    }
   ],
   "source": [
    "try:\n",
    "    raise Exception('spam', 'eggs') #raise는 예외를 발생시키라는 명령어/ Exception는 클래스 \n",
    "except Exception as inst:\n",
    "    print(type(inst))    # the exception type\n",
    "    print(inst.args)     # arguments stored in .args\n",
    "    print(inst)          # __str__ allows args to be printed directly,\n",
    "                         # but may be overridden in exception subclasses\n",
    "    x, y = inst.args     # unpack args\n",
    "    print('x =', x)\n",
    "    print('y =', y)"
   ]
  },
  {
   "cell_type": "code",
   "execution_count": 12,
   "id": "12eaefce-27f5-464f-bc95-a0a16b5abd83",
   "metadata": {},
   "outputs": [
    {
     "name": "stdout",
     "output_type": "stream",
     "text": [
      "OS error: [Errno 2] No such file or directory: 'myfile.txt'\n"
     ]
    }
   ],
   "source": [
    "import sys\n",
    "\n",
    "try:\n",
    "    f = open('myfile.txt')\n",
    "    s = f.readline()\n",
    "    i = int(s.strip())\n",
    "\n",
    "except OSError as err: #파일 위치나 디스크 용량 오류에 사용\n",
    "    print(\"OS error:\", err)\n",
    "except ValueError:\n",
    "    print(\"Could not convert data to an integer.\")\n",
    "except Exception as err:\n",
    "    print(f\"Unexcpted {err=}, {type(err)=}\")\n",
    "    raise"
   ]
  },
  {
   "cell_type": "code",
   "execution_count": 13,
   "id": "b8985fa8-7208-4737-b67d-c928c7db9b16",
   "metadata": {},
   "outputs": [
    {
     "name": "stdout",
     "output_type": "stream",
     "text": [
      "cannot open -f\n",
      "C:\\Users\\minsung\\AppData\\Roaming\\jupyter\\runtime\\kernel-5cf0f89f-7d14-4a7b-89e1-11b87a2be8bd.json has 13 lines\n"
     ]
    }
   ],
   "source": [
    "for arg in sys.argv[1:]:\n",
    "    try:\n",
    "        f = open(arg, 'r')\n",
    "    except OSError:\n",
    "        print('cannot open', arg)\n",
    "    else:\n",
    "        print(arg, 'has', len(f.readlines()), 'lines')\n",
    "        f.close()"
   ]
  },
  {
   "cell_type": "code",
   "execution_count": 15,
   "id": "296a315b-aa8d-436d-b456-bb2c8ae8b94a",
   "metadata": {},
   "outputs": [
    {
     "name": "stdout",
     "output_type": "stream",
     "text": [
      "Handling run-time error: division by zero\n"
     ]
    }
   ],
   "source": [
    "def this_fails():\n",
    "    x = 1/0 #오류 발생\n",
    "\n",
    "try:\n",
    "    this_fails() # 함수 실행\n",
    "except ZeroDivisionError as err:\n",
    "    print('Handling run-time error:', err)"
   ]
  },
  {
   "cell_type": "code",
   "execution_count": 16,
   "id": "4f435709-0132-4df3-8a01-739d01a7a294",
   "metadata": {},
   "outputs": [],
   "source": [
    "#raise문은 프로그래머가 지정한 예외가 발생하도록 강제할 수 있다."
   ]
  },
  {
   "cell_type": "code",
   "execution_count": 17,
   "id": "8d287ff9-fb0a-453f-8079-7b21a5ef9aba",
   "metadata": {},
   "outputs": [
    {
     "ename": "NameError",
     "evalue": "HiThere",
     "output_type": "error",
     "traceback": [
      "\u001b[1;31m---------------------------------------------------------------------------\u001b[0m",
      "\u001b[1;31mNameError\u001b[0m                                 Traceback (most recent call last)",
      "Cell \u001b[1;32mIn[17], line 1\u001b[0m\n\u001b[1;32m----> 1\u001b[0m \u001b[38;5;28;01mraise\u001b[39;00m \u001b[38;5;167;01mNameError\u001b[39;00m(\u001b[38;5;124m'\u001b[39m\u001b[38;5;124mHiThere\u001b[39m\u001b[38;5;124m'\u001b[39m)\n",
      "\u001b[1;31mNameError\u001b[0m: HiThere"
     ]
    }
   ],
   "source": [
    "raise NameError('HiThere')"
   ]
  },
  {
   "cell_type": "code",
   "execution_count": 18,
   "id": "c36a5bf6-c468-4251-a9e1-dfe9491371d7",
   "metadata": {},
   "outputs": [
    {
     "ename": "ValueError",
     "evalue": "",
     "output_type": "error",
     "traceback": [
      "\u001b[1;31m---------------------------------------------------------------------------\u001b[0m",
      "\u001b[1;31mValueError\u001b[0m                                Traceback (most recent call last)",
      "Cell \u001b[1;32mIn[18], line 1\u001b[0m\n\u001b[1;32m----> 1\u001b[0m \u001b[38;5;28;01mraise\u001b[39;00m \u001b[38;5;167;01mValueError\u001b[39;00m\n",
      "\u001b[1;31mValueError\u001b[0m: "
     ]
    }
   ],
   "source": [
    "raise ValueError"
   ]
  },
  {
   "cell_type": "code",
   "execution_count": 19,
   "id": "f3c902fa-e1e3-461b-b89c-0834c7a788f8",
   "metadata": {},
   "outputs": [
    {
     "name": "stdout",
     "output_type": "stream",
     "text": [
      "An exception flew by!\n"
     ]
    },
    {
     "ename": "NameError",
     "evalue": "HiThere",
     "output_type": "error",
     "traceback": [
      "\u001b[1;31m---------------------------------------------------------------------------\u001b[0m",
      "\u001b[1;31mNameError\u001b[0m                                 Traceback (most recent call last)",
      "Cell \u001b[1;32mIn[19], line 2\u001b[0m\n\u001b[0;32m      1\u001b[0m \u001b[38;5;28;01mtry\u001b[39;00m:\n\u001b[1;32m----> 2\u001b[0m     \u001b[38;5;28;01mraise\u001b[39;00m \u001b[38;5;167;01mNameError\u001b[39;00m(\u001b[38;5;124m'\u001b[39m\u001b[38;5;124mHiThere\u001b[39m\u001b[38;5;124m'\u001b[39m)\n\u001b[0;32m      3\u001b[0m \u001b[38;5;28;01mexcept\u001b[39;00m \u001b[38;5;167;01mNameError\u001b[39;00m:\n\u001b[0;32m      4\u001b[0m     \u001b[38;5;28mprint\u001b[39m(\u001b[38;5;124m'\u001b[39m\u001b[38;5;124mAn exception flew by!\u001b[39m\u001b[38;5;124m'\u001b[39m)\n",
      "\u001b[1;31mNameError\u001b[0m: HiThere"
     ]
    }
   ],
   "source": [
    "try:\n",
    "    raise NameError('HiThere')\n",
    "except NameError:\n",
    "    print('An exception flew by!')\n",
    "    raise"
   ]
  },
  {
   "cell_type": "code",
   "execution_count": 20,
   "id": "7ed97158-f14b-4556-8469-453743fea1e8",
   "metadata": {},
   "outputs": [
    {
     "ename": "RuntimeError",
     "evalue": "unable to handle error",
     "output_type": "error",
     "traceback": [
      "\u001b[1;31m---------------------------------------------------------------------------\u001b[0m",
      "\u001b[1;31mFileNotFoundError\u001b[0m                         Traceback (most recent call last)",
      "Cell \u001b[1;32mIn[20], line 2\u001b[0m\n\u001b[0;32m      1\u001b[0m \u001b[38;5;28;01mtry\u001b[39;00m:\n\u001b[1;32m----> 2\u001b[0m     \u001b[38;5;28;43mopen\u001b[39;49m\u001b[43m(\u001b[49m\u001b[38;5;124;43m\"\u001b[39;49m\u001b[38;5;124;43mdatabase.sqlite\u001b[39;49m\u001b[38;5;124;43m\"\u001b[39;49m\u001b[43m)\u001b[49m\n\u001b[0;32m      3\u001b[0m \u001b[38;5;28;01mexcept\u001b[39;00m \u001b[38;5;167;01mOSError\u001b[39;00m:\n",
      "File \u001b[1;32m~\\AppData\\Local\\Programs\\Python\\Python312\\Lib\\site-packages\\IPython\\core\\interactiveshell.py:324\u001b[0m, in \u001b[0;36m_modified_open\u001b[1;34m(file, *args, **kwargs)\u001b[0m\n\u001b[0;32m    318\u001b[0m     \u001b[38;5;28;01mraise\u001b[39;00m \u001b[38;5;167;01mValueError\u001b[39;00m(\n\u001b[0;32m    319\u001b[0m         \u001b[38;5;124mf\u001b[39m\u001b[38;5;124m\"\u001b[39m\u001b[38;5;124mIPython won\u001b[39m\u001b[38;5;124m'\u001b[39m\u001b[38;5;124mt let you open fd=\u001b[39m\u001b[38;5;132;01m{\u001b[39;00mfile\u001b[38;5;132;01m}\u001b[39;00m\u001b[38;5;124m by default \u001b[39m\u001b[38;5;124m\"\u001b[39m\n\u001b[0;32m    320\u001b[0m         \u001b[38;5;124m\"\u001b[39m\u001b[38;5;124mas it is likely to crash IPython. If you know what you are doing, \u001b[39m\u001b[38;5;124m\"\u001b[39m\n\u001b[0;32m    321\u001b[0m         \u001b[38;5;124m\"\u001b[39m\u001b[38;5;124myou can use builtins\u001b[39m\u001b[38;5;124m'\u001b[39m\u001b[38;5;124m open.\u001b[39m\u001b[38;5;124m\"\u001b[39m\n\u001b[0;32m    322\u001b[0m     )\n\u001b[1;32m--> 324\u001b[0m \u001b[38;5;28;01mreturn\u001b[39;00m \u001b[43mio_open\u001b[49m\u001b[43m(\u001b[49m\u001b[43mfile\u001b[49m\u001b[43m,\u001b[49m\u001b[43m \u001b[49m\u001b[38;5;241;43m*\u001b[39;49m\u001b[43margs\u001b[49m\u001b[43m,\u001b[49m\u001b[43m \u001b[49m\u001b[38;5;241;43m*\u001b[39;49m\u001b[38;5;241;43m*\u001b[39;49m\u001b[43mkwargs\u001b[49m\u001b[43m)\u001b[49m\n",
      "\u001b[1;31mFileNotFoundError\u001b[0m: [Errno 2] No such file or directory: 'database.sqlite'",
      "\nDuring handling of the above exception, another exception occurred:\n",
      "\u001b[1;31mRuntimeError\u001b[0m                              Traceback (most recent call last)",
      "Cell \u001b[1;32mIn[20], line 4\u001b[0m\n\u001b[0;32m      2\u001b[0m     \u001b[38;5;28mopen\u001b[39m(\u001b[38;5;124m\"\u001b[39m\u001b[38;5;124mdatabase.sqlite\u001b[39m\u001b[38;5;124m\"\u001b[39m)\n\u001b[0;32m      3\u001b[0m \u001b[38;5;28;01mexcept\u001b[39;00m \u001b[38;5;167;01mOSError\u001b[39;00m:\n\u001b[1;32m----> 4\u001b[0m     \u001b[38;5;28;01mraise\u001b[39;00m \u001b[38;5;167;01mRuntimeError\u001b[39;00m(\u001b[38;5;124m\"\u001b[39m\u001b[38;5;124munable to handle error\u001b[39m\u001b[38;5;124m\"\u001b[39m)\n",
      "\u001b[1;31mRuntimeError\u001b[0m: unable to handle error"
     ]
    }
   ],
   "source": [
    "try:\n",
    "    open(\"database.sqlite\")\n",
    "except OSError:\n",
    "    raise RuntimeError(\"unable to handle error\")"
   ]
  },
  {
   "cell_type": "code",
   "execution_count": 24,
   "id": "8e16ed08-803a-470f-a2a9-b78bf6ca1976",
   "metadata": {},
   "outputs": [
    {
     "ename": "NameError",
     "evalue": "name 'exc' is not defined",
     "output_type": "error",
     "traceback": [
      "\u001b[1;31m---------------------------------------------------------------------------\u001b[0m",
      "\u001b[1;31mNameError\u001b[0m                                 Traceback (most recent call last)",
      "Cell \u001b[1;32mIn[24], line 1\u001b[0m\n\u001b[1;32m----> 1\u001b[0m \u001b[38;5;28;01mraise\u001b[39;00m \u001b[38;5;167;01mRuntimeError\u001b[39;00m \u001b[38;5;28;01mfrom\u001b[39;00m \u001b[38;5;21;43;01mexc\u001b[39;49;00m\n",
      "\u001b[1;31mNameError\u001b[0m: name 'exc' is not defined"
     ]
    }
   ],
   "source": [
    "raise RuntimeError from exc"
   ]
  },
  {
   "cell_type": "code",
   "execution_count": 26,
   "id": "0ae11de4-e40b-487f-8518-768c92e36898",
   "metadata": {},
   "outputs": [
    {
     "ename": "RuntimeError",
     "evalue": "Failed to open database",
     "output_type": "error",
     "traceback": [
      "\u001b[1;31m---------------------------------------------------------------------------\u001b[0m",
      "\u001b[1;31mConnectionError\u001b[0m                           Traceback (most recent call last)",
      "Cell \u001b[1;32mIn[26], line 6\u001b[0m\n\u001b[0;32m      5\u001b[0m \u001b[38;5;28;01mtry\u001b[39;00m:\n\u001b[1;32m----> 6\u001b[0m     \u001b[43mfunc\u001b[49m\u001b[43m(\u001b[49m\u001b[43m)\u001b[49m\n\u001b[0;32m      7\u001b[0m \u001b[38;5;28;01mexcept\u001b[39;00m \u001b[38;5;167;01mConnectionError\u001b[39;00m \u001b[38;5;28;01mas\u001b[39;00m exc:\n",
      "Cell \u001b[1;32mIn[26], line 3\u001b[0m, in \u001b[0;36mfunc\u001b[1;34m()\u001b[0m\n\u001b[0;32m      2\u001b[0m \u001b[38;5;28;01mdef\u001b[39;00m \u001b[38;5;21mfunc\u001b[39m():\n\u001b[1;32m----> 3\u001b[0m     \u001b[38;5;28;01mraise\u001b[39;00m \u001b[38;5;167;01mConnectionError\u001b[39;00m\n",
      "\u001b[1;31mConnectionError\u001b[0m: ",
      "\nThe above exception was the direct cause of the following exception:\n",
      "\u001b[1;31mRuntimeError\u001b[0m                              Traceback (most recent call last)",
      "Cell \u001b[1;32mIn[26], line 8\u001b[0m\n\u001b[0;32m      6\u001b[0m     func()\n\u001b[0;32m      7\u001b[0m \u001b[38;5;28;01mexcept\u001b[39;00m \u001b[38;5;167;01mConnectionError\u001b[39;00m \u001b[38;5;28;01mas\u001b[39;00m exc:\n\u001b[1;32m----> 8\u001b[0m     \u001b[38;5;28;01mraise\u001b[39;00m \u001b[38;5;167;01mRuntimeError\u001b[39;00m(\u001b[38;5;124m'\u001b[39m\u001b[38;5;124mFailed to open database\u001b[39m\u001b[38;5;124m'\u001b[39m) \u001b[38;5;28;01mfrom\u001b[39;00m \u001b[38;5;21;01mexc\u001b[39;00m \u001b[38;5;66;03m#예외 변환 구문\u001b[39;00m\n\u001b[0;32m      9\u001b[0m \u001b[38;5;66;03m#Failed to open database 새 예외를 발생, from exc를 붙여서 원래는 ConnectionError때문에 발생한거라고 알려줌\u001b[39;00m\n",
      "\u001b[1;31mRuntimeError\u001b[0m: Failed to open database"
     ]
    }
   ],
   "source": [
    "#예외 변환\n",
    "def func():\n",
    "    raise ConnectionError\n",
    "\n",
    "try:\n",
    "    func()\n",
    "except ConnectionError as exc:\n",
    "    raise RuntimeError('Failed to open database') from exc #예외 변환 구문\n",
    "#Failed to open database 새 예외를 발생, from exc를 붙여서 원래는 ConnectionError때문에 발생한거라고 알려줌"
   ]
  },
  {
   "cell_type": "code",
   "execution_count": 28,
   "id": "1af6b7b1-54bc-4e0c-8b61-ace6d5733f87",
   "metadata": {},
   "outputs": [
    {
     "ename": "RuntimeError",
     "evalue": "Failed to open database",
     "output_type": "error",
     "traceback": [
      "\u001b[1;31m---------------------------------------------------------------------------\u001b[0m",
      "\u001b[1;31mConnectionError\u001b[0m                           Traceback (most recent call last)",
      "Cell \u001b[1;32mIn[28], line 5\u001b[0m\n\u001b[0;32m      4\u001b[0m \u001b[38;5;28;01mtry\u001b[39;00m:\n\u001b[1;32m----> 5\u001b[0m     \u001b[43mfunc\u001b[49m\u001b[43m(\u001b[49m\u001b[43m)\u001b[49m\n\u001b[0;32m      6\u001b[0m \u001b[38;5;28;01mexcept\u001b[39;00m \u001b[38;5;167;01mConnectionError\u001b[39;00m \u001b[38;5;28;01mas\u001b[39;00m erf:\n",
      "Cell \u001b[1;32mIn[28], line 2\u001b[0m, in \u001b[0;36mfunc\u001b[1;34m()\u001b[0m\n\u001b[0;32m      1\u001b[0m \u001b[38;5;28;01mdef\u001b[39;00m \u001b[38;5;21mfunc\u001b[39m():\n\u001b[1;32m----> 2\u001b[0m     \u001b[38;5;28;01mraise\u001b[39;00m \u001b[38;5;167;01mConnectionError\u001b[39;00m\n",
      "\u001b[1;31mConnectionError\u001b[0m: ",
      "\nThe above exception was the direct cause of the following exception:\n",
      "\u001b[1;31mRuntimeError\u001b[0m                              Traceback (most recent call last)",
      "Cell \u001b[1;32mIn[28], line 7\u001b[0m\n\u001b[0;32m      5\u001b[0m     func()\n\u001b[0;32m      6\u001b[0m \u001b[38;5;28;01mexcept\u001b[39;00m \u001b[38;5;167;01mConnectionError\u001b[39;00m \u001b[38;5;28;01mas\u001b[39;00m erf:\n\u001b[1;32m----> 7\u001b[0m     \u001b[38;5;28;01mraise\u001b[39;00m \u001b[38;5;167;01mRuntimeError\u001b[39;00m(\u001b[38;5;124m'\u001b[39m\u001b[38;5;124mFailed to open database\u001b[39m\u001b[38;5;124m'\u001b[39m) \u001b[38;5;28;01mfrom\u001b[39;00m \u001b[38;5;21;01merf\u001b[39;00m\n",
      "\u001b[1;31mRuntimeError\u001b[0m: Failed to open database"
     ]
    }
   ],
   "source": [
    "def func():\n",
    "    raise ConnectionError\n",
    "\n",
    "try:\n",
    "    func()\n",
    "except ConnectionError as erf:\n",
    "    raise RuntimeError('Failed to open database') from erf"
   ]
  },
  {
   "cell_type": "code",
   "execution_count": 30,
   "id": "8943aa9c-325f-4b95-8674-ddeb009b968f",
   "metadata": {},
   "outputs": [
    {
     "ename": "RuntimeError",
     "evalue": "",
     "output_type": "error",
     "traceback": [
      "\u001b[1;31m---------------------------------------------------------------------------\u001b[0m",
      "\u001b[1;31mRuntimeError\u001b[0m                              Traceback (most recent call last)",
      "Cell \u001b[1;32mIn[30], line 4\u001b[0m\n\u001b[0;32m      2\u001b[0m     \u001b[38;5;28mopen\u001b[39m(\u001b[38;5;124m'\u001b[39m\u001b[38;5;124mdatabase.sqlite\u001b[39m\u001b[38;5;124m'\u001b[39m)\n\u001b[0;32m      3\u001b[0m \u001b[38;5;28;01mexcept\u001b[39;00m \u001b[38;5;167;01mOSError\u001b[39;00m:\n\u001b[1;32m----> 4\u001b[0m     \u001b[38;5;28;01mraise\u001b[39;00m \u001b[38;5;167;01mRuntimeError\u001b[39;00m \u001b[38;5;28;01mfrom\u001b[39;00m \u001b[38;5;28;01mNone\u001b[39;00m \u001b[38;5;66;03m#None으로 인해 OSError는 출력되지 않고 RuntimeError만 출력됨\u001b[39;00m\n",
      "\u001b[1;31mRuntimeError\u001b[0m: "
     ]
    }
   ],
   "source": [
    "try:\n",
    "    open('database.sqlite')\n",
    "except OSError:\n",
    "    raise RuntimeError from None #None으로 인해 OSError는 출력되지 않고 RuntimeError만 출력됨"
   ]
  },
  {
   "cell_type": "code",
   "execution_count": 31,
   "id": "ed0c41a7-6cbc-4275-9b0a-342f4a113cc3",
   "metadata": {},
   "outputs": [
    {
     "ename": "RuntimeError",
     "evalue": "what",
     "output_type": "error",
     "traceback": [
      "\u001b[1;31m---------------------------------------------------------------------------\u001b[0m",
      "\u001b[1;31mRuntimeError\u001b[0m                              Traceback (most recent call last)",
      "Cell \u001b[1;32mIn[31], line 4\u001b[0m\n\u001b[0;32m      2\u001b[0m     \u001b[38;5;28mopen\u001b[39m(\u001b[38;5;124m'\u001b[39m\u001b[38;5;124mdatabase.sqlite\u001b[39m\u001b[38;5;124m'\u001b[39m)\n\u001b[0;32m      3\u001b[0m \u001b[38;5;28;01mexcept\u001b[39;00m \u001b[38;5;167;01mOSError\u001b[39;00m:\n\u001b[1;32m----> 4\u001b[0m     \u001b[38;5;28;01mraise\u001b[39;00m \u001b[38;5;167;01mRuntimeError\u001b[39;00m(\u001b[38;5;124m'\u001b[39m\u001b[38;5;124mwhat\u001b[39m\u001b[38;5;124m'\u001b[39m) \u001b[38;5;28;01mfrom\u001b[39;00m \u001b[38;5;28;01mNone\u001b[39;00m\n",
      "\u001b[1;31mRuntimeError\u001b[0m: what"
     ]
    }
   ],
   "source": [
    "try:\n",
    "    open('database.sqlite')\n",
    "except OSError:\n",
    "    raise RuntimeError('what') from None"
   ]
  },
  {
   "cell_type": "markdown",
   "id": "dd007967-8ff0-4bac-be3b-983a2ee80924",
   "metadata": {},
   "source": [
    "1. try-finally문\n",
    "2. finally절은 try문 수행 도중 예외 발생여부에 상관없이 항상 수행됨\n",
    "3. try 문이 break, continue 또는 return 문에 도달하면, finally 절은 break, continue 또는 return 문 실행 직전에 실행됨"
   ]
  },
  {
   "cell_type": "code",
   "execution_count": 33,
   "id": "34853358-f97c-400c-b016-a78ef15e49b7",
   "metadata": {},
   "outputs": [
    {
     "name": "stdout",
     "output_type": "stream",
     "text": [
      "Goodbye, world!\n"
     ]
    },
    {
     "ename": "KeyboardInterrupt",
     "evalue": "",
     "output_type": "error",
     "traceback": [
      "\u001b[1;31m---------------------------------------------------------------------------\u001b[0m",
      "\u001b[1;31mKeyboardInterrupt\u001b[0m                         Traceback (most recent call last)",
      "Cell \u001b[1;32mIn[33], line 2\u001b[0m\n\u001b[0;32m      1\u001b[0m \u001b[38;5;28;01mtry\u001b[39;00m:\n\u001b[1;32m----> 2\u001b[0m     \u001b[38;5;28;01mraise\u001b[39;00m \u001b[38;5;167;01mKeyboardInterrupt\u001b[39;00m\n\u001b[0;32m      3\u001b[0m \u001b[38;5;28;01mfinally\u001b[39;00m:\n\u001b[0;32m      4\u001b[0m     \u001b[38;5;28mprint\u001b[39m(\u001b[38;5;124m'\u001b[39m\u001b[38;5;124mGoodbye, world!\u001b[39m\u001b[38;5;124m'\u001b[39m) \u001b[38;5;66;03m#try문에 상관없이 항상 수행\u001b[39;00m\n",
      "\u001b[1;31mKeyboardInterrupt\u001b[0m: "
     ]
    }
   ],
   "source": [
    "try:\n",
    "    raise KeyboardInterrupt\n",
    "finally:\n",
    "    print('Goodbye, world!') #try문에 상관없이 항상 수행"
   ]
  },
  {
   "cell_type": "code",
   "execution_count": 35,
   "id": "d361a2bb-24c2-43a5-a598-787fbb0ddfe2",
   "metadata": {},
   "outputs": [
    {
     "data": {
      "text/plain": [
       "False"
      ]
     },
     "execution_count": 35,
     "metadata": {},
     "output_type": "execute_result"
    }
   ],
   "source": [
    "def bool_return():\n",
    "    try:\n",
    "        return True\n",
    "    finally:\n",
    "        return False \n",
    "#finally 절에 return 문이 포함되면, 반환 값은 try 절의 return 문이 주는 값이 아니라, \n",
    "#finally 절의 return 문이 주는 값이 됨\n",
    "bool_return()"
   ]
  },
  {
   "cell_type": "code",
   "execution_count": 36,
   "id": "2b929e2a-e028-4813-b2f7-bafa8c72cf12",
   "metadata": {},
   "outputs": [
    {
     "name": "stdout",
     "output_type": "stream",
     "text": [
      "result is 2.0\n",
      "executing finally clause\n"
     ]
    }
   ],
   "source": [
    "def divide(x, y):\n",
    "    try:\n",
    "        result = x / y\n",
    "    except ZeroDivisionError:\n",
    "        print(\"division by zero!\")\n",
    "    else:\n",
    "        print(\"result is\", result)\n",
    "    finally:\n",
    "        print(\"executing finally clause\")\n",
    "\n",
    "divide(2, 1)"
   ]
  },
  {
   "cell_type": "code",
   "execution_count": 37,
   "id": "584c9aa9-f577-437a-9ff1-19a11748c825",
   "metadata": {},
   "outputs": [
    {
     "name": "stdout",
     "output_type": "stream",
     "text": [
      "division by zero!\n",
      "executing finally clause\n"
     ]
    }
   ],
   "source": [
    "divide(2, 0)"
   ]
  },
  {
   "cell_type": "code",
   "execution_count": 38,
   "id": "ac165408-ec6a-43bc-b01c-e670ffe90598",
   "metadata": {},
   "outputs": [
    {
     "name": "stdout",
     "output_type": "stream",
     "text": [
      "executing finally clause\n"
     ]
    },
    {
     "ename": "TypeError",
     "evalue": "unsupported operand type(s) for /: 'str' and 'str'",
     "output_type": "error",
     "traceback": [
      "\u001b[1;31m---------------------------------------------------------------------------\u001b[0m",
      "\u001b[1;31mTypeError\u001b[0m                                 Traceback (most recent call last)",
      "Cell \u001b[1;32mIn[38], line 1\u001b[0m\n\u001b[1;32m----> 1\u001b[0m \u001b[43mdivide\u001b[49m\u001b[43m(\u001b[49m\u001b[38;5;124;43m\"\u001b[39;49m\u001b[38;5;124;43m2\u001b[39;49m\u001b[38;5;124;43m\"\u001b[39;49m\u001b[43m,\u001b[49m\u001b[43m \u001b[49m\u001b[38;5;124;43m\"\u001b[39;49m\u001b[38;5;124;43m1\u001b[39;49m\u001b[38;5;124;43m\"\u001b[39;49m\u001b[43m)\u001b[49m\n",
      "Cell \u001b[1;32mIn[36], line 3\u001b[0m, in \u001b[0;36mdivide\u001b[1;34m(x, y)\u001b[0m\n\u001b[0;32m      1\u001b[0m \u001b[38;5;28;01mdef\u001b[39;00m \u001b[38;5;21mdivide\u001b[39m(x, y):\n\u001b[0;32m      2\u001b[0m     \u001b[38;5;28;01mtry\u001b[39;00m:\n\u001b[1;32m----> 3\u001b[0m         result \u001b[38;5;241m=\u001b[39m \u001b[43mx\u001b[49m\u001b[43m \u001b[49m\u001b[38;5;241;43m/\u001b[39;49m\u001b[43m \u001b[49m\u001b[43my\u001b[49m\n\u001b[0;32m      4\u001b[0m     \u001b[38;5;28;01mexcept\u001b[39;00m \u001b[38;5;167;01mZeroDivisionError\u001b[39;00m:\n\u001b[0;32m      5\u001b[0m         \u001b[38;5;28mprint\u001b[39m(\u001b[38;5;124m\"\u001b[39m\u001b[38;5;124mdivision by zero!\u001b[39m\u001b[38;5;124m\"\u001b[39m)\n",
      "\u001b[1;31mTypeError\u001b[0m: unsupported operand type(s) for /: 'str' and 'str'"
     ]
    }
   ],
   "source": [
    "divide(\"2\", \"1\")"
   ]
  },
  {
   "cell_type": "code",
   "execution_count": 1,
   "id": "3c354466-f3c3-4d5e-978b-45607a139d1e",
   "metadata": {},
   "outputs": [
    {
     "ename": "FileNotFoundError",
     "evalue": "[Errno 2] No such file or directory: 'myfile.txt'",
     "output_type": "error",
     "traceback": [
      "\u001b[1;31m---------------------------------------------------------------------------\u001b[0m",
      "\u001b[1;31mFileNotFoundError\u001b[0m                         Traceback (most recent call last)",
      "Cell \u001b[1;32mIn[1], line 1\u001b[0m\n\u001b[1;32m----> 1\u001b[0m \u001b[38;5;28;01mfor\u001b[39;00m line \u001b[38;5;129;01min\u001b[39;00m \u001b[38;5;28;43mopen\u001b[39;49m\u001b[43m(\u001b[49m\u001b[38;5;124;43m\"\u001b[39;49m\u001b[38;5;124;43mmyfile.txt\u001b[39;49m\u001b[38;5;124;43m\"\u001b[39;49m\u001b[43m)\u001b[49m:\n\u001b[0;32m      2\u001b[0m     \u001b[38;5;28mprint\u001b[39m(line, end\u001b[38;5;241m=\u001b[39m\u001b[38;5;124m\"\u001b[39m\u001b[38;5;124m\"\u001b[39m)\n",
      "File \u001b[1;32m~\\AppData\\Local\\Programs\\Python\\Python312\\Lib\\site-packages\\IPython\\core\\interactiveshell.py:324\u001b[0m, in \u001b[0;36m_modified_open\u001b[1;34m(file, *args, **kwargs)\u001b[0m\n\u001b[0;32m    317\u001b[0m \u001b[38;5;28;01mif\u001b[39;00m file \u001b[38;5;129;01min\u001b[39;00m {\u001b[38;5;241m0\u001b[39m, \u001b[38;5;241m1\u001b[39m, \u001b[38;5;241m2\u001b[39m}:\n\u001b[0;32m    318\u001b[0m     \u001b[38;5;28;01mraise\u001b[39;00m \u001b[38;5;167;01mValueError\u001b[39;00m(\n\u001b[0;32m    319\u001b[0m         \u001b[38;5;124mf\u001b[39m\u001b[38;5;124m\"\u001b[39m\u001b[38;5;124mIPython won\u001b[39m\u001b[38;5;124m'\u001b[39m\u001b[38;5;124mt let you open fd=\u001b[39m\u001b[38;5;132;01m{\u001b[39;00mfile\u001b[38;5;132;01m}\u001b[39;00m\u001b[38;5;124m by default \u001b[39m\u001b[38;5;124m\"\u001b[39m\n\u001b[0;32m    320\u001b[0m         \u001b[38;5;124m\"\u001b[39m\u001b[38;5;124mas it is likely to crash IPython. If you know what you are doing, \u001b[39m\u001b[38;5;124m\"\u001b[39m\n\u001b[0;32m    321\u001b[0m         \u001b[38;5;124m\"\u001b[39m\u001b[38;5;124myou can use builtins\u001b[39m\u001b[38;5;124m'\u001b[39m\u001b[38;5;124m open.\u001b[39m\u001b[38;5;124m\"\u001b[39m\n\u001b[0;32m    322\u001b[0m     )\n\u001b[1;32m--> 324\u001b[0m \u001b[38;5;28;01mreturn\u001b[39;00m \u001b[43mio_open\u001b[49m\u001b[43m(\u001b[49m\u001b[43mfile\u001b[49m\u001b[43m,\u001b[49m\u001b[43m \u001b[49m\u001b[38;5;241;43m*\u001b[39;49m\u001b[43margs\u001b[49m\u001b[43m,\u001b[49m\u001b[43m \u001b[49m\u001b[38;5;241;43m*\u001b[39;49m\u001b[38;5;241;43m*\u001b[39;49m\u001b[43mkwargs\u001b[49m\u001b[43m)\u001b[49m\n",
      "\u001b[1;31mFileNotFoundError\u001b[0m: [Errno 2] No such file or directory: 'myfile.txt'"
     ]
    }
   ],
   "source": [
    "for line in open(\"myfile.txt\"):\n",
    "    print(line, end=\"\")"
   ]
  },
  {
   "cell_type": "code",
   "execution_count": 2,
   "id": "73529d05-c4c9-4fb1-844f-cd6b1a14f254",
   "metadata": {},
   "outputs": [
    {
     "ename": "FileNotFoundError",
     "evalue": "[Errno 2] No such file or directory: 'myfile.txt'",
     "output_type": "error",
     "traceback": [
      "\u001b[1;31m---------------------------------------------------------------------------\u001b[0m",
      "\u001b[1;31mFileNotFoundError\u001b[0m                         Traceback (most recent call last)",
      "Cell \u001b[1;32mIn[2], line 1\u001b[0m\n\u001b[1;32m----> 1\u001b[0m \u001b[38;5;28;01mwith\u001b[39;00m \u001b[38;5;28;43mopen\u001b[39;49m\u001b[43m(\u001b[49m\u001b[38;5;124;43m\"\u001b[39;49m\u001b[38;5;124;43mmyfile.txt\u001b[39;49m\u001b[38;5;124;43m\"\u001b[39;49m\u001b[43m)\u001b[49m \u001b[38;5;28;01mas\u001b[39;00m f:\n\u001b[0;32m      2\u001b[0m     \u001b[38;5;28;01mfor\u001b[39;00m line \u001b[38;5;129;01min\u001b[39;00m f:\n\u001b[0;32m      3\u001b[0m         \u001b[38;5;28mprint\u001b[39m(line, end\u001b[38;5;241m=\u001b[39m\u001b[38;5;124m\"\u001b[39m\u001b[38;5;124m\"\u001b[39m)\n",
      "File \u001b[1;32m~\\AppData\\Local\\Programs\\Python\\Python312\\Lib\\site-packages\\IPython\\core\\interactiveshell.py:324\u001b[0m, in \u001b[0;36m_modified_open\u001b[1;34m(file, *args, **kwargs)\u001b[0m\n\u001b[0;32m    317\u001b[0m \u001b[38;5;28;01mif\u001b[39;00m file \u001b[38;5;129;01min\u001b[39;00m {\u001b[38;5;241m0\u001b[39m, \u001b[38;5;241m1\u001b[39m, \u001b[38;5;241m2\u001b[39m}:\n\u001b[0;32m    318\u001b[0m     \u001b[38;5;28;01mraise\u001b[39;00m \u001b[38;5;167;01mValueError\u001b[39;00m(\n\u001b[0;32m    319\u001b[0m         \u001b[38;5;124mf\u001b[39m\u001b[38;5;124m\"\u001b[39m\u001b[38;5;124mIPython won\u001b[39m\u001b[38;5;124m'\u001b[39m\u001b[38;5;124mt let you open fd=\u001b[39m\u001b[38;5;132;01m{\u001b[39;00mfile\u001b[38;5;132;01m}\u001b[39;00m\u001b[38;5;124m by default \u001b[39m\u001b[38;5;124m\"\u001b[39m\n\u001b[0;32m    320\u001b[0m         \u001b[38;5;124m\"\u001b[39m\u001b[38;5;124mas it is likely to crash IPython. If you know what you are doing, \u001b[39m\u001b[38;5;124m\"\u001b[39m\n\u001b[0;32m    321\u001b[0m         \u001b[38;5;124m\"\u001b[39m\u001b[38;5;124myou can use builtins\u001b[39m\u001b[38;5;124m'\u001b[39m\u001b[38;5;124m open.\u001b[39m\u001b[38;5;124m\"\u001b[39m\n\u001b[0;32m    322\u001b[0m     )\n\u001b[1;32m--> 324\u001b[0m \u001b[38;5;28;01mreturn\u001b[39;00m \u001b[43mio_open\u001b[49m\u001b[43m(\u001b[49m\u001b[43mfile\u001b[49m\u001b[43m,\u001b[49m\u001b[43m \u001b[49m\u001b[38;5;241;43m*\u001b[39;49m\u001b[43margs\u001b[49m\u001b[43m,\u001b[49m\u001b[43m \u001b[49m\u001b[38;5;241;43m*\u001b[39;49m\u001b[38;5;241;43m*\u001b[39;49m\u001b[43mkwargs\u001b[49m\u001b[43m)\u001b[49m\n",
      "\u001b[1;31mFileNotFoundError\u001b[0m: [Errno 2] No such file or directory: 'myfile.txt'"
     ]
    }
   ],
   "source": [
    "with open(\"myfile.txt\") as f:\n",
    "    for line in f:\n",
    "        print(line, end=\"\")"
   ]
  },
  {
   "cell_type": "code",
   "execution_count": 3,
   "id": "1f84aab2-fc24-49a2-95cc-eede0cb1058c",
   "metadata": {},
   "outputs": [
    {
     "name": "stderr",
     "output_type": "stream",
     "text": [
      "  + Exception Group Traceback (most recent call last):\n",
      "  |   File \"C:\\Users\\minsung\\AppData\\Local\\Programs\\Python\\Python312\\Lib\\site-packages\\IPython\\core\\interactiveshell.py\", line 3577, in run_code\n",
      "  |     exec(code_obj, self.user_global_ns, self.user_ns)\n",
      "  |   File \"C:\\Users\\minsung\\AppData\\Local\\Temp\\ipykernel_15348\\1521594820.py\", line 5, in <module>\n",
      "  |     f()\n",
      "  |   File \"C:\\Users\\minsung\\AppData\\Local\\Temp\\ipykernel_15348\\1521594820.py\", line 3, in f\n",
      "  |     raise ExceptionGroup('there were problems', excs)\n",
      "  | ExceptionGroup: there were problems (2 sub-exceptions)\n",
      "  +-+---------------- 1 ----------------\n",
      "    | OSError: error 1\n",
      "    +---------------- 2 ----------------\n",
      "    | SystemError: error 2\n",
      "    +------------------------------------\n"
     ]
    }
   ],
   "source": [
    "def f():\n",
    "    excs = [OSError('error 1'), SystemError('error 2')]\n",
    "    raise ExceptionGroup('there were problems', excs)\n",
    "\n",
    "f()"
   ]
  },
  {
   "cell_type": "code",
   "execution_count": 4,
   "id": "5d6ce3e3-0ec4-4c70-9aaa-45f2a3677447",
   "metadata": {},
   "outputs": [
    {
     "name": "stdout",
     "output_type": "stream",
     "text": [
      "caught <class 'ExceptionGroup'>: e\n"
     ]
    }
   ],
   "source": [
    "try:\n",
    "    f()\n",
    "except Exception as e:\n",
    "    print(f'caught {type(e)}: e')"
   ]
  },
  {
   "cell_type": "code",
   "execution_count": 5,
   "id": "a9d97fe3-1b76-4f16-9839-9b188de4989c",
   "metadata": {},
   "outputs": [
    {
     "name": "stdout",
     "output_type": "stream",
     "text": [
      "There were OSErrors\n",
      "There were SystemErrors\n"
     ]
    },
    {
     "name": "stderr",
     "output_type": "stream",
     "text": [
      "  + Exception Group Traceback (most recent call last):\n",
      "  |   File \"C:\\Users\\minsung\\AppData\\Local\\Programs\\Python\\Python312\\Lib\\site-packages\\IPython\\core\\interactiveshell.py\", line 3577, in run_code\n",
      "  |     exec(code_obj, self.user_global_ns, self.user_ns)\n",
      "  |   File \"C:\\Users\\minsung\\AppData\\Local\\Temp\\ipykernel_15348\\1308333313.py\", line 18, in <module>\n",
      "  |     f()\n",
      "  |   File \"C:\\Users\\minsung\\AppData\\Local\\Temp\\ipykernel_15348\\1308333313.py\", line 2, in f\n",
      "  |     raise ExceptionGroup(\n",
      "  | ExceptionGroup: group1 (1 sub-exception)\n",
      "  +-+---------------- 1 ----------------\n",
      "    | ExceptionGroup: group2 (1 sub-exception)\n",
      "    +-+---------------- 1 ----------------\n",
      "      | RecursionError: 4\n",
      "      +------------------------------------\n"
     ]
    }
   ],
   "source": [
    "def f():\n",
    "    raise ExceptionGroup(\n",
    "        \"group1\",\n",
    "        [\n",
    "            OSError(1),\n",
    "            SystemError(2),\n",
    "            ExceptionGroup(\n",
    "                \"group2\",\n",
    "                [\n",
    "                    OSError(3),\n",
    "                    RecursionError(4)\n",
    "                ]\n",
    "            )\n",
    "        ]\n",
    "    )\n",
    "\n",
    "try:\n",
    "    f()\n",
    "except* OSError as e:\n",
    "    print(\"There were OSErrors\")\n",
    "except* SystemError as e:\n",
    "    print(\"There were SystemErrors\")"
   ]
  },
  {
   "cell_type": "code",
   "execution_count": 6,
   "id": "08dfbdc8-fb37-42cd-848c-995c240b4a80",
   "metadata": {},
   "outputs": [
    {
     "ename": "NameError",
     "evalue": "name 'tests' is not defined",
     "output_type": "error",
     "traceback": [
      "\u001b[1;31m---------------------------------------------------------------------------\u001b[0m",
      "\u001b[1;31mNameError\u001b[0m                                 Traceback (most recent call last)",
      "Cell \u001b[1;32mIn[6], line 2\u001b[0m\n\u001b[0;32m      1\u001b[0m excs \u001b[38;5;241m=\u001b[39m []\n\u001b[1;32m----> 2\u001b[0m \u001b[38;5;28;01mfor\u001b[39;00m test \u001b[38;5;129;01min\u001b[39;00m \u001b[43mtests\u001b[49m:\n\u001b[0;32m      3\u001b[0m     \u001b[38;5;28;01mtry\u001b[39;00m:\n\u001b[0;32m      4\u001b[0m         test\u001b[38;5;241m.\u001b[39mrun()\n",
      "\u001b[1;31mNameError\u001b[0m: name 'tests' is not defined"
     ]
    }
   ],
   "source": [
    "excs = []\n",
    "for test in tests:\n",
    "    try:\n",
    "        test.run()\n",
    "    except Exception as e:\n",
    "        excs.append(e)\n",
    "\n",
    "if excs:\n",
    "   raise ExceptionGroup(\"Test Failures\", excs)"
   ]
  },
  {
   "cell_type": "markdown",
   "id": "06ce09e0-c4e0-4ae4-a53a-b4a6843718ff",
   "metadata": {},
   "source": [
    "## 9장-클래스"
   ]
  },
  {
   "cell_type": "code",
   "execution_count": 7,
   "id": "9a6d8956-0f8b-4031-ac56-2afdc8900737",
   "metadata": {},
   "outputs": [
    {
     "name": "stdout",
     "output_type": "stream",
     "text": [
      "After local assignment: test spam\n",
      "After nonlocal assignment: nonlocal spam\n",
      "After global assignment: nonlocal spam\n",
      "In global scope: global spam\n"
     ]
    }
   ],
   "source": [
    "def scope_test():\n",
    "    def do_local():\n",
    "        spam = \"local spam\"\n",
    "\n",
    "    def do_nonlocal():\n",
    "        nonlocal spam\n",
    "        spam = \"nonlocal spam\"\n",
    "\n",
    "    def do_global():\n",
    "        global spam\n",
    "        spam = \"global spam\"\n",
    "\n",
    "    spam = \"test spam\" #local\n",
    "    do_local()\n",
    "    print(\"After local assignment:\", spam)\n",
    "    do_nonlocal()\n",
    "    print(\"After nonlocal assignment:\", spam)\n",
    "    do_global()\n",
    "    print(\"After global assignment:\", spam)\n",
    "\n",
    "scope_test()\n",
    "print(\"In global scope:\", spam)\n"
   ]
  },
  {
   "cell_type": "code",
   "execution_count": 8,
   "id": "86cc7bb3-9b65-444d-8b36-42df95d7b385",
   "metadata": {},
   "outputs": [],
   "source": [
    "class MyClass:\n",
    "    \"\"\"A simple example class\"\"\"\n",
    "    i = 12345\n",
    "\n",
    "    def f(self):\n",
    "        return 'hello world'"
   ]
  },
  {
   "cell_type": "code",
   "execution_count": 9,
   "id": "6515d688-11d5-408e-82db-6b893718e581",
   "metadata": {},
   "outputs": [],
   "source": [
    "x = MyClass() #인스턴스 생성"
   ]
  },
  {
   "cell_type": "code",
   "execution_count": 10,
   "id": "cdebbdfe-aef4-4818-8884-3104ebc74e85",
   "metadata": {},
   "outputs": [],
   "source": [
    "def __init__(self):\n",
    "    self.data = []"
   ]
  },
  {
   "cell_type": "code",
   "execution_count": 11,
   "id": "3361f63b-1c28-40b7-aaf0-98a1c2c109b0",
   "metadata": {},
   "outputs": [],
   "source": [
    "x = MyClass()\n"
   ]
  },
  {
   "cell_type": "code",
   "execution_count": 12,
   "id": "0f308a6b-1ce5-487c-886f-361ad2a3ab45",
   "metadata": {},
   "outputs": [
    {
     "data": {
      "text/plain": [
       "(3.0, -4.5)"
      ]
     },
     "execution_count": 12,
     "metadata": {},
     "output_type": "execute_result"
    }
   ],
   "source": [
    "class Complex:\n",
    "    def __init__(self, realpart, imagpart):\n",
    "        self.r = realpart\n",
    "        self.i = imagpart\n",
    "\n",
    "x = Complex(3.0, -4.5)\n",
    "x.r, x.i"
   ]
  },
  {
   "cell_type": "code",
   "execution_count": 14,
   "id": "8db7f9e5-d753-4583-a261-db2cb3fc0e78",
   "metadata": {},
   "outputs": [
    {
     "name": "stdout",
     "output_type": "stream",
     "text": [
      "16\n"
     ]
    }
   ],
   "source": [
    "x.counter = 1\n",
    "while x.counter < 10:\n",
    "    x.counter = x.counter * 2\n",
    "print(x.counter)\n",
    "del x.counter\n"
   ]
  },
  {
   "cell_type": "code",
   "execution_count": 15,
   "id": "4378eb4a-52bf-4ee2-b949-98183107b47d",
   "metadata": {},
   "outputs": [
    {
     "ename": "AttributeError",
     "evalue": "'Complex' object has no attribute 'f'",
     "output_type": "error",
     "traceback": [
      "\u001b[1;31m---------------------------------------------------------------------------\u001b[0m",
      "\u001b[1;31mAttributeError\u001b[0m                            Traceback (most recent call last)",
      "Cell \u001b[1;32mIn[15], line 1\u001b[0m\n\u001b[1;32m----> 1\u001b[0m \u001b[43mx\u001b[49m\u001b[38;5;241;43m.\u001b[39;49m\u001b[43mf\u001b[49m()\n\u001b[0;32m      2\u001b[0m xf \u001b[38;5;241m=\u001b[39m x\u001b[38;5;241m.\u001b[39mf\n\u001b[0;32m      3\u001b[0m \u001b[38;5;28;01mwhile\u001b[39;00m \u001b[38;5;28;01mTrue\u001b[39;00m:\n",
      "\u001b[1;31mAttributeError\u001b[0m: 'Complex' object has no attribute 'f'"
     ]
    }
   ],
   "source": [
    "x.f()\n",
    "xf = x.f\n",
    "while True:\n",
    "    print(xf())"
   ]
  },
  {
   "cell_type": "code",
   "execution_count": 22,
   "id": "6fc1ad04-5a55-4584-99af-ea2bcfb8e9d8",
   "metadata": {},
   "outputs": [],
   "source": [
    "class Dog:\n",
    "\n",
    "    kind = 'canine'         #클래스 변수는 그 클래스의 모든 인스턴스에서 공유되는 어트리뷰트와 메서드를 위한 것\n",
    "\n",
    "    def __init__(self, name):\n",
    "        self.name = name    # instance variable unique to each instance\n"
   ]
  },
  {
   "cell_type": "code",
   "execution_count": 17,
   "id": "9d0fe8dc-1c6d-4970-9614-1b619a9e8a27",
   "metadata": {},
   "outputs": [],
   "source": [
    "d = Dog('Fido')\n"
   ]
  },
  {
   "cell_type": "code",
   "execution_count": 18,
   "id": "cc5bdde6-9f74-46d0-9b5d-ff64ed5d8bbb",
   "metadata": {},
   "outputs": [],
   "source": [
    "e = Dog('Buddy')"
   ]
  },
  {
   "cell_type": "code",
   "execution_count": 19,
   "id": "c53ef1af-2f72-441b-8a98-b69cf3b8c000",
   "metadata": {},
   "outputs": [
    {
     "data": {
      "text/plain": [
       "'Fido'"
      ]
     },
     "execution_count": 19,
     "metadata": {},
     "output_type": "execute_result"
    }
   ],
   "source": [
    "d.name"
   ]
  },
  {
   "cell_type": "code",
   "execution_count": 20,
   "id": "b2bb95f6-da0e-4f19-a00b-0bca269a72b4",
   "metadata": {},
   "outputs": [
    {
     "data": {
      "text/plain": [
       "'Buddy'"
      ]
     },
     "execution_count": 20,
     "metadata": {},
     "output_type": "execute_result"
    }
   ],
   "source": [
    "e.name"
   ]
  },
  {
   "cell_type": "code",
   "execution_count": 21,
   "id": "df7ff68b-cb56-43c0-a452-148f263d0a80",
   "metadata": {},
   "outputs": [
    {
     "data": {
      "text/plain": [
       "'canine'"
      ]
     },
     "execution_count": 21,
     "metadata": {},
     "output_type": "execute_result"
    }
   ],
   "source": [
    "e.kind"
   ]
  },
  {
   "cell_type": "code",
   "execution_count": 23,
   "id": "60a7c3e8-c2c9-4609-936d-5ea35c062517",
   "metadata": {},
   "outputs": [],
   "source": [
    "class Dog:\n",
    "\n",
    "    tricks = []             # mistaken use of a class variable\n",
    "\n",
    "    def __init__(self, name):\n",
    "        self.name = name\n",
    "\n",
    "    def add_trick(self, trick):\n",
    "        self.tricks.append(trick)"
   ]
  },
  {
   "cell_type": "code",
   "execution_count": 25,
   "id": "1e1950cc-4450-4898-bb24-cf9b0d2a6a95",
   "metadata": {},
   "outputs": [],
   "source": [
    "d= Dog('Fido')"
   ]
  },
  {
   "cell_type": "code",
   "execution_count": 26,
   "id": "946969f7-6894-4009-b636-a2edcd79d221",
   "metadata": {},
   "outputs": [],
   "source": [
    "e = Dog('Buddy')"
   ]
  },
  {
   "cell_type": "code",
   "execution_count": 27,
   "id": "976ec984-bbff-4cff-8410-198b7f56975b",
   "metadata": {},
   "outputs": [],
   "source": [
    "d.add_trick('roll over')"
   ]
  },
  {
   "cell_type": "code",
   "execution_count": 28,
   "id": "ff02700f-643e-4477-928d-3c99abec3648",
   "metadata": {},
   "outputs": [],
   "source": [
    "e.add_trick('play dead')"
   ]
  },
  {
   "cell_type": "code",
   "execution_count": 29,
   "id": "f8151986-3c02-492d-bcb3-93475e09b6c6",
   "metadata": {},
   "outputs": [
    {
     "data": {
      "text/plain": [
       "['roll over', 'play dead']"
      ]
     },
     "execution_count": 29,
     "metadata": {},
     "output_type": "execute_result"
    }
   ],
   "source": [
    "d.tricks"
   ]
  },
  {
   "cell_type": "code",
   "execution_count": 30,
   "id": "01c33d36-4bc3-4631-8489-ece622971ba4",
   "metadata": {},
   "outputs": [
    {
     "data": {
      "text/plain": [
       "['roll over', 'play dead']"
      ]
     },
     "execution_count": 30,
     "metadata": {},
     "output_type": "execute_result"
    }
   ],
   "source": [
    "e.tricks"
   ]
  },
  {
   "cell_type": "code",
   "execution_count": 32,
   "id": "0a6c4079-574f-440e-b49a-d7fbbad18ada",
   "metadata": {},
   "outputs": [],
   "source": [
    "class Dog:\n",
    "\n",
    "    def __init__(self, name):\n",
    "        self.name = name\n",
    "        self.tricks = []    # creates a new empty list for each dog\n",
    "\n",
    "    def add_trick(self, trick):\n",
    "        self.tricks.append(trick)"
   ]
  },
  {
   "cell_type": "code",
   "execution_count": 34,
   "id": "70a73807-71ef-45c1-b2d7-096516a243b4",
   "metadata": {},
   "outputs": [],
   "source": [
    "d = Dog('Fido')\n",
    ">>> e = Dog('Buddy')\n",
    ">>> d.add_trick('roll over')\n",
    ">>> e.add_trick('play dead')"
   ]
  },
  {
   "cell_type": "code",
   "execution_count": 36,
   "id": "ef9d4f9b-ddee-4aed-89f1-0c525d7cf4ec",
   "metadata": {},
   "outputs": [
    {
     "data": {
      "text/plain": [
       "['roll over']"
      ]
     },
     "execution_count": 36,
     "metadata": {},
     "output_type": "execute_result"
    }
   ],
   "source": [
    "d.tricks"
   ]
  },
  {
   "cell_type": "code",
   "execution_count": 37,
   "id": "84f085f2-2fda-441c-a49d-c9fdb0c1e34e",
   "metadata": {},
   "outputs": [
    {
     "data": {
      "text/plain": [
       "['play dead']"
      ]
     },
     "execution_count": 37,
     "metadata": {},
     "output_type": "execute_result"
    }
   ],
   "source": [
    "e.tricks"
   ]
  },
  {
   "cell_type": "code",
   "execution_count": 38,
   "id": "0746c11c-f164-4ecc-9a5c-8f4464528b00",
   "metadata": {},
   "outputs": [],
   "source": [
    "class Warehouse:\n",
    "   purpose = 'storage'\n",
    "   region = 'west'\n",
    "\n",
    "w1 = Warehouse()"
   ]
  },
  {
   "cell_type": "code",
   "execution_count": 39,
   "id": "48100d34-ffb4-4623-ab85-853fae40e5e1",
   "metadata": {},
   "outputs": [
    {
     "name": "stdout",
     "output_type": "stream",
     "text": [
      "storage west\n"
     ]
    }
   ],
   "source": [
    "print(w1.purpose, w1.region)"
   ]
  },
  {
   "cell_type": "code",
   "execution_count": 40,
   "id": "b66405b8-0ada-4f1d-89be-45a2465ba2a8",
   "metadata": {},
   "outputs": [],
   "source": [
    "w2 = Warehouse()\n",
    "w2.region = 'east'"
   ]
  },
  {
   "cell_type": "code",
   "execution_count": 41,
   "id": "11672fc8-2abd-4871-91c1-d9ddc1aefbca",
   "metadata": {},
   "outputs": [
    {
     "name": "stdout",
     "output_type": "stream",
     "text": [
      "storage east\n"
     ]
    }
   ],
   "source": [
    "print(w2.purpose, w2.region)"
   ]
  },
  {
   "cell_type": "code",
   "execution_count": 42,
   "id": "f156ab43-06ec-4fd4-bf5c-83574c3bc40c",
   "metadata": {},
   "outputs": [],
   "source": [
    "# Function defined outside the class\n",
    "def f1(self, x, y):\n",
    "    return min(x, x+y)\n",
    "\n",
    "class C:\n",
    "    f = f1\n",
    "\n",
    "    def g(self):\n",
    "        return 'hello world'\n",
    "\n",
    "    h = g"
   ]
  },
  {
   "cell_type": "code",
   "execution_count": 56,
   "id": "33ef652b-1dc1-472f-819f-63d1c221060d",
   "metadata": {},
   "outputs": [],
   "source": [
    "c = C() #인스턴스 설정"
   ]
  },
  {
   "cell_type": "code",
   "execution_count": 49,
   "id": "2844be6a-ea94-4bc6-b546-3c7cecd5972b",
   "metadata": {},
   "outputs": [
    {
     "data": {
      "text/plain": [
       "<bound method f1 of <__main__.C object at 0x0000023D2F903E30>>"
      ]
     },
     "execution_count": 49,
     "metadata": {},
     "output_type": "execute_result"
    }
   ],
   "source": [
    "c.f"
   ]
  },
  {
   "cell_type": "code",
   "execution_count": 50,
   "id": "be983a3b-0b87-4fff-beda-389e991ae4df",
   "metadata": {},
   "outputs": [
    {
     "data": {
      "text/plain": [
       "<bound method C.g of <__main__.C object at 0x0000023D2F903E30>>"
      ]
     },
     "execution_count": 50,
     "metadata": {},
     "output_type": "execute_result"
    }
   ],
   "source": [
    "c.g"
   ]
  },
  {
   "cell_type": "code",
   "execution_count": 51,
   "id": "f11c1633-9ea0-4f15-a2dd-66311c9aedcf",
   "metadata": {},
   "outputs": [
    {
     "data": {
      "text/plain": [
       "'hello world'"
      ]
     },
     "execution_count": 51,
     "metadata": {},
     "output_type": "execute_result"
    }
   ],
   "source": [
    "c.g()"
   ]
  },
  {
   "cell_type": "code",
   "execution_count": 55,
   "id": "0c856f91-d67e-4c7a-ba3e-fa9b9f8da7f2",
   "metadata": {},
   "outputs": [
    {
     "data": {
      "text/plain": [
       "9"
      ]
     },
     "execution_count": 55,
     "metadata": {},
     "output_type": "execute_result"
    }
   ],
   "source": [
    "c.f(9,3)"
   ]
  },
  {
   "cell_type": "code",
   "execution_count": 57,
   "id": "6ce50862-9870-49ea-9797-6da8d576f93a",
   "metadata": {},
   "outputs": [],
   "source": [
    "class Bag:\n",
    "    def __init__(self):\n",
    "        self.data=[]\n",
    "    def add(self,x):\n",
    "        self.data.append(x)\n",
    "    def addtwice(self, x):\n",
    "        self.add(x)\n",
    "        self.add(x)"
   ]
  },
  {
   "cell_type": "code",
   "execution_count": 58,
   "id": "d4cd2976-ac64-4216-8ed3-d5440a57a025",
   "metadata": {},
   "outputs": [],
   "source": [
    "bag = Bag()"
   ]
  },
  {
   "cell_type": "code",
   "execution_count": 59,
   "id": "1f1f14d4-abdd-46f7-a680-ffec26a65626",
   "metadata": {},
   "outputs": [],
   "source": [
    "bag.add(4)"
   ]
  },
  {
   "cell_type": "code",
   "execution_count": 60,
   "id": "17f96613-9ae8-4e6b-b555-a5d38d1591b8",
   "metadata": {},
   "outputs": [
    {
     "data": {
      "text/plain": [
       "[4]"
      ]
     },
     "execution_count": 60,
     "metadata": {},
     "output_type": "execute_result"
    }
   ],
   "source": [
    "bag.data"
   ]
  },
  {
   "cell_type": "code",
   "execution_count": 61,
   "id": "31c5f4bf-93ab-4c2a-8234-ef523c0fe997",
   "metadata": {},
   "outputs": [],
   "source": [
    "bag.add(7)"
   ]
  },
  {
   "cell_type": "code",
   "execution_count": 62,
   "id": "c840a171-2bcd-4299-b607-72b5c2ee0f75",
   "metadata": {},
   "outputs": [
    {
     "data": {
      "text/plain": [
       "[4, 7]"
      ]
     },
     "execution_count": 62,
     "metadata": {},
     "output_type": "execute_result"
    }
   ],
   "source": [
    "bag.data"
   ]
  },
  {
   "cell_type": "code",
   "execution_count": 63,
   "id": "5c118428-d7e0-4f5f-a747-2f4f084f4e17",
   "metadata": {},
   "outputs": [],
   "source": [
    "bag.addtwice(6)"
   ]
  },
  {
   "cell_type": "code",
   "execution_count": 64,
   "id": "0ef610ae-42b3-4f8f-9df3-574ff32d3f43",
   "metadata": {},
   "outputs": [
    {
     "data": {
      "text/plain": [
       "[4, 7, 6, 6]"
      ]
     },
     "execution_count": 64,
     "metadata": {},
     "output_type": "execute_result"
    }
   ],
   "source": [
    "bag.data"
   ]
  },
  {
   "cell_type": "code",
   "execution_count": 65,
   "id": "0a631452-7915-43af-8037-3bf5fbbb41df",
   "metadata": {},
   "outputs": [],
   "source": [
    "from dataclasses import dataclass\n",
    "\n",
    "@dataclass\n",
    "class Employee:\n",
    "    name: str\n",
    "    dept: str\n",
    "    salary: int"
   ]
  },
  {
   "cell_type": "code",
   "execution_count": 66,
   "id": "7dba7511-524d-4850-b0fc-2c34cce8f26d",
   "metadata": {},
   "outputs": [],
   "source": [
    "john = Employee('john', 'computer lab', 1000)"
   ]
  },
  {
   "cell_type": "code",
   "execution_count": 67,
   "id": "a35d7635-8feb-498a-a9ec-b73ead620f2c",
   "metadata": {},
   "outputs": [
    {
     "data": {
      "text/plain": [
       "'computer lab'"
      ]
     },
     "execution_count": 67,
     "metadata": {},
     "output_type": "execute_result"
    }
   ],
   "source": [
    "john.dept"
   ]
  },
  {
   "cell_type": "code",
   "execution_count": 68,
   "id": "b1b0cf93-5891-4805-9ece-22e1d8a0b1e6",
   "metadata": {},
   "outputs": [
    {
     "data": {
      "text/plain": [
       "1000"
      ]
     },
     "execution_count": 68,
     "metadata": {},
     "output_type": "execute_result"
    }
   ],
   "source": [
    "john.salary"
   ]
  },
  {
   "cell_type": "code",
   "execution_count": 76,
   "id": "e7ff2941-14c8-4750-b21c-ab4a07670737",
   "metadata": {},
   "outputs": [],
   "source": [
    "class Employee:\n",
    "    def __init__(self, name: str, dept: str, salary: int):\n",
    "        name: str\n",
    "        dept: str\n",
    "        salary: int"
   ]
  },
  {
   "cell_type": "code",
   "execution_count": 78,
   "id": "fba96b72-d36c-4eb3-aa4e-8902cabb0942",
   "metadata": {},
   "outputs": [],
   "source": [
    "e = Employee('john', 'www', 300)"
   ]
  },
  {
   "cell_type": "code",
   "execution_count": 80,
   "id": "910d54f6-91d5-467b-8bce-b2ff26d4f3ac",
   "metadata": {},
   "outputs": [
    {
     "data": {
      "text/plain": [
       "<__main__.Employee at 0x23d2f2ddb80>"
      ]
     },
     "execution_count": 80,
     "metadata": {},
     "output_type": "execute_result"
    }
   ],
   "source": [
    "e"
   ]
  },
  {
   "cell_type": "code",
   "execution_count": 84,
   "id": "796c35bb-b50c-4ef5-88b9-b75106f86e7d",
   "metadata": {},
   "outputs": [
    {
     "name": "stdout",
     "output_type": "stream",
     "text": [
      "<__main__.Employee object at 0x0000023D2F2DDB80>\n"
     ]
    }
   ],
   "source": [
    "print(e)"
   ]
  },
  {
   "cell_type": "code",
   "execution_count": 85,
   "id": "ffc891a1-31ce-451c-8c53-b7f7974604d2",
   "metadata": {},
   "outputs": [
    {
     "data": {
      "text/plain": [
       "<__main__.Employee at 0x23d2f2ddb80>"
      ]
     },
     "execution_count": 85,
     "metadata": {},
     "output_type": "execute_result"
    }
   ],
   "source": [
    "e"
   ]
  },
  {
   "cell_type": "code",
   "execution_count": 87,
   "id": "664d255f-1ddd-4345-be94-95e1fa5533d3",
   "metadata": {},
   "outputs": [
    {
     "name": "stdout",
     "output_type": "stream",
     "text": [
      "1\n",
      "2\n",
      "3\n",
      "1\n",
      "2\n",
      "3\n",
      "one\n",
      "two\n",
      "1\n",
      "2\n",
      "3\n"
     ]
    }
   ],
   "source": [
    "for element in [1, 2, 3]:\n",
    "    print(element)\n",
    "for element in (1, 2, 3):\n",
    "    print(element)\n",
    "for key in {'one':1, 'two':2}:\n",
    "    print(key)\n",
    "for char in \"123\":\n",
    "    print(char)"
   ]
  },
  {
   "cell_type": "code",
   "execution_count": 101,
   "id": "bbf733b8-1731-476e-888a-e51ceb6db9ae",
   "metadata": {},
   "outputs": [],
   "source": [
    "s = 'abc'"
   ]
  },
  {
   "cell_type": "code",
   "execution_count": 93,
   "id": "c5a59d0b-96db-4b85-b606-a2f01942b9c7",
   "metadata": {},
   "outputs": [
    {
     "data": {
      "text/plain": [
       "'abc'"
      ]
     },
     "execution_count": 93,
     "metadata": {},
     "output_type": "execute_result"
    }
   ],
   "source": [
    "s"
   ]
  },
  {
   "cell_type": "code",
   "execution_count": 102,
   "id": "588f665c-d877-4263-a647-d70030bd4ee1",
   "metadata": {},
   "outputs": [],
   "source": [
    "it = iter(s)"
   ]
  },
  {
   "cell_type": "code",
   "execution_count": 103,
   "id": "c189b947-3442-4263-9cab-4a9b9fea188d",
   "metadata": {},
   "outputs": [
    {
     "data": {
      "text/plain": [
       "<str_ascii_iterator at 0x23d2f9019f0>"
      ]
     },
     "execution_count": 103,
     "metadata": {},
     "output_type": "execute_result"
    }
   ],
   "source": [
    "it"
   ]
  },
  {
   "cell_type": "code",
   "execution_count": 106,
   "id": "f4d88a33-116d-4e38-a500-7fdb61f8bb49",
   "metadata": {},
   "outputs": [
    {
     "data": {
      "text/plain": [
       "'c'"
      ]
     },
     "execution_count": 106,
     "metadata": {},
     "output_type": "execute_result"
    }
   ],
   "source": [
    "next(it)"
   ]
  },
  {
   "cell_type": "code",
   "execution_count": 107,
   "id": "85a40fda-d465-4020-9f59-3890aac800bf",
   "metadata": {},
   "outputs": [],
   "source": [
    "class Reverse:\n",
    "    \"\"\"Iterator for looping over a sequence backwards.\"\"\"\n",
    "    def __init__(self, data):\n",
    "        self.data = data\n",
    "        self.index = len(data)\n",
    "\n",
    "    def __iter__(self):\n",
    "        return self\n",
    "\n",
    "    def __next__(self):\n",
    "        if self.index == 0:\n",
    "            raise StopIteration\n",
    "        self.index = self.index - 1\n",
    "        return self.data[self.index]"
   ]
  },
  {
   "cell_type": "code",
   "execution_count": 108,
   "id": "c1b2033e-732e-4c2b-a2e1-32d8750e5af3",
   "metadata": {},
   "outputs": [
    {
     "data": {
      "text/plain": [
       "<__main__.Reverse at 0x23d2f98be30>"
      ]
     },
     "execution_count": 108,
     "metadata": {},
     "output_type": "execute_result"
    }
   ],
   "source": [
    "rev = Reverse('spam')\n",
    "iter(rev)"
   ]
  },
  {
   "cell_type": "code",
   "execution_count": 109,
   "id": "f1663f80-9cf3-40e1-a22f-b7fd6e67fef3",
   "metadata": {},
   "outputs": [
    {
     "name": "stdout",
     "output_type": "stream",
     "text": [
      "m\n",
      "a\n",
      "p\n",
      "s\n"
     ]
    }
   ],
   "source": [
    "for char in rev:\n",
    "    print(char)"
   ]
  },
  {
   "cell_type": "code",
   "execution_count": 110,
   "id": "41bf5e86-752c-4b9b-a294-4bce9fa01bea",
   "metadata": {},
   "outputs": [],
   "source": [
    "def reverse(data):\n",
    "    for index in range(len(data)-1, -1, -1):\n",
    "        yield data[index]"
   ]
  },
  {
   "cell_type": "code",
   "execution_count": 111,
   "id": "d315882d-c7ed-46fd-9380-461cbdd88b15",
   "metadata": {},
   "outputs": [
    {
     "name": "stdout",
     "output_type": "stream",
     "text": [
      "f\n",
      "l\n",
      "o\n",
      "g\n"
     ]
    }
   ],
   "source": [
    "for char in reverse('golf'):\n",
    "    print(char)"
   ]
  },
  {
   "cell_type": "code",
   "execution_count": 112,
   "id": "23b94eed-0841-4f66-b320-d8b39c918a6b",
   "metadata": {},
   "outputs": [
    {
     "data": {
      "text/plain": [
       "285"
      ]
     },
     "execution_count": 112,
     "metadata": {},
     "output_type": "execute_result"
    }
   ],
   "source": [
    "sum(i*i for i in range(10))"
   ]
  },
  {
   "cell_type": "code",
   "execution_count": 113,
   "id": "fdac15d4-be24-4a33-baaf-055ac3d3e1d7",
   "metadata": {},
   "outputs": [
    {
     "data": {
      "text/plain": [
       "260"
      ]
     },
     "execution_count": 113,
     "metadata": {},
     "output_type": "execute_result"
    }
   ],
   "source": [
    "xvec = [10, 20, 30]\n",
    "yvec = [7, 5, 3]\n",
    "sum(x*y for x,y in zip(xvec, yvec)) "
   ]
  },
  {
   "cell_type": "code",
   "execution_count": 114,
   "id": "019e5f3c-26d2-436b-93a8-f3e4775fbb4e",
   "metadata": {},
   "outputs": [
    {
     "ename": "NameError",
     "evalue": "name 'page' is not defined",
     "output_type": "error",
     "traceback": [
      "\u001b[1;31m---------------------------------------------------------------------------\u001b[0m",
      "\u001b[1;31mNameError\u001b[0m                                 Traceback (most recent call last)",
      "Cell \u001b[1;32mIn[114], line 1\u001b[0m\n\u001b[1;32m----> 1\u001b[0m unique_words \u001b[38;5;241m=\u001b[39m \u001b[38;5;28mset\u001b[39m(word \u001b[38;5;28;01mfor\u001b[39;00m line \u001b[38;5;129;01min\u001b[39;00m \u001b[43mpage\u001b[49m  \u001b[38;5;28;01mfor\u001b[39;00m word \u001b[38;5;129;01min\u001b[39;00m line\u001b[38;5;241m.\u001b[39msplit())\n",
      "\u001b[1;31mNameError\u001b[0m: name 'page' is not defined"
     ]
    }
   ],
   "source": [
    "unique_words = set(word for line in page  for word in line.split())"
   ]
  },
  {
   "cell_type": "code",
   "execution_count": 115,
   "id": "c2d629ac-193c-40e3-8096-7d60a3acd9af",
   "metadata": {},
   "outputs": [
    {
     "ename": "NameError",
     "evalue": "name 'graduates' is not defined",
     "output_type": "error",
     "traceback": [
      "\u001b[1;31m---------------------------------------------------------------------------\u001b[0m",
      "\u001b[1;31mNameError\u001b[0m                                 Traceback (most recent call last)",
      "Cell \u001b[1;32mIn[115], line 1\u001b[0m\n\u001b[1;32m----> 1\u001b[0m valedictorian \u001b[38;5;241m=\u001b[39m \u001b[38;5;28mmax\u001b[39m((student\u001b[38;5;241m.\u001b[39mgpa, student\u001b[38;5;241m.\u001b[39mname) \u001b[38;5;28;01mfor\u001b[39;00m student \u001b[38;5;129;01min\u001b[39;00m \u001b[43mgraduates\u001b[49m)\n",
      "\u001b[1;31mNameError\u001b[0m: name 'graduates' is not defined"
     ]
    }
   ],
   "source": [
    "valedictorian = max((student.gpa, student.name) for student in graduates)"
   ]
  },
  {
   "cell_type": "code",
   "execution_count": 116,
   "id": "74acc020-ba18-438d-9f29-eaceb586384f",
   "metadata": {},
   "outputs": [
    {
     "data": {
      "text/plain": [
       "['f', 'l', 'o', 'g']"
      ]
     },
     "execution_count": 116,
     "metadata": {},
     "output_type": "execute_result"
    }
   ],
   "source": [
    "data = 'golf'\n",
    "list(data[i] for i in range(len(data)-1, -1, -1))"
   ]
  },
  {
   "cell_type": "code",
   "execution_count": null,
   "id": "b394044a-894f-4b3f-94b3-b8c85752ae8e",
   "metadata": {},
   "outputs": [],
   "source": []
  }
 ],
 "metadata": {
  "kernelspec": {
   "display_name": "Python 3 (ipykernel)",
   "language": "python",
   "name": "python3"
  },
  "language_info": {
   "codemirror_mode": {
    "name": "ipython",
    "version": 3
   },
   "file_extension": ".py",
   "mimetype": "text/x-python",
   "name": "python",
   "nbconvert_exporter": "python",
   "pygments_lexer": "ipython3",
   "version": "3.12.4"
  }
 },
 "nbformat": 4,
 "nbformat_minor": 5
}
